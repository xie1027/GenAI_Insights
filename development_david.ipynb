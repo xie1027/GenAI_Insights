{
 "cells": [
  {
   "cell_type": "raw",
   "metadata": {},
   "source": [
    "https://pypi.org/project/sketch/\n",
    "https://pypi.org/project/pandas-llm/\n",
    "https://coinsbench.com/chat-with-your-databases-using-langchain-bb7d31ed2e76\n",
    "https://medium.com/@hannanmentor/python-custom-chatgpt-with-your-own-data-f307635dd5bd\n",
    "https://cyberdioxide.medium.com/code-your-own-chatgpt-9b58b271490b\n",
    "\n",
    "pip freeze > requirements.txt"
   ]
  },
  {
   "cell_type": "code",
   "execution_count": 27,
   "metadata": {},
   "outputs": [],
   "source": [
    "import os\n",
    "import sketch\n",
    "import pandas as pd\n",
    "from pandas_llm import PandasLLM\n",
    "from collections import namedtuple\n",
    "from typing import NamedTuple"
   ]
  },
  {
   "cell_type": "code",
   "execution_count": 2,
   "metadata": {},
   "outputs": [],
   "source": [
    "# Pandas DataFrame type hint\n",
    "PandasDF = pd.DataFrame"
   ]
  },
  {
   "cell_type": "code",
   "execution_count": 3,
   "metadata": {},
   "outputs": [],
   "source": [
    "# NamedTuple type hint\n",
    "class ParametersType(NamedTuple):\n",
    "    acs_path: str"
   ]
  },
  {
   "cell_type": "code",
   "execution_count": 4,
   "metadata": {},
   "outputs": [],
   "source": [
    "Parameters: ParametersType = ParametersType(\n",
    "    acs_path = './Data/ACS_2012_21.csv',\n",
    ")"
   ]
  },
  {
   "cell_type": "code",
   "execution_count": 14,
   "metadata": {},
   "outputs": [
    {
     "name": "stdout",
     "output_type": "stream",
     "text": [
      "<class 'pandas.core.frame.DataFrame'>\n",
      "RangeIndex: 520 entries, 0 to 519\n",
      "Data columns (total 95 columns):\n",
      " #   Column                                                        Non-Null Count  Dtype  \n",
      "---  ------                                                        --------------  -----  \n",
      " 0   Geography                                                     520 non-null    object \n",
      " 1   Geographic Area Name                                          520 non-null    object \n",
      " 2   Total population                                              520 non-null    int64  \n",
      " 3   Male                                                          520 non-null    int64  \n",
      " 4   Female                                                        520 non-null    int64  \n",
      " 5   Under 5 years                                                 520 non-null    int64  \n",
      " 6   5 to 9 years                                                  520 non-null    int64  \n",
      " 7   10 to 14 years                                                520 non-null    int64  \n",
      " 8   15 to 19 years                                                520 non-null    int64  \n",
      " 9   20 to 24 years                                                520 non-null    int64  \n",
      " 10  25 to 34 years                                                520 non-null    int64  \n",
      " 11  35 to 44 years                                                520 non-null    int64  \n",
      " 12  45 to 54 years                                                520 non-null    int64  \n",
      " 13  55 to 59 years                                                520 non-null    int64  \n",
      " 14  60 to 64 years                                                520 non-null    int64  \n",
      " 15  65 to 74 years                                                520 non-null    int64  \n",
      " 16  75 to 84 years                                                520 non-null    int64  \n",
      " 17  85 years and over                                             520 non-null    int64  \n",
      " 18  Median age (years)                                            520 non-null    float64\n",
      " 19  18 years and over                                             520 non-null    int64  \n",
      " 20  21 years and over                                             520 non-null    int64  \n",
      " 21  65 years and over                                             520 non-null    int64  \n",
      " 22  One race                                                      520 non-null    int64  \n",
      " 23  Two or more races                                             520 non-null    int64  \n",
      " 24  White                                                         520 non-null    int64  \n",
      " 25  Black or African American                                     520 non-null    int64  \n",
      " 26  American Indian and Alaska Native                             520 non-null    int64  \n",
      " 27  Asian                                                         520 non-null    int64  \n",
      " 28  Native Hawaiian and Other Pacific Islander                    520 non-null    int64  \n",
      " 29  Some other race                                               520 non-null    int64  \n",
      " 30  Hispanic or Latino (of any race)                              520 non-null    int64  \n",
      " 31  Not Hispanic or Latino                                        520 non-null    int64  \n",
      " 32  Total housing units_x                                         520 non-null    int64  \n",
      " 33  YEAR                                                          520 non-null    int64  \n",
      " 34  Total households                                              510 non-null    float64\n",
      " 35  Households with one or more people under 18 years             510 non-null    float64\n",
      " 36  Households with one or more people 65 years and over          510 non-null    float64\n",
      " 37  Average household size                                        510 non-null    float64\n",
      " 38  Males 15 years and over                                       510 non-null    float64\n",
      " 39  Never married, Males 15 years and over                        510 non-null    float64\n",
      " 40  Now married, except separated, Males 15 years and over        510 non-null    float64\n",
      " 41  Separated, Males 15 years and over                            510 non-null    float64\n",
      " 42  Widowed, Males 15 years and over                              510 non-null    float64\n",
      " 43  Divorced, Males 15 years and over                             510 non-null    float64\n",
      " 44  Females 15 years and over                                     510 non-null    float64\n",
      " 45  Never married, Females 15 years and over                      510 non-null    float64\n",
      " 46  Now married, except separated, Females 15 years and over      510 non-null    float64\n",
      " 47  Separated, Females 15 years and over                          510 non-null    float64\n",
      " 48  Widowed, Females 15 years and over                            510 non-null    float64\n",
      " 49  Divorced, Females 15 years and over                           510 non-null    float64\n",
      " 50  Population 3 years and over enrolled in school                510 non-null    float64\n",
      " 51  Population 25 years and over                                  510 non-null    float64\n",
      " 52  Less than 9th grade                                           510 non-null    float64\n",
      " 53  9th to 12th grade, no diploma                                 510 non-null    float64\n",
      " 54  High school graduate (includes equivalency)                   510 non-null    float64\n",
      " 55  Some college, no degree                                       510 non-null    float64\n",
      " 56  Associate's degree                                            510 non-null    float64\n",
      " 57  Bachelor's degree                                             510 non-null    float64\n",
      " 58  Graduate or professional degree                               510 non-null    float64\n",
      " 59  Native                                                        510 non-null    float64\n",
      " 60  Foreign born                                                  510 non-null    float64\n",
      " 61  Language other than English                                   510 non-null    float64\n",
      " 62  Population 16 years and over                                  520 non-null    int64  \n",
      " 63  In labor force                                                520 non-null    int64  \n",
      " 64  Civilian labor force                                          520 non-null    int64  \n",
      " 65  Employed                                                      520 non-null    int64  \n",
      " 66  Unemployed                                                    520 non-null    int64  \n",
      " 67  Armed Forces                                                  520 non-null    int64  \n",
      " 68  Not in labor force                                            520 non-null    int64  \n",
      " 69  Civilian employed population 16 years and over                520 non-null    int64  \n",
      " 70  Management, business, science, and arts occupations           520 non-null    int64  \n",
      " 71  Service occupations                                           520 non-null    int64  \n",
      " 72  Sales and office occupations                                  520 non-null    int64  \n",
      " 73  Natural resources, construction, and maintenance occupations  520 non-null    int64  \n",
      " 74  Production, transportation, and material moving occupations   520 non-null    int64  \n",
      " 75  Median family income (dollars)                                520 non-null    int64  \n",
      " 76  Mean family income (dollars)                                  520 non-null    int64  \n",
      " 77  Per capita income (dollars)                                   520 non-null    int64  \n",
      " 78  Civilian noninstitutionalized population                      520 non-null    int64  \n",
      " 79  With health insurance coverage                                520 non-null    int64  \n",
      " 80  With private health insurance                                 520 non-null    int64  \n",
      " 81  With public coverage                                          520 non-null    int64  \n",
      " 82  No health insurance coverage                                  520 non-null    int64  \n",
      " 83  Total housing units_y                                         520 non-null    int64  \n",
      " 84  Occupied housing units                                        520 non-null    int64  \n",
      " 85  Vacant housing units                                          520 non-null    int64  \n",
      " 86  Homeowner vacancy rate                                        520 non-null    float64\n",
      " 87  Rental vacancy rate                                           520 non-null    float64\n",
      " 88  Median rooms                                                  520 non-null    float64\n",
      " 89  Median (dollars), Value                                       520 non-null    int64  \n",
      " 90  Owner-occupied units                                          520 non-null    int64  \n",
      " 91  Housing units with a mortgage                                 520 non-null    int64  \n",
      " 92  Housing units without a mortgage                              520 non-null    int64  \n",
      " 93  Median (dollars), Rent                                        520 non-null    int64  \n",
      " 94  No rent paid                                                  520 non-null    int64  \n",
      "dtypes: float64(32), int64(61), object(2)\n",
      "memory usage: 386.1+ KB\n"
     ]
    },
    {
     "data": {
      "text/plain": [
       "None"
      ]
     },
     "metadata": {},
     "output_type": "display_data"
    },
    {
     "data": {
      "text/html": [
       "<div>\n",
       "<style scoped>\n",
       "    .dataframe tbody tr th:only-of-type {\n",
       "        vertical-align: middle;\n",
       "    }\n",
       "\n",
       "    .dataframe tbody tr th {\n",
       "        vertical-align: top;\n",
       "    }\n",
       "\n",
       "    .dataframe thead th {\n",
       "        text-align: right;\n",
       "    }\n",
       "</style>\n",
       "<table border=\"1\" class=\"dataframe\">\n",
       "  <thead>\n",
       "    <tr style=\"text-align: right;\">\n",
       "      <th></th>\n",
       "      <th>Geography</th>\n",
       "      <th>Geographic Area Name</th>\n",
       "      <th>Total population</th>\n",
       "      <th>Male</th>\n",
       "      <th>Female</th>\n",
       "      <th>Under 5 years</th>\n",
       "      <th>5 to 9 years</th>\n",
       "      <th>10 to 14 years</th>\n",
       "      <th>15 to 19 years</th>\n",
       "      <th>20 to 24 years</th>\n",
       "      <th>...</th>\n",
       "      <th>Vacant housing units</th>\n",
       "      <th>Homeowner vacancy rate</th>\n",
       "      <th>Rental vacancy rate</th>\n",
       "      <th>Median rooms</th>\n",
       "      <th>Median (dollars), Value</th>\n",
       "      <th>Owner-occupied units</th>\n",
       "      <th>Housing units with a mortgage</th>\n",
       "      <th>Housing units without a mortgage</th>\n",
       "      <th>Median (dollars), Rent</th>\n",
       "      <th>No rent paid</th>\n",
       "    </tr>\n",
       "  </thead>\n",
       "  <tbody>\n",
       "    <tr>\n",
       "      <th>0</th>\n",
       "      <td>0400000US01</td>\n",
       "      <td>Alabama</td>\n",
       "      <td>4777326</td>\n",
       "      <td>2317520</td>\n",
       "      <td>2459806</td>\n",
       "      <td>305091</td>\n",
       "      <td>309360</td>\n",
       "      <td>318484</td>\n",
       "      <td>337159</td>\n",
       "      <td>340808</td>\n",
       "      <td>...</td>\n",
       "      <td>335071</td>\n",
       "      <td>2.5</td>\n",
       "      <td>9.0</td>\n",
       "      <td>5.7</td>\n",
       "      <td>122300</td>\n",
       "      <td>1289324</td>\n",
       "      <td>776946</td>\n",
       "      <td>512378</td>\n",
       "      <td>691</td>\n",
       "      <td>63064</td>\n",
       "    </tr>\n",
       "    <tr>\n",
       "      <th>1</th>\n",
       "      <td>0400000US01</td>\n",
       "      <td>Alabama</td>\n",
       "      <td>4817678</td>\n",
       "      <td>2336020</td>\n",
       "      <td>2481658</td>\n",
       "      <td>299571</td>\n",
       "      <td>304412</td>\n",
       "      <td>321104</td>\n",
       "      <td>327579</td>\n",
       "      <td>347110</td>\n",
       "      <td>...</td>\n",
       "      <td>339433</td>\n",
       "      <td>2.5</td>\n",
       "      <td>8.9</td>\n",
       "      <td>5.7</td>\n",
       "      <td>122500</td>\n",
       "      <td>1281604</td>\n",
       "      <td>762450</td>\n",
       "      <td>519154</td>\n",
       "      <td>705</td>\n",
       "      <td>62178</td>\n",
       "    </tr>\n",
       "    <tr>\n",
       "      <th>2</th>\n",
       "      <td>0400000US01</td>\n",
       "      <td>Alabama</td>\n",
       "      <td>4799277</td>\n",
       "      <td>2328592</td>\n",
       "      <td>2470685</td>\n",
       "      <td>301925</td>\n",
       "      <td>306456</td>\n",
       "      <td>320031</td>\n",
       "      <td>332287</td>\n",
       "      <td>345240</td>\n",
       "      <td>...</td>\n",
       "      <td>348464</td>\n",
       "      <td>2.6</td>\n",
       "      <td>9.0</td>\n",
       "      <td>5.7</td>\n",
       "      <td>123800</td>\n",
       "      <td>1274196</td>\n",
       "      <td>751234</td>\n",
       "      <td>522962</td>\n",
       "      <td>715</td>\n",
       "      <td>62842</td>\n",
       "    </tr>\n",
       "    <tr>\n",
       "      <th>3</th>\n",
       "      <td>0400000US01</td>\n",
       "      <td>Alabama</td>\n",
       "      <td>4841164</td>\n",
       "      <td>2346193</td>\n",
       "      <td>2494971</td>\n",
       "      <td>292771</td>\n",
       "      <td>305707</td>\n",
       "      <td>313980</td>\n",
       "      <td>324809</td>\n",
       "      <td>342489</td>\n",
       "      <td>...</td>\n",
       "      <td>351004</td>\n",
       "      <td>2.5</td>\n",
       "      <td>9.0</td>\n",
       "      <td>5.7</td>\n",
       "      <td>125500</td>\n",
       "      <td>1269145</td>\n",
       "      <td>738618</td>\n",
       "      <td>530527</td>\n",
       "      <td>717</td>\n",
       "      <td>63906</td>\n",
       "    </tr>\n",
       "    <tr>\n",
       "      <th>4</th>\n",
       "      <td>0400000US01</td>\n",
       "      <td>Alabama</td>\n",
       "      <td>4830620</td>\n",
       "      <td>2341093</td>\n",
       "      <td>2489527</td>\n",
       "      <td>295054</td>\n",
       "      <td>305714</td>\n",
       "      <td>318437</td>\n",
       "      <td>324020</td>\n",
       "      <td>348044</td>\n",
       "      <td>...</td>\n",
       "      <td>358274</td>\n",
       "      <td>2.4</td>\n",
       "      <td>9.4</td>\n",
       "      <td>5.7</td>\n",
       "      <td>128500</td>\n",
       "      <td>1267824</td>\n",
       "      <td>730637</td>\n",
       "      <td>537187</td>\n",
       "      <td>728</td>\n",
       "      <td>65161</td>\n",
       "    </tr>\n",
       "  </tbody>\n",
       "</table>\n",
       "<p>5 rows × 95 columns</p>\n",
       "</div>"
      ],
      "text/plain": [
       "     Geography Geographic Area Name  Total population     Male   Female  \\\n",
       "0  0400000US01              Alabama           4777326  2317520  2459806   \n",
       "1  0400000US01              Alabama           4817678  2336020  2481658   \n",
       "2  0400000US01              Alabama           4799277  2328592  2470685   \n",
       "3  0400000US01              Alabama           4841164  2346193  2494971   \n",
       "4  0400000US01              Alabama           4830620  2341093  2489527   \n",
       "\n",
       "   Under 5 years  5 to 9 years  10 to 14 years  15 to 19 years  \\\n",
       "0         305091        309360          318484          337159   \n",
       "1         299571        304412          321104          327579   \n",
       "2         301925        306456          320031          332287   \n",
       "3         292771        305707          313980          324809   \n",
       "4         295054        305714          318437          324020   \n",
       "\n",
       "   20 to 24 years  ...  Vacant housing units  Homeowner vacancy rate  \\\n",
       "0          340808  ...                335071                     2.5   \n",
       "1          347110  ...                339433                     2.5   \n",
       "2          345240  ...                348464                     2.6   \n",
       "3          342489  ...                351004                     2.5   \n",
       "4          348044  ...                358274                     2.4   \n",
       "\n",
       "   Rental vacancy rate  Median rooms  Median (dollars), Value  \\\n",
       "0                  9.0           5.7                   122300   \n",
       "1                  8.9           5.7                   122500   \n",
       "2                  9.0           5.7                   123800   \n",
       "3                  9.0           5.7                   125500   \n",
       "4                  9.4           5.7                   128500   \n",
       "\n",
       "   Owner-occupied units  Housing units with a mortgage  \\\n",
       "0               1289324                         776946   \n",
       "1               1281604                         762450   \n",
       "2               1274196                         751234   \n",
       "3               1269145                         738618   \n",
       "4               1267824                         730637   \n",
       "\n",
       "   Housing units without a mortgage  Median (dollars), Rent  No rent paid  \n",
       "0                            512378                     691         63064  \n",
       "1                            519154                     705         62178  \n",
       "2                            522962                     715         62842  \n",
       "3                            530527                     717         63906  \n",
       "4                            537187                     728         65161  \n",
       "\n",
       "[5 rows x 95 columns]"
      ]
     },
     "metadata": {},
     "output_type": "display_data"
    }
   ],
   "source": [
    "acs_df: PandasDF = pd.read_csv(Parameters.acs_path)\n",
    "acs_df.drop(columns=[\"Unnamed: 0\"], inplace=True)\n",
    "display(acs_df.info())\n",
    "display(acs_df.head())"
   ]
  },
  {
   "cell_type": "markdown",
   "metadata": {},
   "source": [
    "# Sketch\n",
    "https://pypi.org/project/sketch/"
   ]
  },
  {
   "cell_type": "code",
   "execution_count": 30,
   "metadata": {},
   "outputs": [],
   "source": [
    "questions: set[str] = {\n",
    "    \"Which columns are integer type?\",\n",
    "    \"How to plot the distribution of the columns?\",\n",
    "    \"How to plot Male and Female population distributions?\",\n",
    "    \"Is there any association between the Male and Female columns?\",\n",
    "}"
   ]
  },
  {
   "cell_type": "code",
   "execution_count": 31,
   "metadata": {},
   "outputs": [
    {
     "name": "stdout",
     "output_type": "stream",
     "text": [
      "How to plot Male and Female population distributions?\n"
     ]
    },
    {
     "data": {
      "text/html": [
       "\n",
       "To plot the Male and Female population distributions, you can use the pandas library to create a bar chart. First, you need to create a dataframe with the Male and Female population columns. Then, you can use the pandas plot.bar() function to create a bar chart with the Male and Female population data. You can also customize the chart by adding labels, colors, and other features."
      ],
      "text/plain": [
       "<IPython.core.display.HTML object>"
      ]
     },
     "metadata": {},
     "output_type": "display_data"
    },
    {
     "name": "stdout",
     "output_type": "stream",
     "text": [
      "\n",
      "Is there any association between the Male and Female columns?\n"
     ]
    },
    {
     "data": {
      "text/html": [
       "\n",
       "Yes, there is an association between the Male and Female columns. The two columns have the same number of rows and unique count, indicating that the data in each column is related. Additionally, the values in each column are closely related, with the Female column typically having a slightly higher value than the Male column. This suggests that there is a strong association between the two columns."
      ],
      "text/plain": [
       "<IPython.core.display.HTML object>"
      ]
     },
     "metadata": {},
     "output_type": "display_data"
    },
    {
     "name": "stdout",
     "output_type": "stream",
     "text": [
      "\n",
      "Which columns are integer type?\n"
     ]
    },
    {
     "data": {
      "text/html": [
       "\n",
       "index, Total population, Male, Female, Under 5 years, 5 to 9 years, 10 to 14 years, 15 to 19 years, 20 to 24 years, 25 to 34 years, 35 to 44 years, 45 to 54 years, 55 to 59 years, 60 to 64 years, 65 to 74 years, 75 to 84 years, 85 years and over.\n"
      ],
      "text/plain": [
       "<IPython.core.display.HTML object>"
      ]
     },
     "metadata": {},
     "output_type": "display_data"
    },
    {
     "name": "stdout",
     "output_type": "stream",
     "text": [
      "\n",
      "How to plot the distribution of the columns?\n"
     ]
    },
    {
     "data": {
      "text/html": [
       "\n",
       "To plot the distribution of the columns in the dataframe [df], you can use the pandas library's plotting functions. For example, you can use the df.plot() function to create a histogram of each column, or the df.boxplot() function to create a boxplot of each column. You can also use the seaborn library's plotting functions, such as sns.distplot() and sns.boxplot(), to create more detailed plots of the data."
      ],
      "text/plain": [
       "<IPython.core.display.HTML object>"
      ]
     },
     "metadata": {},
     "output_type": "display_data"
    },
    {
     "name": "stdout",
     "output_type": "stream",
     "text": [
      "\n"
     ]
    }
   ],
   "source": [
    "for q in questions:\n",
    "    print(q)\n",
    "    acs_df.iloc[:, :19].sketch.ask(f\"{q}\")\n",
    "    print()"
   ]
  },
  {
   "cell_type": "markdown",
   "metadata": {},
   "source": [
    "# pandas-LLM\n",
    "https://pypi.org/project/pandas-llm/  \n",
    "\n",
    "NEED TO ADD API KEY"
   ]
  },
  {
   "cell_type": "raw",
   "metadata": {},
   "source": [
    "# Data\n",
    "# Please note that these names, ages, and donations are randomly generated \n",
    "# and do not correspond to real individuals or their donations.\n",
    "data = [('John Doe', 25, 50), \n",
    "        ('Jane Smith', 38, 70),\n",
    "        ('Alex Johnson', 45, 80),\n",
    "        ('Jessica Brown', 60, 40),\n",
    "        ('Michael Davis', 22, 90),\n",
    "        ('Emily Wilson', 30, 60),\n",
    "        ('Daniel Taylor', 35, 75),\n",
    "        ('Sophia Moore', 40, 85),\n",
    "        ('David Thomas', 50, 65),\n",
    "        ('Olivia Jackson', 29, 55)]\n",
    "df = pd.DataFrame(data, columns=['name', 'age', 'donation'])\n",
    "\n",
    "conv_df = PandasLLM(data=df, llm_api_key = os.environ.get(\"OPENAI_API_KEY\"))\n",
    "result = conv_df.prompt(\"What is the average donation of people older than 40 who donated more than $50?\")\n",
    "code = conv_df.code_block\n",
    "\n",
    "print(f\"Executing the following expression of type {type(result)}:\\n{code}\\n\\nResult is:\\n {result}\\n\")\n",
    "# Executing the following expression of type <class 'numpy.float64'>:\n",
    "# result = df.loc[(df['age'] > 40) & (df['donation'] > 50), 'donation'].mean()\n",
    "\n",
    "# Result is:\n",
    "#  72.5"
   ]
  },
  {
   "cell_type": "markdown",
   "metadata": {},
   "source": [
    "# LangChain\n",
    "https://coinsbench.com/chat-with-your-databases-using-langchain-bb7d31ed2e76  \n",
    "https://medium.com/@hannanmentor/python-custom-chatgpt-with-your-own-data-f307635dd5bd  \n",
    "\n",
    "NEED TO ADD API KEY"
   ]
  },
  {
   "cell_type": "raw",
   "metadata": {},
   "source": []
  },
  {
   "cell_type": "raw",
   "metadata": {},
   "source": []
  },
  {
   "cell_type": "raw",
   "metadata": {},
   "source": []
  }
 ],
 "metadata": {
  "kernelspec": {
   "display_name": ".venv",
   "language": "python",
   "name": "python3"
  },
  "language_info": {
   "codemirror_mode": {
    "name": "ipython",
    "version": 3
   },
   "file_extension": ".py",
   "mimetype": "text/x-python",
   "name": "python",
   "nbconvert_exporter": "python",
   "pygments_lexer": "ipython3",
   "version": "3.10.12"
  },
  "orig_nbformat": 4
 },
 "nbformat": 4,
 "nbformat_minor": 2
}
