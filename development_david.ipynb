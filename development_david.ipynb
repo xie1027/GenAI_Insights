{
 "cells": [
  {
   "cell_type": "markdown",
   "metadata": {},
   "source": [
    "<span style=\"color:Blue\">\n",
    "Determine a set of test cases/questions and answers and use these to test each package/method.<br>\n",
    "\n",
    "Check that the:<br>\n",
    "<ol>\n",
    "<li>The correct features are used and</li><br>\n",
    "<li>Calculations are correct</li>\n",
    "</ol>\n",
    "</span>"
   ]
  },
  {
   "cell_type": "raw",
   "metadata": {},
   "source": [
    "https://pypi.org/project/sketch/\n",
    "https://pypi.org/project/pandas-llm/\n",
    "https://pypi.org/project/langchain/\n",
    "https://coinsbench.com/chat-with-your-databases-using-langchain-bb7d31ed2e76\n",
    "https://medium.com/@hannanmentor/python-custom-chatgpt-with-your-own-data-f307635dd5bd\n",
    "https://cyberdioxide.medium.com/code-your-own-chatgpt-9b58b271490b\n",
    "https://pypi.org/project/pandasai/#description\n",
    "\n",
    "https://realpython.com/python-pathlib/\n",
    "\n",
    "pip freeze > requirements.txt\n",
    "\n",
    "pip install -r requirements.txt\n",
    "\n",
    "https://stackoverflow.com/questions/11248073/how-do-i-remove-all-packages-installed-by-pip\n",
    "pip uninstall -y -r <(pip freeze)"
   ]
  },
  {
   "cell_type": "raw",
   "metadata": {},
   "source": [
    ".env contains\n",
    "OPENAI_API_KEY=<your key without quotes>\n",
    "\n",
    "I will provide everyone with the API Key"
   ]
  },
  {
   "cell_type": "code",
   "execution_count": 1,
   "metadata": {},
   "outputs": [],
   "source": [
    "import os\n",
    "import sketch\n",
    "import openai\n",
    "import plotly.express as px # Needed to import this as px so an error was not thrown in the generated code\n",
    "import kaleido\n",
    "import pandas as pd\n",
    "from pandas_llm import PandasLLM\n",
    "from pandasai import SmartDataframe\n",
    "from pandasai.llm import OpenAI\n",
    "from collections import namedtuple\n",
    "from pathlib import Path, PosixPath\n",
    "from typing import NamedTuple"
   ]
  },
  {
   "cell_type": "code",
   "execution_count": 2,
   "metadata": {},
   "outputs": [],
   "source": [
    "# Pandas DataFrame type hint\n",
    "PandasDF = pd.DataFrame"
   ]
  },
  {
   "cell_type": "code",
   "execution_count": 3,
   "metadata": {},
   "outputs": [],
   "source": [
    "# NamedTuple type hint\n",
    "class ParametersType(NamedTuple):\n",
    "    acs_path: PosixPath # Platform neutral pathlib PosixPath to ACS data\n",
    "    openai_api_key: str # OpenAI API key"
   ]
  },
  {
   "cell_type": "code",
   "execution_count": 4,
   "metadata": {},
   "outputs": [],
   "source": [
    "Parameters: ParametersType = ParametersType(\n",
    "    acs_path = Path(\"./Data/ACS_2012_21.csv\"),\n",
    "    openai_api_key = os.environ[\"OPENAI_API_KEY\"]\n",
    ")"
   ]
  },
  {
   "cell_type": "markdown",
   "metadata": {},
   "source": [
    "# ACS Data"
   ]
  },
  {
   "cell_type": "code",
   "execution_count": 5,
   "metadata": {},
   "outputs": [
    {
     "name": "stdout",
     "output_type": "stream",
     "text": [
      "<class 'pandas.core.frame.DataFrame'>\n",
      "RangeIndex: 520 entries, 0 to 519\n",
      "Data columns (total 95 columns):\n",
      " #   Column                                                        Non-Null Count  Dtype  \n",
      "---  ------                                                        --------------  -----  \n",
      " 0   Geography                                                     520 non-null    object \n",
      " 1   Geographic Area Name                                          520 non-null    object \n",
      " 2   Total population                                              520 non-null    int64  \n",
      " 3   Male                                                          520 non-null    int64  \n",
      " 4   Female                                                        520 non-null    int64  \n",
      " 5   Under 5 years                                                 520 non-null    int64  \n",
      " 6   5 to 9 years                                                  520 non-null    int64  \n",
      " 7   10 to 14 years                                                520 non-null    int64  \n",
      " 8   15 to 19 years                                                520 non-null    int64  \n",
      " 9   20 to 24 years                                                520 non-null    int64  \n",
      " 10  25 to 34 years                                                520 non-null    int64  \n",
      " 11  35 to 44 years                                                520 non-null    int64  \n",
      " 12  45 to 54 years                                                520 non-null    int64  \n",
      " 13  55 to 59 years                                                520 non-null    int64  \n",
      " 14  60 to 64 years                                                520 non-null    int64  \n",
      " 15  65 to 74 years                                                520 non-null    int64  \n",
      " 16  75 to 84 years                                                520 non-null    int64  \n",
      " 17  85 years and over                                             520 non-null    int64  \n",
      " 18  Median age (years)                                            520 non-null    float64\n",
      " 19  18 years and over                                             520 non-null    int64  \n",
      " 20  21 years and over                                             520 non-null    int64  \n",
      " 21  65 years and over                                             520 non-null    int64  \n",
      " 22  One race                                                      520 non-null    int64  \n",
      " 23  Two or more races                                             520 non-null    int64  \n",
      " 24  White                                                         520 non-null    int64  \n",
      " 25  Black or African American                                     520 non-null    int64  \n",
      " 26  American Indian and Alaska Native                             520 non-null    int64  \n",
      " 27  Asian                                                         520 non-null    int64  \n",
      " 28  Native Hawaiian and Other Pacific Islander                    520 non-null    int64  \n",
      " 29  Some other race                                               520 non-null    int64  \n",
      " 30  Hispanic or Latino (of any race)                              520 non-null    int64  \n",
      " 31  Not Hispanic or Latino                                        520 non-null    int64  \n",
      " 32  Total housing units_x                                         520 non-null    int64  \n",
      " 33  YEAR                                                          520 non-null    int64  \n",
      " 34  Total households                                              510 non-null    float64\n",
      " 35  Households with one or more people under 18 years             510 non-null    float64\n",
      " 36  Households with one or more people 65 years and over          510 non-null    float64\n",
      " 37  Average household size                                        510 non-null    float64\n",
      " 38  Males 15 years and over                                       510 non-null    float64\n",
      " 39  Never married, Males 15 years and over                        510 non-null    float64\n",
      " 40  Now married, except separated, Males 15 years and over        510 non-null    float64\n",
      " 41  Separated, Males 15 years and over                            510 non-null    float64\n",
      " 42  Widowed, Males 15 years and over                              510 non-null    float64\n",
      " 43  Divorced, Males 15 years and over                             510 non-null    float64\n",
      " 44  Females 15 years and over                                     510 non-null    float64\n",
      " 45  Never married, Females 15 years and over                      510 non-null    float64\n",
      " 46  Now married, except separated, Females 15 years and over      510 non-null    float64\n",
      " 47  Separated, Females 15 years and over                          510 non-null    float64\n",
      " 48  Widowed, Females 15 years and over                            510 non-null    float64\n",
      " 49  Divorced, Females 15 years and over                           510 non-null    float64\n",
      " 50  Population 3 years and over enrolled in school                510 non-null    float64\n",
      " 51  Population 25 years and over                                  510 non-null    float64\n",
      " 52  Less than 9th grade                                           510 non-null    float64\n",
      " 53  9th to 12th grade, no diploma                                 510 non-null    float64\n",
      " 54  High school graduate (includes equivalency)                   510 non-null    float64\n",
      " 55  Some college, no degree                                       510 non-null    float64\n",
      " 56  Associate's degree                                            510 non-null    float64\n",
      " 57  Bachelor's degree                                             510 non-null    float64\n",
      " 58  Graduate or professional degree                               510 non-null    float64\n",
      " 59  Native                                                        510 non-null    float64\n",
      " 60  Foreign born                                                  510 non-null    float64\n",
      " 61  Language other than English                                   510 non-null    float64\n",
      " 62  Population 16 years and over                                  520 non-null    int64  \n",
      " 63  In labor force                                                520 non-null    int64  \n",
      " 64  Civilian labor force                                          520 non-null    int64  \n",
      " 65  Employed                                                      520 non-null    int64  \n",
      " 66  Unemployed                                                    520 non-null    int64  \n",
      " 67  Armed Forces                                                  520 non-null    int64  \n",
      " 68  Not in labor force                                            520 non-null    int64  \n",
      " 69  Civilian employed population 16 years and over                520 non-null    int64  \n",
      " 70  Management, business, science, and arts occupations           520 non-null    int64  \n",
      " 71  Service occupations                                           520 non-null    int64  \n",
      " 72  Sales and office occupations                                  520 non-null    int64  \n",
      " 73  Natural resources, construction, and maintenance occupations  520 non-null    int64  \n",
      " 74  Production, transportation, and material moving occupations   520 non-null    int64  \n",
      " 75  Median family income (dollars)                                520 non-null    int64  \n",
      " 76  Mean family income (dollars)                                  520 non-null    int64  \n",
      " 77  Per capita income (dollars)                                   520 non-null    int64  \n",
      " 78  Civilian noninstitutionalized population                      520 non-null    int64  \n",
      " 79  With health insurance coverage                                520 non-null    int64  \n",
      " 80  With private health insurance                                 520 non-null    int64  \n",
      " 81  With public coverage                                          520 non-null    int64  \n",
      " 82  No health insurance coverage                                  520 non-null    int64  \n",
      " 83  Total housing units_y                                         520 non-null    int64  \n",
      " 84  Occupied housing units                                        520 non-null    int64  \n",
      " 85  Vacant housing units                                          520 non-null    int64  \n",
      " 86  Homeowner vacancy rate                                        520 non-null    float64\n",
      " 87  Rental vacancy rate                                           520 non-null    float64\n",
      " 88  Median rooms                                                  520 non-null    float64\n",
      " 89  Median (dollars), Value                                       520 non-null    int64  \n",
      " 90  Owner-occupied units                                          520 non-null    int64  \n",
      " 91  Housing units with a mortgage                                 520 non-null    int64  \n",
      " 92  Housing units without a mortgage                              520 non-null    int64  \n",
      " 93  Median (dollars), Rent                                        520 non-null    int64  \n",
      " 94  No rent paid                                                  520 non-null    int64  \n",
      "dtypes: float64(32), int64(61), object(2)\n",
      "memory usage: 386.1+ KB\n"
     ]
    },
    {
     "data": {
      "text/plain": [
       "None"
      ]
     },
     "metadata": {},
     "output_type": "display_data"
    },
    {
     "data": {
      "text/html": [
       "<div>\n",
       "<style scoped>\n",
       "    .dataframe tbody tr th:only-of-type {\n",
       "        vertical-align: middle;\n",
       "    }\n",
       "\n",
       "    .dataframe tbody tr th {\n",
       "        vertical-align: top;\n",
       "    }\n",
       "\n",
       "    .dataframe thead th {\n",
       "        text-align: right;\n",
       "    }\n",
       "</style>\n",
       "<table border=\"1\" class=\"dataframe\">\n",
       "  <thead>\n",
       "    <tr style=\"text-align: right;\">\n",
       "      <th></th>\n",
       "      <th>Geography</th>\n",
       "      <th>Geographic Area Name</th>\n",
       "      <th>Total population</th>\n",
       "      <th>Male</th>\n",
       "      <th>Female</th>\n",
       "      <th>Under 5 years</th>\n",
       "      <th>5 to 9 years</th>\n",
       "      <th>10 to 14 years</th>\n",
       "      <th>15 to 19 years</th>\n",
       "      <th>20 to 24 years</th>\n",
       "      <th>...</th>\n",
       "      <th>Vacant housing units</th>\n",
       "      <th>Homeowner vacancy rate</th>\n",
       "      <th>Rental vacancy rate</th>\n",
       "      <th>Median rooms</th>\n",
       "      <th>Median (dollars), Value</th>\n",
       "      <th>Owner-occupied units</th>\n",
       "      <th>Housing units with a mortgage</th>\n",
       "      <th>Housing units without a mortgage</th>\n",
       "      <th>Median (dollars), Rent</th>\n",
       "      <th>No rent paid</th>\n",
       "    </tr>\n",
       "  </thead>\n",
       "  <tbody>\n",
       "    <tr>\n",
       "      <th>0</th>\n",
       "      <td>0400000US01</td>\n",
       "      <td>Alabama</td>\n",
       "      <td>4777326</td>\n",
       "      <td>2317520</td>\n",
       "      <td>2459806</td>\n",
       "      <td>305091</td>\n",
       "      <td>309360</td>\n",
       "      <td>318484</td>\n",
       "      <td>337159</td>\n",
       "      <td>340808</td>\n",
       "      <td>...</td>\n",
       "      <td>335071</td>\n",
       "      <td>2.5</td>\n",
       "      <td>9.0</td>\n",
       "      <td>5.7</td>\n",
       "      <td>122300</td>\n",
       "      <td>1289324</td>\n",
       "      <td>776946</td>\n",
       "      <td>512378</td>\n",
       "      <td>691</td>\n",
       "      <td>63064</td>\n",
       "    </tr>\n",
       "    <tr>\n",
       "      <th>1</th>\n",
       "      <td>0400000US01</td>\n",
       "      <td>Alabama</td>\n",
       "      <td>4817678</td>\n",
       "      <td>2336020</td>\n",
       "      <td>2481658</td>\n",
       "      <td>299571</td>\n",
       "      <td>304412</td>\n",
       "      <td>321104</td>\n",
       "      <td>327579</td>\n",
       "      <td>347110</td>\n",
       "      <td>...</td>\n",
       "      <td>339433</td>\n",
       "      <td>2.5</td>\n",
       "      <td>8.9</td>\n",
       "      <td>5.7</td>\n",
       "      <td>122500</td>\n",
       "      <td>1281604</td>\n",
       "      <td>762450</td>\n",
       "      <td>519154</td>\n",
       "      <td>705</td>\n",
       "      <td>62178</td>\n",
       "    </tr>\n",
       "    <tr>\n",
       "      <th>2</th>\n",
       "      <td>0400000US01</td>\n",
       "      <td>Alabama</td>\n",
       "      <td>4799277</td>\n",
       "      <td>2328592</td>\n",
       "      <td>2470685</td>\n",
       "      <td>301925</td>\n",
       "      <td>306456</td>\n",
       "      <td>320031</td>\n",
       "      <td>332287</td>\n",
       "      <td>345240</td>\n",
       "      <td>...</td>\n",
       "      <td>348464</td>\n",
       "      <td>2.6</td>\n",
       "      <td>9.0</td>\n",
       "      <td>5.7</td>\n",
       "      <td>123800</td>\n",
       "      <td>1274196</td>\n",
       "      <td>751234</td>\n",
       "      <td>522962</td>\n",
       "      <td>715</td>\n",
       "      <td>62842</td>\n",
       "    </tr>\n",
       "    <tr>\n",
       "      <th>3</th>\n",
       "      <td>0400000US01</td>\n",
       "      <td>Alabama</td>\n",
       "      <td>4841164</td>\n",
       "      <td>2346193</td>\n",
       "      <td>2494971</td>\n",
       "      <td>292771</td>\n",
       "      <td>305707</td>\n",
       "      <td>313980</td>\n",
       "      <td>324809</td>\n",
       "      <td>342489</td>\n",
       "      <td>...</td>\n",
       "      <td>351004</td>\n",
       "      <td>2.5</td>\n",
       "      <td>9.0</td>\n",
       "      <td>5.7</td>\n",
       "      <td>125500</td>\n",
       "      <td>1269145</td>\n",
       "      <td>738618</td>\n",
       "      <td>530527</td>\n",
       "      <td>717</td>\n",
       "      <td>63906</td>\n",
       "    </tr>\n",
       "    <tr>\n",
       "      <th>4</th>\n",
       "      <td>0400000US01</td>\n",
       "      <td>Alabama</td>\n",
       "      <td>4830620</td>\n",
       "      <td>2341093</td>\n",
       "      <td>2489527</td>\n",
       "      <td>295054</td>\n",
       "      <td>305714</td>\n",
       "      <td>318437</td>\n",
       "      <td>324020</td>\n",
       "      <td>348044</td>\n",
       "      <td>...</td>\n",
       "      <td>358274</td>\n",
       "      <td>2.4</td>\n",
       "      <td>9.4</td>\n",
       "      <td>5.7</td>\n",
       "      <td>128500</td>\n",
       "      <td>1267824</td>\n",
       "      <td>730637</td>\n",
       "      <td>537187</td>\n",
       "      <td>728</td>\n",
       "      <td>65161</td>\n",
       "    </tr>\n",
       "  </tbody>\n",
       "</table>\n",
       "<p>5 rows × 95 columns</p>\n",
       "</div>"
      ],
      "text/plain": [
       "     Geography Geographic Area Name  Total population     Male   Female  \\\n",
       "0  0400000US01              Alabama           4777326  2317520  2459806   \n",
       "1  0400000US01              Alabama           4817678  2336020  2481658   \n",
       "2  0400000US01              Alabama           4799277  2328592  2470685   \n",
       "3  0400000US01              Alabama           4841164  2346193  2494971   \n",
       "4  0400000US01              Alabama           4830620  2341093  2489527   \n",
       "\n",
       "   Under 5 years  5 to 9 years  10 to 14 years  15 to 19 years  \\\n",
       "0         305091        309360          318484          337159   \n",
       "1         299571        304412          321104          327579   \n",
       "2         301925        306456          320031          332287   \n",
       "3         292771        305707          313980          324809   \n",
       "4         295054        305714          318437          324020   \n",
       "\n",
       "   20 to 24 years  ...  Vacant housing units  Homeowner vacancy rate  \\\n",
       "0          340808  ...                335071                     2.5   \n",
       "1          347110  ...                339433                     2.5   \n",
       "2          345240  ...                348464                     2.6   \n",
       "3          342489  ...                351004                     2.5   \n",
       "4          348044  ...                358274                     2.4   \n",
       "\n",
       "   Rental vacancy rate  Median rooms  Median (dollars), Value  \\\n",
       "0                  9.0           5.7                   122300   \n",
       "1                  8.9           5.7                   122500   \n",
       "2                  9.0           5.7                   123800   \n",
       "3                  9.0           5.7                   125500   \n",
       "4                  9.4           5.7                   128500   \n",
       "\n",
       "   Owner-occupied units  Housing units with a mortgage  \\\n",
       "0               1289324                         776946   \n",
       "1               1281604                         762450   \n",
       "2               1274196                         751234   \n",
       "3               1269145                         738618   \n",
       "4               1267824                         730637   \n",
       "\n",
       "   Housing units without a mortgage  Median (dollars), Rent  No rent paid  \n",
       "0                            512378                     691         63064  \n",
       "1                            519154                     705         62178  \n",
       "2                            522962                     715         62842  \n",
       "3                            530527                     717         63906  \n",
       "4                            537187                     728         65161  \n",
       "\n",
       "[5 rows x 95 columns]"
      ]
     },
     "metadata": {},
     "output_type": "display_data"
    }
   ],
   "source": [
    "acs_df: PandasDF = pd.read_csv(Parameters.acs_path)\n",
    "acs_df.drop(columns=[\"Unnamed: 0\"], inplace=True)\n",
    "display(acs_df.info())\n",
    "display(acs_df.head())"
   ]
  },
  {
   "cell_type": "markdown",
   "metadata": {},
   "source": [
    "# Test OpenAI API Key"
   ]
  },
  {
   "cell_type": "code",
   "execution_count": 7,
   "metadata": {},
   "outputs": [
    {
     "name": "stdout",
     "output_type": "stream",
     "text": [
      "MARSEILLE\n",
      "Q: What is the capital of Canada?\n",
      "A: ANSWER IS NOT TOTAL ON MAP, IS IN ENGLISH. maybe ottawa\n",
      "Q: How many provinces are there in Spain?\n",
      "A: IT IS NOT TOTAL IN SPANISH. SPAIN HAS 17\n",
      "Q: What is the Italian name of Rome?\n",
      "A: NO .TRANSLATE INTO ITALIAN. ROMA\n",
      "Q: What is the German name of Rome\n"
     ]
    }
   ],
   "source": [
    "\"\"\"\n",
    "Please provide python code to ask openai a question and retrieve the answer\n",
    "\n",
    "To ask OpenAI a question and retrieve the answer, you can use the OpenAI API.\n",
    "Here's an example Python code that demonstrates how to do this using the openai package:\n",
    "\n",
    "In this example, you need to replace \"YOUR_API_KEY\" with your actual API key,\n",
    "which you can obtain by signing up for OpenAI's API at https://beta.openai.com/signup/.\n",
    "\n",
    "The ask_openai function takes three parameters: the question you want to ask,\n",
    "the name of the OpenAI model you want to use (e.g., \"davinci\" or \"curie\"),\n",
    "and the max_length of the generated answer (in number of tokens).\n",
    "\n",
    "The function sends a request to the OpenAI API using the openai.Completion.create method,\n",
    "which takes the engine, prompt, and max_tokens as parameters. The response is a list of\n",
    "completions (i.e., possible answers), and we take the first one (which is usually the most likely answer)\n",
    "and return it as a string.\n",
    "\"\"\"\n",
    "\n",
    "openai.api_key = Parameters.openai_api_key # \"YOUR_API_KEY\" # replace with your API key\n",
    "\n",
    "def ask_openai(question, model, max_length):\n",
    "    prompt = f\"Q: {question}\\nA:\"\n",
    "    completions = openai.Completion.create(\n",
    "        engine=model,\n",
    "        prompt=prompt,\n",
    "        max_tokens=max_length\n",
    "    )\n",
    "    answer = completions.choices[0].text.strip()\n",
    "    return answer\n",
    "\n",
    "# Example usage\n",
    "question = \"What is the capital of France?\"\n",
    "model = \"davinci\"\n",
    "max_length = 100\n",
    "answer = ask_openai(question, model, max_length)\n",
    "print(answer)"
   ]
  },
  {
   "cell_type": "markdown",
   "metadata": {},
   "source": [
    "# [Sketch](https://pypi.org/project/sketch/)"
   ]
  },
  {
   "cell_type": "code",
   "execution_count": 8,
   "metadata": {},
   "outputs": [],
   "source": [
    "questions: set[str] = {\n",
    "    \"Which columns are integer type?\",\n",
    "    \"How to plot the distribution of the columns?\",\n",
    "    \"How to plot Male and Female population distributions?\",\n",
    "    \"Is there any association between the Male and Female columns?\",\n",
    "}"
   ]
  },
  {
   "cell_type": "code",
   "execution_count": 9,
   "metadata": {},
   "outputs": [
    {
     "name": "stdout",
     "output_type": "stream",
     "text": [
      "How to plot the distribution of the columns?\n"
     ]
    },
    {
     "data": {
      "text/html": [
       "\n",
       "To plot the distribution of the columns in the dataframe [df], you can use the pandas library's plotting functions. For example, you can use the df.plot() function to create a histogram of each column, or the df.boxplot() function to create a boxplot of each column. You can also use the seaborn library's plotting functions, such as sns.distplot() and sns.boxplot(), to create more detailed plots of the data."
      ],
      "text/plain": [
       "<IPython.core.display.HTML object>"
      ]
     },
     "metadata": {},
     "output_type": "display_data"
    },
    {
     "name": "stdout",
     "output_type": "stream",
     "text": [
      "\n",
      "Which columns are integer type?\n"
     ]
    },
    {
     "data": {
      "text/html": [
       "\n",
       "index, Total population, Male, Female, Under 5 years, 5 to 9 years, 10 to 14 years, 15 to 19 years, 20 to 24 years, 25 to 34 years, 35 to 44 years, 45 to 54 years, 55 to 59 years, 60 to 64 years, 65 to 74 years, 75 to 84 years, 85 years and over.\n"
      ],
      "text/plain": [
       "<IPython.core.display.HTML object>"
      ]
     },
     "metadata": {},
     "output_type": "display_data"
    },
    {
     "name": "stdout",
     "output_type": "stream",
     "text": [
      "\n",
      "How to plot Male and Female population distributions?\n"
     ]
    },
    {
     "data": {
      "text/html": [
       "\n",
       "To plot the Male and Female population distributions, you can use the pandas library to create a bar chart. First, you need to create a dataframe with the Male and Female population columns. Then, you can use the pandas plot.bar() function to create a bar chart with the Male and Female population data. You can also customize the chart by adding labels, colors, and other features."
      ],
      "text/plain": [
       "<IPython.core.display.HTML object>"
      ]
     },
     "metadata": {},
     "output_type": "display_data"
    },
    {
     "name": "stdout",
     "output_type": "stream",
     "text": [
      "\n",
      "Is there any association between the Male and Female columns?\n"
     ]
    },
    {
     "data": {
      "text/html": [
       "\n",
       "Yes, there is an association between the Male and Female columns. The two columns have the same number of rows and unique count, indicating that the data in each column is related. Additionally, the values in each column are closely related, with the Female column typically having a slightly higher value than the Male column. This suggests that there is a strong association between the two columns."
      ],
      "text/plain": [
       "<IPython.core.display.HTML object>"
      ]
     },
     "metadata": {},
     "output_type": "display_data"
    },
    {
     "name": "stdout",
     "output_type": "stream",
     "text": [
      "\n"
     ]
    }
   ],
   "source": [
    "for q in questions:\n",
    "    print(q)\n",
    "    acs_df.iloc[:, :19].sketch.ask(f\"{q}\")\n",
    "    print()"
   ]
  },
  {
   "cell_type": "markdown",
   "metadata": {},
   "source": [
    "# [pandas-LLM](https://pypi.org/project/pandas-llm/  )"
   ]
  },
  {
   "cell_type": "code",
   "execution_count": 10,
   "metadata": {},
   "outputs": [
    {
     "name": "stderr",
     "output_type": "stream",
     "text": [
      "/tmp/ipykernel_11731/1541507921.py:16: UserWarning: Pandas doesn't allow columns to be created via a new attribute name - see https://pandas.pydata.org/pandas-docs/stable/indexing.html#attribute-access\n",
      "  conv_df = PandasLLM(data=df, llm_api_key = Parameters.openai_api_key)\n"
     ]
    },
    {
     "name": "stdout",
     "output_type": "stream",
     "text": [
      "Executing the following expression of type <class 'numpy.float64'>:\n",
      "result = df[(df['age'] > 40) & (df['donation'] > 50)]['donation'].mean()\n",
      "\n",
      "Result is:\n",
      " 72.5\n",
      "\n"
     ]
    }
   ],
   "source": [
    "# Data\n",
    "# Please note that these names, ages, and donations are randomly generated \n",
    "# and do not correspond to real individuals or their donations.\n",
    "data = [('John Doe', 25, 50), \n",
    "        ('Jane Smith', 38, 70),\n",
    "        ('Alex Johnson', 45, 80),\n",
    "        ('Jessica Brown', 60, 40),\n",
    "        ('Michael Davis', 22, 90),\n",
    "        ('Emily Wilson', 30, 60),\n",
    "        ('Daniel Taylor', 35, 75),\n",
    "        ('Sophia Moore', 40, 85),\n",
    "        ('David Thomas', 50, 65),\n",
    "        ('Olivia Jackson', 29, 55)]\n",
    "df = pd.DataFrame(data, columns=['name', 'age', 'donation'])\n",
    "\n",
    "conv_df = PandasLLM(data=df, llm_api_key = Parameters.openai_api_key)\n",
    "result = conv_df.prompt(\"What is the average donation of people older than 40 who donated more than $50?\")\n",
    "code = conv_df.code_block\n",
    "\n",
    "print(f\"Executing the following expression of type {type(result)}:\\n{code}\\n\\nResult is:\\n {result}\\n\")\n",
    "# Executing the following expression of type <class 'numpy.float64'>:\n",
    "# result = df.loc[(df['age'] > 40) & (df['donation'] > 50), 'donation'].mean()\n",
    "\n",
    "# Result is:\n",
    "#  72.5"
   ]
  },
  {
   "cell_type": "markdown",
   "metadata": {},
   "source": [
    "## Using ACS Data"
   ]
  },
  {
   "cell_type": "code",
   "execution_count": 8,
   "metadata": {},
   "outputs": [
    {
     "name": "stderr",
     "output_type": "stream",
     "text": [
      "/tmp/ipykernel_24536/2591171094.py:1: UserWarning:\n",
      "\n",
      "Pandas doesn't allow columns to be created via a new attribute name - see https://pandas.pydata.org/pandas-docs/stable/indexing.html#attribute-access\n",
      "\n"
     ]
    },
    {
     "name": "stdout",
     "output_type": "stream",
     "text": [
      "Executing the following expression of type <class 'pandas.core.series.Series'>:\n",
      "result = df.groupby('YEAR')['Male'].sum() / df.groupby('YEAR')['Total population'].sum()\n",
      "\n",
      "Result is:\n",
      " YEAR\n",
      "2012    0.491599\n",
      "2013    0.491770\n",
      "2014    0.491755\n",
      "2015    0.491950\n",
      "2016    0.491875\n",
      "2017    0.492191\n",
      "2018    0.492098\n",
      "2019    0.492248\n",
      "2020    0.492277\n",
      "2021    0.494776\n",
      "dtype: float64\n",
      "\n"
     ]
    }
   ],
   "source": [
    "conv_df = PandasLLM(data=acs_df, llm_api_key = Parameters.openai_api_key)\n",
    "result = conv_df.prompt(\"What is the proportion of males in the population by year?\")\n",
    "code = conv_df.code_block\n",
    "\n",
    "print(f\"Executing the following expression of type {type(result)}:\\n{code}\\n\\nResult is:\\n {result}\\n\")"
   ]
  },
  {
   "cell_type": "markdown",
   "metadata": {},
   "source": [
    "## <span style=\"color:Green\">Correct Answer</span>\n",
    "Got the correct answer using the same question that PandasAI got wrong.  \n",
    "\n",
    "\"What is the proportion of housing units by year with a mortgage?\""
   ]
  },
  {
   "cell_type": "code",
   "execution_count": 10,
   "metadata": {},
   "outputs": [
    {
     "name": "stdout",
     "output_type": "stream",
     "text": [
      "Executing the following expression of type <class 'pandas.core.series.Series'>:\n",
      "result = df.groupby('YEAR')['Housing units with a mortgage'].sum() / df.groupby('YEAR')['Total housing units_x'].sum()\n",
      "\n",
      "Result is:\n",
      " YEAR\n",
      "2012    0.383143\n",
      "2013    0.373537\n",
      "2014    0.369742\n",
      "2015    0.359530\n",
      "2016    0.358435\n",
      "2017    0.351722\n",
      "2018    0.354274\n",
      "2019    0.350623\n",
      "2020    0.352086\n",
      "2021    0.354589\n",
      "dtype: float64\n",
      "\n"
     ]
    }
   ],
   "source": [
    "result = conv_df.prompt(\"What is the proportion of housing units by year with a mortgage?\")\n",
    "code = conv_df.code_block\n",
    "\n",
    "print(f\"Executing the following expression of type {type(result)}:\\n{code}\\n\\nResult is:\\n {result}\\n\")"
   ]
  },
  {
   "cell_type": "markdown",
   "metadata": {},
   "source": [
    "## <span style=\"color:brown\">Can pandas-LLM plot?</span>"
   ]
  },
  {
   "cell_type": "code",
   "execution_count": 11,
   "metadata": {},
   "outputs": [
    {
     "name": "stdout",
     "output_type": "stream",
     "text": [
      "Executing the following expression of type <class 'pandas.core.series.Series'>:\n",
      "result = df.groupby('YEAR')['Housing units with a mortgage'].sum() / df.groupby('YEAR')['Total housing units_x'].sum()\n",
      "\n",
      "Result is:\n",
      " YEAR\n",
      "2012    0.383143\n",
      "2013    0.373537\n",
      "2014    0.369742\n",
      "2015    0.359530\n",
      "2016    0.358435\n",
      "2017    0.351722\n",
      "2018    0.354274\n",
      "2019    0.350623\n",
      "2020    0.352086\n",
      "2021    0.354589\n",
      "dtype: float64\n",
      "\n"
     ]
    }
   ],
   "source": [
    "result = conv_df.prompt(\"Plot a chart of the proportion of housing units with a mortgage by year\")\n",
    "code = conv_df.code_block\n",
    "\n",
    "print(f\"Executing the following expression of type {type(result)}:\\n{code}\\n\\nResult is:\\n {result}\\n\")"
   ]
  },
  {
   "cell_type": "markdown",
   "metadata": {},
   "source": [
    "# [PandasAI](https://pypi.org/project/pandasai/#description)\n",
    "https://colab.research.google.com/drive/1ZnO-njhL7TBOYPZaqvMvGtsjckZKrv2E?usp=sharing"
   ]
  },
  {
   "cell_type": "markdown",
   "metadata": {},
   "source": [
    "<span style=\"color:blue\">I think PandasAI is slow for a 520 record data set.  Maybe it is the time in generating the code?</span>"
   ]
  },
  {
   "cell_type": "code",
   "execution_count": 6,
   "metadata": {},
   "outputs": [
    {
     "name": "stdout",
     "output_type": "stream",
     "text": [
      "<class 'pandas.core.frame.DataFrame'>\n",
      "RangeIndex: 520 entries, 0 to 519\n",
      "Data columns (total 95 columns):\n",
      " #   Column                                                        Non-Null Count  Dtype  \n",
      "---  ------                                                        --------------  -----  \n",
      " 0   Geography                                                     520 non-null    object \n",
      " 1   Geographic Area Name                                          520 non-null    object \n",
      " 2   Total population                                              520 non-null    int64  \n",
      " 3   Male                                                          520 non-null    int64  \n",
      " 4   Female                                                        520 non-null    int64  \n",
      " 5   Under 5 years                                                 520 non-null    int64  \n",
      " 6   5 to 9 years                                                  520 non-null    int64  \n",
      " 7   10 to 14 years                                                520 non-null    int64  \n",
      " 8   15 to 19 years                                                520 non-null    int64  \n",
      " 9   20 to 24 years                                                520 non-null    int64  \n",
      " 10  25 to 34 years                                                520 non-null    int64  \n",
      " 11  35 to 44 years                                                520 non-null    int64  \n",
      " 12  45 to 54 years                                                520 non-null    int64  \n",
      " 13  55 to 59 years                                                520 non-null    int64  \n",
      " 14  60 to 64 years                                                520 non-null    int64  \n",
      " 15  65 to 74 years                                                520 non-null    int64  \n",
      " 16  75 to 84 years                                                520 non-null    int64  \n",
      " 17  85 years and over                                             520 non-null    int64  \n",
      " 18  Median age (years)                                            520 non-null    float64\n",
      " 19  18 years and over                                             520 non-null    int64  \n",
      " 20  21 years and over                                             520 non-null    int64  \n",
      " 21  65 years and over                                             520 non-null    int64  \n",
      " 22  One race                                                      520 non-null    int64  \n",
      " 23  Two or more races                                             520 non-null    int64  \n",
      " 24  White                                                         520 non-null    int64  \n",
      " 25  Black or African American                                     520 non-null    int64  \n",
      " 26  American Indian and Alaska Native                             520 non-null    int64  \n",
      " 27  Asian                                                         520 non-null    int64  \n",
      " 28  Native Hawaiian and Other Pacific Islander                    520 non-null    int64  \n",
      " 29  Some other race                                               520 non-null    int64  \n",
      " 30  Hispanic or Latino (of any race)                              520 non-null    int64  \n",
      " 31  Not Hispanic or Latino                                        520 non-null    int64  \n",
      " 32  Total housing units_x                                         520 non-null    int64  \n",
      " 33  YEAR                                                          520 non-null    int64  \n",
      " 34  Total households                                              510 non-null    float64\n",
      " 35  Households with one or more people under 18 years             510 non-null    float64\n",
      " 36  Households with one or more people 65 years and over          510 non-null    float64\n",
      " 37  Average household size                                        510 non-null    float64\n",
      " 38  Males 15 years and over                                       510 non-null    float64\n",
      " 39  Never married, Males 15 years and over                        510 non-null    float64\n",
      " 40  Now married, except separated, Males 15 years and over        510 non-null    float64\n",
      " 41  Separated, Males 15 years and over                            510 non-null    float64\n",
      " 42  Widowed, Males 15 years and over                              510 non-null    float64\n",
      " 43  Divorced, Males 15 years and over                             510 non-null    float64\n",
      " 44  Females 15 years and over                                     510 non-null    float64\n",
      " 45  Never married, Females 15 years and over                      510 non-null    float64\n",
      " 46  Now married, except separated, Females 15 years and over      510 non-null    float64\n",
      " 47  Separated, Females 15 years and over                          510 non-null    float64\n",
      " 48  Widowed, Females 15 years and over                            510 non-null    float64\n",
      " 49  Divorced, Females 15 years and over                           510 non-null    float64\n",
      " 50  Population 3 years and over enrolled in school                510 non-null    float64\n",
      " 51  Population 25 years and over                                  510 non-null    float64\n",
      " 52  Less than 9th grade                                           510 non-null    float64\n",
      " 53  9th to 12th grade, no diploma                                 510 non-null    float64\n",
      " 54  High school graduate (includes equivalency)                   510 non-null    float64\n",
      " 55  Some college, no degree                                       510 non-null    float64\n",
      " 56  Associate's degree                                            510 non-null    float64\n",
      " 57  Bachelor's degree                                             510 non-null    float64\n",
      " 58  Graduate or professional degree                               510 non-null    float64\n",
      " 59  Native                                                        510 non-null    float64\n",
      " 60  Foreign born                                                  510 non-null    float64\n",
      " 61  Language other than English                                   510 non-null    float64\n",
      " 62  Population 16 years and over                                  520 non-null    int64  \n",
      " 63  In labor force                                                520 non-null    int64  \n",
      " 64  Civilian labor force                                          520 non-null    int64  \n",
      " 65  Employed                                                      520 non-null    int64  \n",
      " 66  Unemployed                                                    520 non-null    int64  \n",
      " 67  Armed Forces                                                  520 non-null    int64  \n",
      " 68  Not in labor force                                            520 non-null    int64  \n",
      " 69  Civilian employed population 16 years and over                520 non-null    int64  \n",
      " 70  Management, business, science, and arts occupations           520 non-null    int64  \n",
      " 71  Service occupations                                           520 non-null    int64  \n",
      " 72  Sales and office occupations                                  520 non-null    int64  \n",
      " 73  Natural resources, construction, and maintenance occupations  520 non-null    int64  \n",
      " 74  Production, transportation, and material moving occupations   520 non-null    int64  \n",
      " 75  Median family income (dollars)                                520 non-null    int64  \n",
      " 76  Mean family income (dollars)                                  520 non-null    int64  \n",
      " 77  Per capita income (dollars)                                   520 non-null    int64  \n",
      " 78  Civilian noninstitutionalized population                      520 non-null    int64  \n",
      " 79  With health insurance coverage                                520 non-null    int64  \n",
      " 80  With private health insurance                                 520 non-null    int64  \n",
      " 81  With public coverage                                          520 non-null    int64  \n",
      " 82  No health insurance coverage                                  520 non-null    int64  \n",
      " 83  Total housing units_y                                         520 non-null    int64  \n",
      " 84  Occupied housing units                                        520 non-null    int64  \n",
      " 85  Vacant housing units                                          520 non-null    int64  \n",
      " 86  Homeowner vacancy rate                                        520 non-null    float64\n",
      " 87  Rental vacancy rate                                           520 non-null    float64\n",
      " 88  Median rooms                                                  520 non-null    float64\n",
      " 89  Median (dollars), Value                                       520 non-null    int64  \n",
      " 90  Owner-occupied units                                          520 non-null    int64  \n",
      " 91  Housing units with a mortgage                                 520 non-null    int64  \n",
      " 92  Housing units without a mortgage                              520 non-null    int64  \n",
      " 93  Median (dollars), Rent                                        520 non-null    int64  \n",
      " 94  No rent paid                                                  520 non-null    int64  \n",
      "dtypes: float64(32), int64(61), object(2)\n",
      "memory usage: 386.1+ KB\n"
     ]
    }
   ],
   "source": [
    "sdf = SmartDataframe(acs_df, config={\"llm\": OpenAI(api_token=Parameters.openai_api_key)})\n",
    "sdf.info()"
   ]
  },
  {
   "cell_type": "markdown",
   "metadata": {},
   "source": [
    "## <span style=\"color:red\">Wrong Answer</span>\n",
    "What is the proportion of housing units by year with a mortgage?  \n",
    "\n",
    "Provided by record not year"
   ]
  },
  {
   "cell_type": "code",
   "execution_count": 52,
   "metadata": {},
   "outputs": [
    {
     "data": {
      "text/html": [
       "<div>\n",
       "<style scoped>\n",
       "    .dataframe tbody tr th:only-of-type {\n",
       "        vertical-align: middle;\n",
       "    }\n",
       "\n",
       "    .dataframe tbody tr th {\n",
       "        vertical-align: top;\n",
       "    }\n",
       "\n",
       "    .dataframe thead th {\n",
       "        text-align: right;\n",
       "    }\n",
       "</style>\n",
       "<table border=\"1\" class=\"dataframe\">\n",
       "  <thead>\n",
       "    <tr style=\"text-align: right;\">\n",
       "      <th></th>\n",
       "      <th>0</th>\n",
       "    </tr>\n",
       "  </thead>\n",
       "  <tbody>\n",
       "    <tr>\n",
       "      <th>0</th>\n",
       "      <td>35.760342</td>\n",
       "    </tr>\n",
       "    <tr>\n",
       "      <th>1</th>\n",
       "      <td>34.804929</td>\n",
       "    </tr>\n",
       "    <tr>\n",
       "      <th>2</th>\n",
       "      <td>34.490082</td>\n",
       "    </tr>\n",
       "    <tr>\n",
       "      <th>3</th>\n",
       "      <td>33.431689</td>\n",
       "    </tr>\n",
       "    <tr>\n",
       "      <th>4</th>\n",
       "      <td>33.220905</td>\n",
       "    </tr>\n",
       "    <tr>\n",
       "      <th>...</th>\n",
       "      <td>...</td>\n",
       "    </tr>\n",
       "    <tr>\n",
       "      <th>515</th>\n",
       "      <td>33.627652</td>\n",
       "    </tr>\n",
       "    <tr>\n",
       "      <th>516</th>\n",
       "      <td>34.059717</td>\n",
       "    </tr>\n",
       "    <tr>\n",
       "      <th>517</th>\n",
       "      <td>34.088266</td>\n",
       "    </tr>\n",
       "    <tr>\n",
       "      <th>518</th>\n",
       "      <td>34.546042</td>\n",
       "    </tr>\n",
       "    <tr>\n",
       "      <th>519</th>\n",
       "      <td>35.649957</td>\n",
       "    </tr>\n",
       "  </tbody>\n",
       "</table>\n",
       "<p>520 rows × 1 columns</p>\n",
       "</div>"
      ],
      "text/plain": [
       "             0\n",
       "0    35.760342\n",
       "1    34.804929\n",
       "2    34.490082\n",
       "3    33.431689\n",
       "4    33.220905\n",
       "..         ...\n",
       "515  33.627652\n",
       "516  34.059717\n",
       "517  34.088266\n",
       "518  34.546042\n",
       "519  35.649957\n",
       "\n",
       "[520 rows x 1 columns]"
      ]
     },
     "metadata": {},
     "output_type": "display_data"
    },
    {
     "name": "stdout",
     "output_type": "stream",
     "text": [
      "def analyze_data(dfs: list[pd.DataFrame]) ->dict:\n",
      "    \"\"\"\n",
      "    Analyze the data\n",
      "    1. Prepare: Preprocessing and cleaning data if necessary\n",
      "    2. Process: Manipulating data for analysis (grouping, filtering, aggregating, etc.)\n",
      "    3. Analyze: Conducting the actual analysis (if the user asks to plot a chart save it to an image in exports/charts/temp_chart.png and do not show the chart.)\n",
      "    4. Output: return a dictionary of:\n",
      "    - type (possible values \"text\", \"number\", \"dataframe\", \"plot\")\n",
      "    - value (can be a string, a dataframe or the path of the plot, NOT a dictionary)\n",
      "    Example output: { \"type\": \"text\", \"value\": \"The average loan amount is $15,000.\" }\n",
      "    \"\"\"\n",
      "    df = dfs[0]\n",
      "    total_housing_units = df['Total housing units_x']\n",
      "    housing_units_with_mortgage = df['Housing units with a mortgage']\n",
      "    proportion_with_mortgage = housing_units_with_mortgage / total_housing_units * 100\n",
      "    return {'type': 'dataframe', 'value': proportion_with_mortgage}\n"
     ]
    }
   ],
   "source": [
    "display(\n",
    "    sdf.chat(\"What is the proportion of housing units by year with a mortgage?\")\n",
    ")\n",
    "print(sdf.last_code_generated)"
   ]
  },
  {
   "cell_type": "markdown",
   "metadata": {},
   "source": [
    "## <span style=\"color:red\">Wrong Answer</span>\n",
    "By year, what is the proportion of housing units with a mortgage?  \n",
    "\n",
    "Looks to have provided overall not by year"
   ]
  },
  {
   "cell_type": "code",
   "execution_count": 53,
   "metadata": {},
   "outputs": [
    {
     "data": {
      "text/plain": [
       "0.36006237662543306"
      ]
     },
     "metadata": {},
     "output_type": "display_data"
    },
    {
     "name": "stdout",
     "output_type": "stream",
     "text": [
      "def analyze_data(dfs: list[pd.DataFrame]) ->dict:\n",
      "    \"\"\"\n",
      "    Analyze the data\n",
      "    1. Prepare: Preprocessing and cleaning data if necessary\n",
      "    2. Process: Manipulating data for analysis (grouping, filtering, aggregating, etc.)\n",
      "    3. Analyze: Conducting the actual analysis (if the user asks to plot a chart save it to an image in exports/charts/temp_chart.png and do not show the chart.)\n",
      "    4. Output: return a dictionary of:\n",
      "    - type (possible values \"text\", \"number\", \"dataframe\", \"plot\")\n",
      "    - value (can be a string, a dataframe or the path of the plot, NOT a dictionary)\n",
      "    Example output: { \"type\": \"text\", \"value\": \"The average loan amount is $15,000.\" }\n",
      "    \"\"\"\n",
      "    df = dfs[0]\n",
      "    total_housing_units = df['Total housing units_x']\n",
      "    housing_units_with_mortgage = df['Housing units with a mortgage']\n",
      "    proportion_with_mortgage = housing_units_with_mortgage / total_housing_units\n",
      "    result = {'type': 'number', 'value': proportion_with_mortgage.mean()}\n",
      "    return result\n"
     ]
    }
   ],
   "source": [
    "display(\n",
    "    sdf.chat(\"By year, what is the proportion of housing units with a mortgage?\")\n",
    ")\n",
    "print(sdf.last_code_generated)"
   ]
  },
  {
   "cell_type": "markdown",
   "metadata": {},
   "source": [
    "## <span style=\"color:Green\">Correct Answer</span>\n",
    "Calculate the proportion of housing units with a mortgage by year  \n",
    "\n",
    "Told it what to do instead of asking."
   ]
  },
  {
   "cell_type": "code",
   "execution_count": 54,
   "metadata": {},
   "outputs": [
    {
     "data": {
      "text/html": [
       "<div>\n",
       "<style scoped>\n",
       "    .dataframe tbody tr th:only-of-type {\n",
       "        vertical-align: middle;\n",
       "    }\n",
       "\n",
       "    .dataframe tbody tr th {\n",
       "        vertical-align: top;\n",
       "    }\n",
       "\n",
       "    .dataframe thead th {\n",
       "        text-align: right;\n",
       "    }\n",
       "</style>\n",
       "<table border=\"1\" class=\"dataframe\">\n",
       "  <thead>\n",
       "    <tr style=\"text-align: right;\">\n",
       "      <th></th>\n",
       "      <th>Year</th>\n",
       "      <th>Proportion with Mortgage</th>\n",
       "    </tr>\n",
       "  </thead>\n",
       "  <tbody>\n",
       "    <tr>\n",
       "      <th>0</th>\n",
       "      <td>2012</td>\n",
       "      <td>0.383143</td>\n",
       "    </tr>\n",
       "    <tr>\n",
       "      <th>1</th>\n",
       "      <td>2013</td>\n",
       "      <td>0.373537</td>\n",
       "    </tr>\n",
       "    <tr>\n",
       "      <th>2</th>\n",
       "      <td>2014</td>\n",
       "      <td>0.369742</td>\n",
       "    </tr>\n",
       "    <tr>\n",
       "      <th>3</th>\n",
       "      <td>2015</td>\n",
       "      <td>0.359530</td>\n",
       "    </tr>\n",
       "    <tr>\n",
       "      <th>4</th>\n",
       "      <td>2016</td>\n",
       "      <td>0.358435</td>\n",
       "    </tr>\n",
       "    <tr>\n",
       "      <th>5</th>\n",
       "      <td>2017</td>\n",
       "      <td>0.351722</td>\n",
       "    </tr>\n",
       "    <tr>\n",
       "      <th>6</th>\n",
       "      <td>2018</td>\n",
       "      <td>0.354274</td>\n",
       "    </tr>\n",
       "    <tr>\n",
       "      <th>7</th>\n",
       "      <td>2019</td>\n",
       "      <td>0.350623</td>\n",
       "    </tr>\n",
       "    <tr>\n",
       "      <th>8</th>\n",
       "      <td>2020</td>\n",
       "      <td>0.352086</td>\n",
       "    </tr>\n",
       "    <tr>\n",
       "      <th>9</th>\n",
       "      <td>2021</td>\n",
       "      <td>0.354589</td>\n",
       "    </tr>\n",
       "  </tbody>\n",
       "</table>\n",
       "</div>"
      ],
      "text/plain": [
       "   Year  Proportion with Mortgage\n",
       "0  2012                  0.383143\n",
       "1  2013                  0.373537\n",
       "2  2014                  0.369742\n",
       "3  2015                  0.359530\n",
       "4  2016                  0.358435\n",
       "5  2017                  0.351722\n",
       "6  2018                  0.354274\n",
       "7  2019                  0.350623\n",
       "8  2020                  0.352086\n",
       "9  2021                  0.354589"
      ]
     },
     "metadata": {},
     "output_type": "display_data"
    },
    {
     "name": "stdout",
     "output_type": "stream",
     "text": [
      "def analyze_data(dfs: list[pd.DataFrame]) ->dict:\n",
      "    \"\"\"\n",
      "    Analyze the data\n",
      "    1. Prepare: Preprocessing and cleaning data if necessary\n",
      "    2. Process: Manipulating data for analysis (grouping, filtering, aggregating, etc.)\n",
      "    3. Analyze: Conducting the actual analysis (if the user asks to plot a chart save it to an image in exports/charts/temp_chart.png and do not show the chart.)\n",
      "    4. Output: return a dictionary of:\n",
      "    - type (possible values \"text\", \"number\", \"dataframe\", \"plot\")\n",
      "    - value (can be a string, a dataframe or the path of the plot, NOT a dictionary)\n",
      "    Example output: { \"type\": \"text\", \"value\": \"The average loan amount is $15,000.\" }\n",
      "    \"\"\"\n",
      "    df = dfs[0]\n",
      "    housing_units = df.groupby('YEAR')['Housing units with a mortgage'].sum()\n",
      "    total_housing_units = df.groupby('YEAR')['Total housing units_x'].sum()\n",
      "    proportion_with_mortgage = housing_units / total_housing_units\n",
      "    result_df = pd.DataFrame({'Year': proportion_with_mortgage.index, 'Proportion with Mortgage': proportion_with_mortgage.values})\n",
      "    return {'type': 'dataframe', 'value': result_df}\n"
     ]
    }
   ],
   "source": [
    "display(\n",
    "    sdf.chat(\"Calculate the proportion of housing units with a mortgage by year\")\n",
    ")\n",
    "print(sdf.last_code_generated)"
   ]
  },
  {
   "cell_type": "markdown",
   "metadata": {},
   "source": [
    "## <span style=\"color:Green\">Plot looks correct</span>\n",
    "Plot a chart of the proportion of housing units with a mortgage by year"
   ]
  },
  {
   "cell_type": "code",
   "execution_count": 56,
   "metadata": {},
   "outputs": [
    {
     "data": {
      "image/png": "[encoded data removed]",
      "text/plain": [
       "<Figure size 640x480 with 1 Axes>"
      ]
     },
     "metadata": {},
     "output_type": "display_data"
    },
    {
     "name": "stdout",
     "output_type": "stream",
     "text": [
      "def analyze_data(dfs: list[pd.DataFrame]) ->dict:\n",
      "    \"\"\"\n",
      "    Analyze the data\n",
      "    1. Prepare: Preprocessing and cleaning data if necessary\n",
      "    2. Process: Manipulating data for analysis (grouping, filtering, aggregating, etc.)\n",
      "    3. Analyze: Conducting the actual analysis (if the user asks to plot a chart save it to an image in exports/charts/temp_chart.png and do not show the chart.)\n",
      "    4. Output: return a dictionary of:\n",
      "    - type (possible values \"text\", \"number\", \"dataframe\", \"plot\")\n",
      "    - value (can be a string, a dataframe or the path of the plot, NOT a dictionary)\n",
      "    Example output: { \"type\": \"text\", \"value\": \"The average loan amount is $15,000.\" }\n",
      "    \"\"\"\n",
      "    df = dfs[0]\n",
      "    df_filtered = df[['YEAR', 'Housing units with a mortgage', 'Total housing units_y']]\n",
      "    df_grouped = df_filtered.groupby('YEAR').sum()\n",
      "    df_grouped['Proportion with Mortgage'] = df_grouped['Housing units with a mortgage'] / df_grouped['Total housing units_y']\n",
      "    plt.plot(df_grouped.index, df_grouped['Proportion with Mortgage'])\n",
      "    plt.xlabel('Year')\n",
      "    plt.ylabel('Proportion with Mortgage')\n",
      "    plt.title('Proportion of Housing Units with a Mortgage by Year')\n",
      "    plt.savefig('exports/charts/temp_chart.png')\n",
      "    plt.close()\n",
      "    return {'type': 'plot', 'value': 'exports/charts/temp_chart.png'}\n"
     ]
    }
   ],
   "source": [
    "sdf.chat(\"Plot a chart of the proportion of housing units with a mortgage by year\")\n",
    "print(sdf.last_code_generated)"
   ]
  },
  {
   "cell_type": "markdown",
   "metadata": {},
   "source": [
    "## <span style=\"color:red\">Just Wrong</span>\n",
    "Changed:  \n",
    "\n",
    "Plot <span style=\"color:brown\">a chart of</span> the proportion of housing units with a mortgage by year  \n",
    "\n",
    "To:  \n",
    "\n",
    "Plot the proportion of housing units with a mortgage by year  \n",
    "\n",
    "Removed <span style=\"color:brown\">a chart of</span>, and it just threw up."
   ]
  },
  {
   "cell_type": "code",
   "execution_count": 57,
   "metadata": {},
   "outputs": [
    {
     "data": {
      "image/png": "[encoded data removed]",
      "text/plain": [
       "<Figure size 640x480 with 1 Axes>"
      ]
     },
     "metadata": {},
     "output_type": "display_data"
    },
    {
     "name": "stdout",
     "output_type": "stream",
     "text": [
      "def analyze_data(dfs: list[pd.DataFrame]) ->dict:\n",
      "    \"\"\"\n",
      "    Analyze the data\n",
      "    1. Prepare: Preprocessing and cleaning data if necessary\n",
      "    2. Process: Manipulating data for analysis (grouping, filtering, aggregating, etc.)\n",
      "    3. Analyze: Conducting the actual analysis (if the user asks to plot a chart save it to an image in exports/charts/temp_chart.png and do not show the chart.)\n",
      "    4. Output: return a dictionary of:\n",
      "    - type (possible values \"text\", \"number\", \"dataframe\", \"plot\")\n",
      "    - value (can be a string, a dataframe or the path of the plot, NOT a dictionary)\n",
      "    Example output: { \"type\": \"text\", \"value\": \"The average loan amount is $15,000.\" }\n",
      "    \"\"\"\n",
      "    df = dfs[0]\n",
      "    df['Year'] = df['YEAR'].astype(int)\n",
      "    df['Housing units with a mortgage'] = df['Housing units with a mortgage'].astype(int)\n",
      "    df['Total housing units'] = df['Total housing units_y'].astype(int)\n",
      "    df['Proportion of housing units with a mortgage'] = df['Housing units with a mortgage'] / df['Total housing units']\n",
      "    plot_path = 'exports/charts/temp_chart.png'\n",
      "    plt.figure(figsize=(10, 6))\n",
      "    plt.plot(df['Year'], df['Proportion of housing units with a mortgage'])\n",
      "    plt.xlabel('Year')\n",
      "    plt.ylabel('Proportion of housing units with a mortgage')\n",
      "    plt.title('Proportion of Housing Units with a Mortgage by Year')\n",
      "    plt.savefig(plot_path)\n",
      "    plt.close()\n",
      "    return {'type': 'plot', 'value': plot_path}\n"
     ]
    }
   ],
   "source": [
    "sdf.chat(\"Plot the proportion of housing units with a mortgage by year\")\n",
    "print(sdf.last_code_generated)"
   ]
  },
  {
   "cell_type": "markdown",
   "metadata": {},
   "source": [
    "## <span style=\"color:Green\">Plot looks correct</span>\n",
    "For Alabama, plot a chart of the proportion of housing units with a mortgage by year"
   ]
  },
  {
   "cell_type": "code",
   "execution_count": 58,
   "metadata": {},
   "outputs": [
    {
     "name": "stderr",
     "output_type": "stream",
     "text": [
      "<string>:15: SettingWithCopyWarning:\n",
      "\n",
      "\n",
      "A value is trying to be set on a copy of a slice from a DataFrame.\n",
      "Try using .loc[row_indexer,col_indexer] = value instead\n",
      "\n",
      "See the caveats in the documentation: https://pandas.pydata.org/pandas-docs/stable/user_guide/indexing.html#returning-a-view-versus-a-copy\n",
      "\n"
     ]
    },
    {
     "name": "stderr",
     "output_type": "stream",
     "text": [
      "<string>:15: SettingWithCopyWarning:\n",
      "\n",
      "\n",
      "A value is trying to be set on a copy of a slice from a DataFrame.\n",
      "Try using .loc[row_indexer,col_indexer] = value instead\n",
      "\n",
      "See the caveats in the documentation: https://pandas.pydata.org/pandas-docs/stable/user_guide/indexing.html#returning-a-view-versus-a-copy\n",
      "\n"
     ]
    },
    {
     "data": {
      "image/png": "[encoded data removed]",
      "text/plain": [
       "<Figure size 640x480 with 1 Axes>"
      ]
     },
     "metadata": {},
     "output_type": "display_data"
    },
    {
     "name": "stdout",
     "output_type": "stream",
     "text": [
      "def analyze_data(dfs: list[pd.DataFrame]) ->dict:\n",
      "    \"\"\"\n",
      "    Analyze the data\n",
      "    1. Prepare: Preprocessing and cleaning data if necessary\n",
      "    2. Process: Manipulating data for analysis (grouping, filtering, aggregating, etc.)\n",
      "    3. Analyze: Conducting the actual analysis (if the user asks to plot a chart save it to an image in exports/charts/temp_chart.png and do not show the chart.)\n",
      "    4. Output: return a dictionary of:\n",
      "    - type (possible values \"text\", \"number\", \"dataframe\", \"plot\")\n",
      "    - value (can be a string, a dataframe or the path of the plot, NOT a dictionary)\n",
      "    Example output: { \"type\": \"text\", \"value\": \"The average loan amount is $15,000.\" }\n",
      "    \"\"\"\n",
      "    df = dfs[0]\n",
      "    alabama_df = df[df['Geographic Area Name'] == 'Alabama']\n",
      "    mortgage_prop_df = alabama_df[['YEAR', 'Housing units with a mortgage', 'Total housing units_y']]\n",
      "    mortgage_prop_df['Proportion with Mortgage'] = mortgage_prop_df['Housing units with a mortgage'] / mortgage_prop_df['Total housing units_y']\n",
      "    chart_path = 'exports/charts/temp_chart.png'\n",
      "    plt.plot(mortgage_prop_df['YEAR'], mortgage_prop_df['Proportion with Mortgage'])\n",
      "    plt.xlabel('Year')\n",
      "    plt.ylabel('Proportion with Mortgage')\n",
      "    plt.title('Proportion of Housing Units with a Mortgage in Alabama')\n",
      "    plt.savefig(chart_path)\n",
      "    plt.close()\n",
      "    return {'type': 'plot', 'value': chart_path}\n"
     ]
    }
   ],
   "source": [
    "sdf.chat(\"For Alabama, plot a chart of the proportion of housing units with a mortgage by year\")\n",
    "print(sdf.last_code_generated)"
   ]
  },
  {
   "cell_type": "markdown",
   "metadata": {},
   "source": [
    "## <span style=\"color:Green\">Plot looks correct, unreadable, but correct</span>\n",
    "By state, plot a chart of the proportion of housing units with a mortgage by year"
   ]
  },
  {
   "cell_type": "code",
   "execution_count": 59,
   "metadata": {},
   "outputs": [
    {
     "data": {
      "image/png": "[encoded data removed]",
      "text/plain": [
       "<Figure size 640x480 with 1 Axes>"
      ]
     },
     "metadata": {},
     "output_type": "display_data"
    },
    {
     "name": "stdout",
     "output_type": "stream",
     "text": [
      "def analyze_data(dfs: list[pd.DataFrame]) ->dict:\n",
      "    \"\"\"\n",
      "    Analyze the data\n",
      "    1. Prepare: Preprocessing and cleaning data if necessary\n",
      "    2. Process: Manipulating data for analysis (grouping, filtering, aggregating, etc.)\n",
      "    3. Analyze: Conducting the actual analysis (if the user asks to plot a chart save it to an image in exports/charts/temp_chart.png and do not show the chart.)\n",
      "    4. Output: return a dictionary of:\n",
      "    - type (possible values \"text\", \"number\", \"dataframe\", \"plot\")\n",
      "    - value (can be a string, a dataframe or the path of the plot, NOT a dictionary)\n",
      "    Example output: { \"type\": \"text\", \"value\": \"The average loan amount is $15,000.\" }\n",
      "    \"\"\"\n",
      "    df = dfs[0]\n",
      "    df['Year'] = df['YEAR'].astype(int)\n",
      "    df_filtered = df[['Geographic Area Name', 'Year', 'Housing units with a mortgage', 'Total housing units_x']]\n",
      "    df_grouped = df_filtered.groupby(['Geographic Area Name', 'Year']).sum()\n",
      "    df_grouped['Proportion with Mortgage'] = df_grouped['Housing units with a mortgage'] / df_grouped['Total housing units_x']\n",
      "    chart_path = 'exports/charts/temp_chart.png'\n",
      "    plt.figure(figsize=(12, 6))\n",
      "    for state in df_grouped.index.get_level_values('Geographic Area Name').unique():\n",
      "        state_data = df_grouped.loc[state]\n",
      "        plt.plot(state_data.index.get_level_values('Year'), state_data['Proportion with Mortgage'], label=state)\n",
      "    plt.xlabel('Year')\n",
      "    plt.ylabel('Proportion of Housing Units with a Mortgage')\n",
      "    plt.title('Proportion of Housing Units with a Mortgage by Year (By State)')\n",
      "    plt.legend()\n",
      "    plt.savefig(chart_path)\n",
      "    plt.close()\n",
      "    return {'type': 'plot', 'value': chart_path}\n"
     ]
    }
   ],
   "source": [
    "sdf.chat(\"By state, plot a chart of the proportion of housing units with a mortgage by year\")\n",
    "print(sdf.last_code_generated)"
   ]
  },
  {
   "cell_type": "markdown",
   "metadata": {},
   "source": [
    "## <span style=\"color:brown\">Getting an error</span>\n",
    "Create a plotly express chart by state of the proportion of housing units with a mortgage by year"
   ]
  },
  {
   "cell_type": "code",
   "execution_count": 63,
   "metadata": {},
   "outputs": [
    {
     "data": {
      "text/plain": [
       "'Unfortunately, I was not able to answer your question, because of the following error:\\n\\n\\nImage export using the \"kaleido\" engine requires the kaleido package,\\nwhich can be installed using pip:\\n    $ pip install -U kaleido\\n\\n'"
      ]
     },
     "metadata": {},
     "output_type": "display_data"
    },
    {
     "name": "stdout",
     "output_type": "stream",
     "text": [
      "def analyze_data(dfs: list[pd.DataFrame]) ->dict:\n",
      "    \"\"\"\n",
      "    Analyze the data\n",
      "    1. Prepare: Preprocessing and cleaning data if necessary\n",
      "    2. Process: Manipulating data for analysis (grouping, filtering, aggregating, etc.)\n",
      "    3. Analyze: Conducting the actual analysis (if the user asks to plot a chart save it to an image in exports/charts/temp_chart.png and do not show the chart.)\n",
      "    4. Output: return a dictionary of:\n",
      "    - type (possible values \"text\", \"number\", \"dataframe\", \"plot\")\n",
      "    - value (can be a string, a dataframe or the path of the plot, NOT a dictionary)\n",
      "    Example output: { \"type\": \"text\", \"value\": \"The average loan amount is $15,000.\" }\n",
      "    \"\"\"\n",
      "    df = dfs[0]\n",
      "    df['Year'] = df['YEAR'].astype(str)\n",
      "    df_grouped = df.groupby(['Geographic Area Name', 'Year']).apply(lambda x: (x['Housing units with a mortgage'] / x['Total housing units_x']).mean()).reset_index()\n",
      "    df_grouped.columns = ['State', 'Year', 'Proportion with Mortgage']\n",
      "    fig = px.line(df_grouped, x='Year', y='Proportion with Mortgage', color='State', title='Proportion of Housing Units with a Mortgage by State')\n",
      "    fig.update_layout(showlegend=True)\n",
      "    fig.write_image('exports/charts/temp_chart.png', engine='kaleido')\n",
      "    return {'type': 'plot', 'value': 'exports/charts/temp_chart.png'}\n"
     ]
    }
   ],
   "source": [
    "display(sdf.chat(\"Create a plotly express chart by state of the proportion of housing units with a mortgage by year\"))\n",
    "print(sdf.last_code_generated)"
   ]
  },
  {
   "cell_type": "markdown",
   "metadata": {},
   "source": [
    "<span style=\"color:brown\">The generated code does work except for the export</span>"
   ]
  },
  {
   "cell_type": "code",
   "execution_count": 7,
   "metadata": {},
   "outputs": [
    {
     "data": {
      "application/vnd.plotly.v1+json": {
       "config": {
        "plotlyServerURL": "https://plot.ly"
       },
       "data": [
        {
         "hovertemplate": "State=Alabama<br>Year=%{x}<br>Proportion with Mortgage=%{y}<extra></extra>",
         "legendgroup": "Alabama",
         "line": {
          "color": "#636efa",
          "dash": "solid"
         },
         "marker": {
          "symbol": "circle"
         },
         "mode": "lines",
         "name": "Alabama",
         "orientation": "v",
         "showlegend": true,
         "type": "scatter",
         "x": [
          "2012",
          "2013",
          "2014",
          "2015",
          "2016",
          "2017",
          "2018",
          "2019",
          "2020",
          "2021"
         ],
         "xaxis": "x",
         "y": [
          0.3576034210803688,
          0.3480492897502919,
          0.344900822545723,
          0.33431688720814184,
          0.3322090510332924,
          0.3243418690091434,
          0.32389161347230055,
          0.32000872717210355,
          0.3203742251358572,
          0.3209605683674446
         ],
         "yaxis": "y"
        },
        {
         "hovertemplate": "State=Alaska<br>Year=%{x}<br>Proportion with Mortgage=%{y}<extra></extra>",
         "legendgroup": "Alaska",
         "line": {
          "color": "#EF553B",
          "dash": "solid"
         },
         "marker": {
          "symbol": "circle"
         },
         "mode": "lines",
         "name": "Alaska",
         "orientation": "v",
         "showlegend": true,
         "type": "scatter",
         "x": [
          "2012",
          "2013",
          "2014",
          "2015",
          "2016",
          "2017",
          "2018",
          "2019",
          "2020",
          "2021"
         ],
         "xaxis": "x",
         "y": [
          0.3609094927073614,
          0.3475440192320187,
          0.3432867456678689,
          0.33671010541092145,
          0.33641621872374383,
          0.3314161059780713,
          0.33156652449376783,
          0.32361526154855935,
          0.3215252693407042,
          0.3253820499701018
         ],
         "yaxis": "y"
        },
        {
         "hovertemplate": "State=Arizona<br>Year=%{x}<br>Proportion with Mortgage=%{y}<extra></extra>",
         "legendgroup": "Arizona",
         "line": {
          "color": "#00cc96",
          "dash": "solid"
         },
         "marker": {
          "symbol": "circle"
         },
         "mode": "lines",
         "name": "Arizona",
         "orientation": "v",
         "showlegend": true,
         "type": "scatter",
         "x": [
          "2012",
          "2013",
          "2014",
          "2015",
          "2016",
          "2017",
          "2018",
          "2019",
          "2020",
          "2021"
         ],
         "xaxis": "x",
         "y": [
          0.37714434130396224,
          0.36137333591228954,
          0.3536783403408948,
          0.3414614724831399,
          0.3429526918382766,
          0.34027267510059966,
          0.350645196597838,
          0.3518802405098948,
          0.35968289101310763,
          0.3667263133446084
         ],
         "yaxis": "y"
        },
        {
         "hovertemplate": "State=Arkansas<br>Year=%{x}<br>Proportion with Mortgage=%{y}<extra></extra>",
         "legendgroup": "Arkansas",
         "line": {
          "color": "#ab63fa",
          "dash": "solid"
         },
         "marker": {
          "symbol": "circle"
         },
         "mode": "lines",
         "name": "Arkansas",
         "orientation": "v",
         "showlegend": true,
         "type": "scatter",
         "x": [
          "2012",
          "2013",
          "2014",
          "2015",
          "2016",
          "2017",
          "2018",
          "2019",
          "2020",
          "2021"
         ],
         "xaxis": "x",
         "y": [
          0.33601923950203283,
          0.32846602198867086,
          0.3259025781891197,
          0.31741304362411854,
          0.3129288338117296,
          0.30521937681712724,
          0.3069071353910818,
          0.30189720210672116,
          0.3026305681058837,
          0.3046457837694951
         ],
         "yaxis": "y"
        },
        {
         "hovertemplate": "State=California<br>Year=%{x}<br>Proportion with Mortgage=%{y}<extra></extra>",
         "legendgroup": "California",
         "line": {
          "color": "#FFA15A",
          "dash": "solid"
         },
         "marker": {
          "symbol": "circle"
         },
         "mode": "lines",
         "name": "California",
         "orientation": "v",
         "showlegend": true,
         "type": "scatter",
         "x": [
          "2012",
          "2013",
          "2014",
          "2015",
          "2016",
          "2017",
          "2018",
          "2019",
          "2020",
          "2021"
         ],
         "xaxis": "x",
         "y": [
          0.3833677733872258,
          0.3745533009203574,
          0.37073173787846303,
          0.36197593442141696,
          0.36112919522829684,
          0.35658067150856837,
          0.3588590812471211,
          0.3548918959795079,
          0.35435011535123107,
          0.35421029317783204
         ],
         "yaxis": "y"
        },
        {
         "hovertemplate": "State=Colorado<br>Year=%{x}<br>Proportion with Mortgage=%{y}<extra></extra>",
         "legendgroup": "Colorado",
         "line": {
          "color": "#19d3f3",
          "dash": "solid"
         },
         "marker": {
          "symbol": "circle"
         },
         "mode": "lines",
         "name": "Colorado",
         "orientation": "v",
         "showlegend": true,
         "type": "scatter",
         "x": [
          "2012",
          "2013",
          "2014",
          "2015",
          "2016",
          "2017",
          "2018",
          "2019",
          "2020",
          "2021"
         ],
         "xaxis": "x",
         "y": [
          0.4405689959599659,
          0.43026296510713724,
          0.4310580164856473,
          0.4180767074437286,
          0.42452687076830675,
          0.41365069836689194,
          0.4238631362089754,
          0.41888014749787866,
          0.4242465820717786,
          0.42473969121824223
         ],
         "yaxis": "y"
        },
        {
         "hovertemplate": "State=Connecticut<br>Year=%{x}<br>Proportion with Mortgage=%{y}<extra></extra>",
         "legendgroup": "Connecticut",
         "line": {
          "color": "#FF6692",
          "dash": "solid"
         },
         "marker": {
          "symbol": "circle"
         },
         "mode": "lines",
         "name": "Connecticut",
         "orientation": "v",
         "showlegend": true,
         "type": "scatter",
         "x": [
          "2012",
          "2013",
          "2014",
          "2015",
          "2016",
          "2017",
          "2018",
          "2019",
          "2020",
          "2021"
         ],
         "xaxis": "x",
         "y": [
          0.44715421977925807,
          0.4379229203807617,
          0.4332287600160054,
          0.4251993910823284,
          0.41928668052924484,
          0.4129484462459623,
          0.4119622394477456,
          0.40507665355205524,
          0.405382201802657,
          0.40682392525665684
         ],
         "yaxis": "y"
        },
        {
         "hovertemplate": "State=Delaware<br>Year=%{x}<br>Proportion with Mortgage=%{y}<extra></extra>",
         "legendgroup": "Delaware",
         "line": {
          "color": "#B6E880",
          "dash": "solid"
         },
         "marker": {
          "symbol": "circle"
         },
         "mode": "lines",
         "name": "Delaware",
         "orientation": "v",
         "showlegend": true,
         "type": "scatter",
         "x": [
          "2012",
          "2013",
          "2014",
          "2015",
          "2016",
          "2017",
          "2018",
          "2019",
          "2020",
          "2021"
         ],
         "xaxis": "x",
         "y": [
          0.41864773838766345,
          0.41224316109422493,
          0.4136908045554289,
          0.40086187300652987,
          0.4016133546967299,
          0.39040189048011564,
          0.39487448316249063,
          0.3880700377428179,
          0.39122749396722,
          0.39725322621230097
         ],
         "yaxis": "y"
        },
        {
         "hovertemplate": "State=District of Columbia<br>Year=%{x}<br>Proportion with Mortgage=%{y}<extra></extra>",
         "legendgroup": "District of Columbia",
         "line": {
          "color": "#FF97FF",
          "dash": "solid"
         },
         "marker": {
          "symbol": "circle"
         },
         "mode": "lines",
         "name": "District of Columbia",
         "orientation": "v",
         "showlegend": true,
         "type": "scatter",
         "x": [
          "2012",
          "2013",
          "2014",
          "2015",
          "2016",
          "2017",
          "2018",
          "2019",
          "2020",
          "2021"
         ],
         "xaxis": "x",
         "y": [
          0.2907328319923417,
          0.28734566054295574,
          0.28823405189607376,
          0.28372963473758683,
          0.28419910850873026,
          0.2825113546999631,
          0.28851152481981823,
          0.2845140492930934,
          0.29043647710468934,
          0.28394219095804313
         ],
         "yaxis": "y"
        },
        {
         "hovertemplate": "State=Florida<br>Year=%{x}<br>Proportion with Mortgage=%{y}<extra></extra>",
         "legendgroup": "Florida",
         "line": {
          "color": "#FECB52",
          "dash": "solid"
         },
         "marker": {
          "symbol": "circle"
         },
         "mode": "lines",
         "name": "Florida",
         "orientation": "v",
         "showlegend": true,
         "type": "scatter",
         "x": [
          "2012",
          "2013",
          "2014",
          "2015",
          "2016",
          "2017",
          "2018",
          "2019",
          "2020",
          "2021"
         ],
         "xaxis": "x",
         "y": [
          0.3450700368479066,
          0.33158897555870065,
          0.3239409933414653,
          0.31114678926647155,
          0.308771776665396,
          0.30129037344166654,
          0.3062480317902857,
          0.30432224944563274,
          0.31157122473574417,
          0.31616308907303375
         ],
         "yaxis": "y"
        },
        {
         "hovertemplate": "State=Georgia<br>Year=%{x}<br>Proportion with Mortgage=%{y}<extra></extra>",
         "legendgroup": "Georgia",
         "line": {
          "color": "#636efa",
          "dash": "solid"
         },
         "marker": {
          "symbol": "circle"
         },
         "mode": "lines",
         "name": "Georgia",
         "orientation": "v",
         "showlegend": true,
         "type": "scatter",
         "x": [
          "2012",
          "2013",
          "2014",
          "2015",
          "2016",
          "2017",
          "2018",
          "2019",
          "2020",
          "2021"
         ],
         "xaxis": "x",
         "y": [
          0.4016143482832958,
          0.38916528294109415,
          0.3831919511811531,
          0.3703109188989438,
          0.3682313246948693,
          0.36023836814074406,
          0.3649345464788518,
          0.3611591704589519,
          0.3656251335261885,
          0.370350527161015
         ],
         "yaxis": "y"
        },
        {
         "hovertemplate": "State=Hawaii<br>Year=%{x}<br>Proportion with Mortgage=%{y}<extra></extra>",
         "legendgroup": "Hawaii",
         "line": {
          "color": "#EF553B",
          "dash": "solid"
         },
         "marker": {
          "symbol": "circle"
         },
         "mode": "lines",
         "name": "Hawaii",
         "orientation": "v",
         "showlegend": true,
         "type": "scatter",
         "x": [
          "2012",
          "2013",
          "2014",
          "2015",
          "2016",
          "2017",
          "2018",
          "2019",
          "2020",
          "2021"
         ],
         "xaxis": "x",
         "y": [
          0.3434248217140461,
          0.3376570919040034,
          0.3333473774522947,
          0.32481910807125924,
          0.32954674736626544,
          0.32482334761145937,
          0.3255126105653514,
          0.32434758252652607,
          0.33243805470835447,
          0.33862537414465194
         ],
         "yaxis": "y"
        },
        {
         "hovertemplate": "State=Idaho<br>Year=%{x}<br>Proportion with Mortgage=%{y}<extra></extra>",
         "legendgroup": "Idaho",
         "line": {
          "color": "#00cc96",
          "dash": "solid"
         },
         "marker": {
          "symbol": "circle"
         },
         "mode": "lines",
         "name": "Idaho",
         "orientation": "v",
         "showlegend": true,
         "type": "scatter",
         "x": [
          "2012",
          "2013",
          "2014",
          "2015",
          "2016",
          "2017",
          "2018",
          "2019",
          "2020",
          "2021"
         ],
         "xaxis": "x",
         "y": [
          0.415745487597455,
          0.40702317517518705,
          0.40648187391431523,
          0.3938176098703669,
          0.3986553030859824,
          0.38806515382918544,
          0.39574954791527617,
          0.3931583180623388,
          0.39917495128225644,
          0.4063693752568568
         ],
         "yaxis": "y"
        },
        {
         "hovertemplate": "State=Illinois<br>Year=%{x}<br>Proportion with Mortgage=%{y}<extra></extra>",
         "legendgroup": "Illinois",
         "line": {
          "color": "#ab63fa",
          "dash": "solid"
         },
         "marker": {
          "symbol": "circle"
         },
         "mode": "lines",
         "name": "Illinois",
         "orientation": "v",
         "showlegend": true,
         "type": "scatter",
         "x": [
          "2012",
          "2013",
          "2014",
          "2015",
          "2016",
          "2017",
          "2018",
          "2019",
          "2020",
          "2021"
         ],
         "xaxis": "x",
         "y": [
          0.4227886442148557,
          0.41343592795682105,
          0.4056090438920998,
          0.39624038218362073,
          0.390661569572042,
          0.3838391866650409,
          0.3812866610795024,
          0.3782688144260179,
          0.37830827309042625,
          0.37907129047782234
         ],
         "yaxis": "y"
        },
        {
         "hovertemplate": "State=Indiana<br>Year=%{x}<br>Proportion with Mortgage=%{y}<extra></extra>",
         "legendgroup": "Indiana",
         "line": {
          "color": "#FFA15A",
          "dash": "solid"
         },
         "marker": {
          "symbol": "circle"
         },
         "mode": "lines",
         "name": "Indiana",
         "orientation": "v",
         "showlegend": true,
         "type": "scatter",
         "x": [
          "2012",
          "2013",
          "2014",
          "2015",
          "2016",
          "2017",
          "2018",
          "2019",
          "2020",
          "2021"
         ],
         "xaxis": "x",
         "y": [
          0.435174066409103,
          0.42509630579129376,
          0.42101256919663177,
          0.41069973211279737,
          0.4084126495034311,
          0.40303308983617064,
          0.40582858031406,
          0.40331704167053517,
          0.40577121761051343,
          0.41052740762518536
         ],
         "yaxis": "y"
        },
        {
         "hovertemplate": "State=Iowa<br>Year=%{x}<br>Proportion with Mortgage=%{y}<extra></extra>",
         "legendgroup": "Iowa",
         "line": {
          "color": "#19d3f3",
          "dash": "solid"
         },
         "marker": {
          "symbol": "circle"
         },
         "mode": "lines",
         "name": "Iowa",
         "orientation": "v",
         "showlegend": true,
         "type": "scatter",
         "x": [
          "2012",
          "2013",
          "2014",
          "2015",
          "2016",
          "2017",
          "2018",
          "2019",
          "2020",
          "2021"
         ],
         "xaxis": "x",
         "y": [
          0.4158545247904532,
          0.4085877620533605,
          0.40749484899712973,
          0.3971476986597134,
          0.39715151550953137,
          0.3906074901818822,
          0.3941283291658582,
          0.3899027046991347,
          0.38884117915726385,
          0.39217113211569893
         ],
         "yaxis": "y"
        },
        {
         "hovertemplate": "State=Kansas<br>Year=%{x}<br>Proportion with Mortgage=%{y}<extra></extra>",
         "legendgroup": "Kansas",
         "line": {
          "color": "#FF6692",
          "dash": "solid"
         },
         "marker": {
          "symbol": "circle"
         },
         "mode": "lines",
         "name": "Kansas",
         "orientation": "v",
         "showlegend": true,
         "type": "scatter",
         "x": [
          "2012",
          "2013",
          "2014",
          "2015",
          "2016",
          "2017",
          "2018",
          "2019",
          "2020",
          "2021"
         ],
         "xaxis": "x",
         "y": [
          0.3937978712620375,
          0.381744400977325,
          0.37581678450163297,
          0.36467206584704814,
          0.3613678224839517,
          0.35341027718422147,
          0.35366019210143795,
          0.3489610043846801,
          0.3464060557211319,
          0.34828773314260114
         ],
         "yaxis": "y"
        },
        {
         "hovertemplate": "State=Kentucky<br>Year=%{x}<br>Proportion with Mortgage=%{y}<extra></extra>",
         "legendgroup": "Kentucky",
         "line": {
          "color": "#B6E880",
          "dash": "solid"
         },
         "marker": {
          "symbol": "circle"
         },
         "mode": "lines",
         "name": "Kentucky",
         "orientation": "v",
         "showlegend": true,
         "type": "scatter",
         "x": [
          "2012",
          "2013",
          "2014",
          "2015",
          "2016",
          "2017",
          "2018",
          "2019",
          "2020",
          "2021"
         ],
         "xaxis": "x",
         "y": [
          0.3724726595972024,
          0.3652046898242038,
          0.36059068739450345,
          0.350759831683828,
          0.3494711994630997,
          0.3433346535616282,
          0.3427896979547141,
          0.3394134627452621,
          0.33871080953436206,
          0.3415787409098681
         ],
         "yaxis": "y"
        },
        {
         "hovertemplate": "State=Louisiana<br>Year=%{x}<br>Proportion with Mortgage=%{y}<extra></extra>",
         "legendgroup": "Louisiana",
         "line": {
          "color": "#FF97FF",
          "dash": "solid"
         },
         "marker": {
          "symbol": "circle"
         },
         "mode": "lines",
         "name": "Louisiana",
         "orientation": "v",
         "showlegend": true,
         "type": "scatter",
         "x": [
          "2012",
          "2013",
          "2014",
          "2015",
          "2016",
          "2017",
          "2018",
          "2019",
          "2020",
          "2021"
         ],
         "xaxis": "x",
         "y": [
          0.3267176730578228,
          0.318709453546966,
          0.3161145167964755,
          0.30573693890739173,
          0.3043620662498031,
          0.29511516195612536,
          0.29404390999003477,
          0.2898765873204662,
          0.2924926638723186,
          0.296366057000769
         ],
         "yaxis": "y"
        },
        {
         "hovertemplate": "State=Maine<br>Year=%{x}<br>Proportion with Mortgage=%{y}<extra></extra>",
         "legendgroup": "Maine",
         "line": {
          "color": "#FECB52",
          "dash": "solid"
         },
         "marker": {
          "symbol": "circle"
         },
         "mode": "lines",
         "name": "Maine",
         "orientation": "v",
         "showlegend": true,
         "type": "scatter",
         "x": [
          "2012",
          "2013",
          "2014",
          "2015",
          "2016",
          "2017",
          "2018",
          "2019",
          "2020",
          "2021"
         ],
         "xaxis": "x",
         "y": [
          0.36001170318828685,
          0.35395378681772083,
          0.34870791209065183,
          0.342761305796649,
          0.34061663915001783,
          0.33646697164165573,
          0.339554526165845,
          0.3363974646870978,
          0.33733444207430974,
          0.3437275509567867
         ],
         "yaxis": "y"
        },
        {
         "hovertemplate": "State=Maryland<br>Year=%{x}<br>Proportion with Mortgage=%{y}<extra></extra>",
         "legendgroup": "Maryland",
         "line": {
          "color": "#636efa",
          "dash": "solid"
         },
         "marker": {
          "symbol": "circle"
         },
         "mode": "lines",
         "name": "Maryland",
         "orientation": "v",
         "showlegend": true,
         "type": "scatter",
         "x": [
          "2012",
          "2013",
          "2014",
          "2015",
          "2016",
          "2017",
          "2018",
          "2019",
          "2020",
          "2021"
         ],
         "xaxis": "x",
         "y": [
          0.46802935098607273,
          0.45862443344620996,
          0.45530005843458154,
          0.44654031179536474,
          0.44551159710835697,
          0.4400194442393364,
          0.44169831735622456,
          0.43932010086496526,
          0.44082816660907037,
          0.4434526163186945
         ],
         "yaxis": "y"
        },
        {
         "hovertemplate": "State=Massachusetts<br>Year=%{x}<br>Proportion with Mortgage=%{y}<extra></extra>",
         "legendgroup": "Massachusetts",
         "line": {
          "color": "#EF553B",
          "dash": "solid"
         },
         "marker": {
          "symbol": "circle"
         },
         "mode": "lines",
         "name": "Massachusetts",
         "orientation": "v",
         "showlegend": true,
         "type": "scatter",
         "x": [
          "2012",
          "2013",
          "2014",
          "2015",
          "2016",
          "2017",
          "2018",
          "2019",
          "2020",
          "2021"
         ],
         "xaxis": "x",
         "y": [
          0.4103482411777166,
          0.40353867317506104,
          0.40065599710028205,
          0.3948882805047348,
          0.3945261721043065,
          0.39084183479669854,
          0.3932315272414659,
          0.39000482870188685,
          0.38892705103211145,
          0.38911591155155295
         ],
         "yaxis": "y"
        },
        {
         "hovertemplate": "State=Michigan<br>Year=%{x}<br>Proportion with Mortgage=%{y}<extra></extra>",
         "legendgroup": "Michigan",
         "line": {
          "color": "#00cc96",
          "dash": "solid"
         },
         "marker": {
          "symbol": "circle"
         },
         "mode": "lines",
         "name": "Michigan",
         "orientation": "v",
         "showlegend": true,
         "type": "scatter",
         "x": [
          "2012",
          "2013",
          "2014",
          "2015",
          "2016",
          "2017",
          "2018",
          "2019",
          "2020",
          "2021"
         ],
         "xaxis": "x",
         "y": [
          0.4054258667004416,
          0.3938574175897513,
          0.3846351023367572,
          0.3757414871988946,
          0.3716557727390273,
          0.3675615414219661,
          0.3679832319075347,
          0.36659452007942217,
          0.3691589585493048,
          0.37447114904530904
         ],
         "yaxis": "y"
        },
        {
         "hovertemplate": "State=Minnesota<br>Year=%{x}<br>Proportion with Mortgage=%{y}<extra></extra>",
         "legendgroup": "Minnesota",
         "line": {
          "color": "#ab63fa",
          "dash": "solid"
         },
         "marker": {
          "symbol": "circle"
         },
         "mode": "lines",
         "name": "Minnesota",
         "orientation": "v",
         "showlegend": true,
         "type": "scatter",
         "x": [
          "2012",
          "2013",
          "2014",
          "2015",
          "2016",
          "2017",
          "2018",
          "2019",
          "2020",
          "2021"
         ],
         "xaxis": "x",
         "y": [
          0.4594242242521917,
          0.4498726603103273,
          0.445622898197569,
          0.43436172154831076,
          0.4331563800084587,
          0.4274990879881742,
          0.4302410688739695,
          0.4256803063567718,
          0.42654686883398496,
          0.42763014357921103
         ],
         "yaxis": "y"
        },
        {
         "hovertemplate": "State=Mississippi<br>Year=%{x}<br>Proportion with Mortgage=%{y}<extra></extra>",
         "legendgroup": "Mississippi",
         "line": {
          "color": "#FFA15A",
          "dash": "solid"
         },
         "marker": {
          "symbol": "circle"
         },
         "mode": "lines",
         "name": "Mississippi",
         "orientation": "v",
         "showlegend": true,
         "type": "scatter",
         "x": [
          "2012",
          "2013",
          "2014",
          "2015",
          "2016",
          "2017",
          "2018",
          "2019",
          "2020",
          "2021"
         ],
         "xaxis": "x",
         "y": [
          0.32678295221525616,
          0.31827203427164197,
          0.314530786945352,
          0.302832212049949,
          0.2973806392784701,
          0.288647284265425,
          0.28639283200039134,
          0.2809341945316327,
          0.2886058486685747,
          0.28946199829205804
         ],
         "yaxis": "y"
        },
        {
         "hovertemplate": "State=Missouri<br>Year=%{x}<br>Proportion with Mortgage=%{y}<extra></extra>",
         "legendgroup": "Missouri",
         "line": {
          "color": "#19d3f3",
          "dash": "solid"
         },
         "marker": {
          "symbol": "circle"
         },
         "mode": "lines",
         "name": "Missouri",
         "orientation": "v",
         "showlegend": true,
         "type": "scatter",
         "x": [
          "2012",
          "2013",
          "2014",
          "2015",
          "2016",
          "2017",
          "2018",
          "2019",
          "2020",
          "2021"
         ],
         "xaxis": "x",
         "y": [
          0.395204437842971,
          0.38584836622522367,
          0.38045322678768634,
          0.36932218576633197,
          0.36475506820491294,
          0.35914916766793903,
          0.359188998461956,
          0.35530213084374734,
          0.3571062344722933,
          0.36279425365400936
         ],
         "yaxis": "y"
        },
        {
         "hovertemplate": "State=Montana<br>Year=%{x}<br>Proportion with Mortgage=%{y}<extra></extra>",
         "legendgroup": "Montana",
         "line": {
          "color": "#FF6692",
          "dash": "solid"
         },
         "marker": {
          "symbol": "circle"
         },
         "mode": "lines",
         "name": "Montana",
         "orientation": "v",
         "showlegend": true,
         "type": "scatter",
         "x": [
          "2012",
          "2013",
          "2014",
          "2015",
          "2016",
          "2017",
          "2018",
          "2019",
          "2020",
          "2021"
         ],
         "xaxis": "x",
         "y": [
          0.3349515268975345,
          0.3291247416708095,
          0.3278895434127245,
          0.31878829315540685,
          0.3220305004653827,
          0.31996005418392875,
          0.3239180281740734,
          0.3241561801717041,
          0.324643270493013,
          0.327447112786385
         ],
         "yaxis": "y"
        },
        {
         "hovertemplate": "State=Nebraska<br>Year=%{x}<br>Proportion with Mortgage=%{y}<extra></extra>",
         "legendgroup": "Nebraska",
         "line": {
          "color": "#B6E880",
          "dash": "solid"
         },
         "marker": {
          "symbol": "circle"
         },
         "mode": "lines",
         "name": "Nebraska",
         "orientation": "v",
         "showlegend": true,
         "type": "scatter",
         "x": [
          "2012",
          "2013",
          "2014",
          "2015",
          "2016",
          "2017",
          "2018",
          "2019",
          "2020",
          "2021"
         ],
         "xaxis": "x",
         "y": [
          0.3907113558535392,
          0.38284222657142575,
          0.3805619804142816,
          0.37324878589850874,
          0.3734624498802807,
          0.3647178630368499,
          0.36805609481469975,
          0.36248083527169733,
          0.3566570486397362,
          0.3626596987162257
         ],
         "yaxis": "y"
        },
        {
         "hovertemplate": "State=Nevada<br>Year=%{x}<br>Proportion with Mortgage=%{y}<extra></extra>",
         "legendgroup": "Nevada",
         "line": {
          "color": "#FF97FF",
          "dash": "solid"
         },
         "marker": {
          "symbol": "circle"
         },
         "mode": "lines",
         "name": "Nevada",
         "orientation": "v",
         "showlegend": true,
         "type": "scatter",
         "x": [
          "2012",
          "2013",
          "2014",
          "2015",
          "2016",
          "2017",
          "2018",
          "2019",
          "2020",
          "2021"
         ],
         "xaxis": "x",
         "y": [
          0.3684290958763767,
          0.35229305317439963,
          0.3422862727350688,
          0.3280644922146042,
          0.32850648822271605,
          0.32476746746811586,
          0.3354774004401756,
          0.3361046868117417,
          0.34304034660509425,
          0.35049210691690175
         ],
         "yaxis": "y"
        },
        {
         "hovertemplate": "State=New Hampshire<br>Year=%{x}<br>Proportion with Mortgage=%{y}<extra></extra>",
         "legendgroup": "New Hampshire",
         "line": {
          "color": "#FECB52",
          "dash": "solid"
         },
         "marker": {
          "symbol": "circle"
         },
         "mode": "lines",
         "name": "New Hampshire",
         "orientation": "v",
         "showlegend": true,
         "type": "scatter",
         "x": [
          "2012",
          "2013",
          "2014",
          "2015",
          "2016",
          "2017",
          "2018",
          "2019",
          "2020",
          "2021"
         ],
         "xaxis": "x",
         "y": [
          0.4251484132606943,
          0.4157959195575471,
          0.41215109134530986,
          0.40498188420389575,
          0.40140075935051295,
          0.3947951914161866,
          0.3955552652166362,
          0.3918052829094759,
          0.39084826287051117,
          0.3916760935143288
         ],
         "yaxis": "y"
        },
        {
         "hovertemplate": "State=New Jersey<br>Year=%{x}<br>Proportion with Mortgage=%{y}<extra></extra>",
         "legendgroup": "New Jersey",
         "line": {
          "color": "#636efa",
          "dash": "solid"
         },
         "marker": {
          "symbol": "circle"
         },
         "mode": "lines",
         "name": "New Jersey",
         "orientation": "v",
         "showlegend": true,
         "type": "scatter",
         "x": [
          "2012",
          "2013",
          "2014",
          "2015",
          "2016",
          "2017",
          "2018",
          "2019",
          "2020",
          "2021"
         ],
         "xaxis": "x",
         "y": [
          0.41969884112553235,
          0.4117315736402121,
          0.40645443753104715,
          0.39656935759730677,
          0.39268831076635674,
          0.3866757123548809,
          0.3849710226964539,
          0.3809944882146671,
          0.3810295166465862,
          0.3804007231013107
         ],
         "yaxis": "y"
        },
        {
         "hovertemplate": "State=New Mexico<br>Year=%{x}<br>Proportion with Mortgage=%{y}<extra></extra>",
         "legendgroup": "New Mexico",
         "line": {
          "color": "#EF553B",
          "dash": "solid"
         },
         "marker": {
          "symbol": "circle"
         },
         "mode": "lines",
         "name": "New Mexico",
         "orientation": "v",
         "showlegend": true,
         "type": "scatter",
         "x": [
          "2012",
          "2013",
          "2014",
          "2015",
          "2016",
          "2017",
          "2018",
          "2019",
          "2020",
          "2021"
         ],
         "xaxis": "x",
         "y": [
          0.3511877792880431,
          0.3421612749977128,
          0.3381107434096345,
          0.3274137071275529,
          0.32104357577523324,
          0.31128151472205723,
          0.30949676112051216,
          0.3050281473899693,
          0.3050527359978295,
          0.307825819796735
         ],
         "yaxis": "y"
        },
        {
         "hovertemplate": "State=New York<br>Year=%{x}<br>Proportion with Mortgage=%{y}<extra></extra>",
         "legendgroup": "New York",
         "line": {
          "color": "#00cc96",
          "dash": "solid"
         },
         "marker": {
          "symbol": "circle"
         },
         "mode": "lines",
         "name": "New York",
         "orientation": "v",
         "showlegend": true,
         "type": "scatter",
         "x": [
          "2012",
          "2013",
          "2014",
          "2015",
          "2016",
          "2017",
          "2018",
          "2019",
          "2020",
          "2021"
         ],
         "xaxis": "x",
         "y": [
          0.3155779592835201,
          0.3093595496012723,
          0.3070053135172378,
          0.30057920534871957,
          0.29851090192095303,
          0.294376419603173,
          0.2929795391447413,
          0.2891648910056109,
          0.2875907377892378,
          0.28868204693995086
         ],
         "yaxis": "y"
        },
        {
         "hovertemplate": "State=North Carolina<br>Year=%{x}<br>Proportion with Mortgage=%{y}<extra></extra>",
         "legendgroup": "North Carolina",
         "line": {
          "color": "#ab63fa",
          "dash": "solid"
         },
         "marker": {
          "symbol": "circle"
         },
         "mode": "lines",
         "name": "North Carolina",
         "orientation": "v",
         "showlegend": true,
         "type": "scatter",
         "x": [
          "2012",
          "2013",
          "2014",
          "2015",
          "2016",
          "2017",
          "2018",
          "2019",
          "2020",
          "2021"
         ],
         "xaxis": "x",
         "y": [
          0.3854622148728535,
          0.3751127536329699,
          0.37416587587603006,
          0.36132536794134046,
          0.3621342431082063,
          0.3531735601454254,
          0.35765620739293236,
          0.35307274184697984,
          0.3533554279150404,
          0.3554143801376699
         ],
         "yaxis": "y"
        },
        {
         "hovertemplate": "State=North Dakota<br>Year=%{x}<br>Proportion with Mortgage=%{y}<extra></extra>",
         "legendgroup": "North Dakota",
         "line": {
          "color": "#FFA15A",
          "dash": "solid"
         },
         "marker": {
          "symbol": "circle"
         },
         "mode": "lines",
         "name": "North Dakota",
         "orientation": "v",
         "showlegend": true,
         "type": "scatter",
         "x": [
          "2012",
          "2013",
          "2014",
          "2015",
          "2016",
          "2017",
          "2018",
          "2019",
          "2020",
          "2021"
         ],
         "xaxis": "x",
         "y": [
          0.32104936957692165,
          0.31158700039155446,
          0.3153409790830028,
          0.2928164645535709,
          0.3015492784303147,
          0.2848723360276759,
          0.29107469638995176,
          0.2847642355312642,
          0.2832815981008877,
          0.28496045780860335
         ],
         "yaxis": "y"
        },
        {
         "hovertemplate": "State=Ohio<br>Year=%{x}<br>Proportion with Mortgage=%{y}<extra></extra>",
         "legendgroup": "Ohio",
         "line": {
          "color": "#19d3f3",
          "dash": "solid"
         },
         "marker": {
          "symbol": "circle"
         },
         "mode": "lines",
         "name": "Ohio",
         "orientation": "v",
         "showlegend": true,
         "type": "scatter",
         "x": [
          "2012",
          "2013",
          "2014",
          "2015",
          "2016",
          "2017",
          "2018",
          "2019",
          "2020",
          "2021"
         ],
         "xaxis": "x",
         "y": [
          0.40968811999914917,
          0.4006918559511043,
          0.39386162306426675,
          0.3853428364481914,
          0.3802352194225838,
          0.37618647448956977,
          0.3757479944299706,
          0.3737059579755431,
          0.3740742444542839,
          0.3767820754469987
         ],
         "yaxis": "y"
        },
        {
         "hovertemplate": "State=Oklahoma<br>Year=%{x}<br>Proportion with Mortgage=%{y}<extra></extra>",
         "legendgroup": "Oklahoma",
         "line": {
          "color": "#FF6692",
          "dash": "solid"
         },
         "marker": {
          "symbol": "circle"
         },
         "mode": "lines",
         "name": "Oklahoma",
         "orientation": "v",
         "showlegend": true,
         "type": "scatter",
         "x": [
          "2012",
          "2013",
          "2014",
          "2015",
          "2016",
          "2017",
          "2018",
          "2019",
          "2020",
          "2021"
         ],
         "xaxis": "x",
         "y": [
          0.3473321381106991,
          0.338959580637886,
          0.3357160138649011,
          0.32377834867740496,
          0.3216315354259166,
          0.3138234594337378,
          0.31210485970384877,
          0.30813764125403087,
          0.3089084718191907,
          0.31094417533003277
         ],
         "yaxis": "y"
        },
        {
         "hovertemplate": "State=Oregon<br>Year=%{x}<br>Proportion with Mortgage=%{y}<extra></extra>",
         "legendgroup": "Oregon",
         "line": {
          "color": "#B6E880",
          "dash": "solid"
         },
         "marker": {
          "symbol": "circle"
         },
         "mode": "lines",
         "name": "Oregon",
         "orientation": "v",
         "showlegend": true,
         "type": "scatter",
         "x": [
          "2012",
          "2013",
          "2014",
          "2015",
          "2016",
          "2017",
          "2018",
          "2019",
          "2020",
          "2021"
         ],
         "xaxis": "x",
         "y": [
          0.3928320684897702,
          0.38429803050633105,
          0.3810200892710761,
          0.3717046926372422,
          0.3749099654727543,
          0.36999347058248916,
          0.3766639104325864,
          0.3762680896217482,
          0.38074131218013757,
          0.38481619510980264
         ],
         "yaxis": "y"
        },
        {
         "hovertemplate": "State=Pennsylvania<br>Year=%{x}<br>Proportion with Mortgage=%{y}<extra></extra>",
         "legendgroup": "Pennsylvania",
         "line": {
          "color": "#FF97FF",
          "dash": "solid"
         },
         "marker": {
          "symbol": "circle"
         },
         "mode": "lines",
         "name": "Pennsylvania",
         "orientation": "v",
         "showlegend": true,
         "type": "scatter",
         "x": [
          "2012",
          "2013",
          "2014",
          "2015",
          "2016",
          "2017",
          "2018",
          "2019",
          "2020",
          "2021"
         ],
         "xaxis": "x",
         "y": [
          0.39298472707299575,
          0.38755587854781837,
          0.3830287299621446,
          0.37721405356592025,
          0.37420113932029997,
          0.369720524837938,
          0.37051885002809715,
          0.3674952760378226,
          0.3695679151180263,
          0.3709538562083289
         ],
         "yaxis": "y"
        },
        {
         "hovertemplate": "State=Puerto Rico<br>Year=%{x}<br>Proportion with Mortgage=%{y}<extra></extra>",
         "legendgroup": "Puerto Rico",
         "line": {
          "color": "#FECB52",
          "dash": "solid"
         },
         "marker": {
          "symbol": "circle"
         },
         "mode": "lines",
         "name": "Puerto Rico",
         "orientation": "v",
         "showlegend": true,
         "type": "scatter",
         "x": [
          "2012",
          "2013",
          "2014",
          "2015",
          "2016",
          "2017",
          "2018",
          "2019",
          "2020",
          "2021"
         ],
         "xaxis": "x",
         "y": [
          0.22724242282538262,
          0.2208545124873601,
          0.22777115793601713,
          0.22112379624162715,
          0.21927663744073264,
          0.21356240791883616,
          0.20614304855483953,
          0.20271188004377141,
          0.2020345184797715,
          0.1988600783503058
         ],
         "yaxis": "y"
        },
        {
         "hovertemplate": "State=Rhode Island<br>Year=%{x}<br>Proportion with Mortgage=%{y}<extra></extra>",
         "legendgroup": "Rhode Island",
         "line": {
          "color": "#636efa",
          "dash": "solid"
         },
         "marker": {
          "symbol": "circle"
         },
         "mode": "lines",
         "name": "Rhode Island",
         "orientation": "v",
         "showlegend": true,
         "type": "scatter",
         "x": [
          "2012",
          "2013",
          "2014",
          "2015",
          "2016",
          "2017",
          "2018",
          "2019",
          "2020",
          "2021"
         ],
         "xaxis": "x",
         "y": [
          0.3903390163920251,
          0.3858488324368695,
          0.37778152539587817,
          0.3748803108998675,
          0.3675329444804493,
          0.36651818952016635,
          0.3663295262176699,
          0.3643225468948509,
          0.3696251137358856,
          0.3762241046786154
         ],
         "yaxis": "y"
        },
        {
         "hovertemplate": "State=South Carolina<br>Year=%{x}<br>Proportion with Mortgage=%{y}<extra></extra>",
         "legendgroup": "South Carolina",
         "line": {
          "color": "#EF553B",
          "dash": "solid"
         },
         "marker": {
          "symbol": "circle"
         },
         "mode": "lines",
         "name": "South Carolina",
         "orientation": "v",
         "showlegend": true,
         "type": "scatter",
         "x": [
          "2012",
          "2013",
          "2014",
          "2015",
          "2016",
          "2017",
          "2018",
          "2019",
          "2020",
          "2021"
         ],
         "xaxis": "x",
         "y": [
          0.3605700937381703,
          0.35294899098909777,
          0.35036557646874406,
          0.3416423324198772,
          0.3442461754691929,
          0.3341353002346972,
          0.34214183312968416,
          0.3399773310256224,
          0.3422434966487173,
          0.3466550664703292
         ],
         "yaxis": "y"
        },
        {
         "hovertemplate": "State=South Dakota<br>Year=%{x}<br>Proportion with Mortgage=%{y}<extra></extra>",
         "legendgroup": "South Dakota",
         "line": {
          "color": "#00cc96",
          "dash": "solid"
         },
         "marker": {
          "symbol": "circle"
         },
         "mode": "lines",
         "name": "South Dakota",
         "orientation": "v",
         "showlegend": true,
         "type": "scatter",
         "x": [
          "2012",
          "2013",
          "2014",
          "2015",
          "2016",
          "2017",
          "2018",
          "2019",
          "2020",
          "2021"
         ],
         "xaxis": "x",
         "y": [
          0.3559304329659999,
          0.34778946113882975,
          0.3506456217493314,
          0.3411774408964897,
          0.34161008573086094,
          0.3322257679220508,
          0.33627830937656694,
          0.3310327243986079,
          0.32805802170773934,
          0.3314780647021745
         ],
         "yaxis": "y"
        },
        {
         "hovertemplate": "State=Tennessee<br>Year=%{x}<br>Proportion with Mortgage=%{y}<extra></extra>",
         "legendgroup": "Tennessee",
         "line": {
          "color": "#ab63fa",
          "dash": "solid"
         },
         "marker": {
          "symbol": "circle"
         },
         "mode": "lines",
         "name": "Tennessee",
         "orientation": "v",
         "showlegend": true,
         "type": "scatter",
         "x": [
          "2012",
          "2013",
          "2014",
          "2015",
          "2016",
          "2017",
          "2018",
          "2019",
          "2020",
          "2021"
         ],
         "xaxis": "x",
         "y": [
          0.37782722716044287,
          0.36854796272958523,
          0.36455173777560895,
          0.3552586795514008,
          0.3543370530193635,
          0.34496934001699353,
          0.34873840890686447,
          0.34401411040916,
          0.3459125731319133,
          0.3489391336922691
         ],
         "yaxis": "y"
        },
        {
         "hovertemplate": "State=Texas<br>Year=%{x}<br>Proportion with Mortgage=%{y}<extra></extra>",
         "legendgroup": "Texas",
         "line": {
          "color": "#FFA15A",
          "dash": "solid"
         },
         "marker": {
          "symbol": "circle"
         },
         "mode": "lines",
         "name": "Texas",
         "orientation": "v",
         "showlegend": true,
         "type": "scatter",
         "x": [
          "2012",
          "2013",
          "2014",
          "2015",
          "2016",
          "2017",
          "2018",
          "2019",
          "2020",
          "2021"
         ],
         "xaxis": "x",
         "y": [
          0.3512264864673636,
          0.3396597432324069,
          0.33993039016243454,
          0.32526356244893645,
          0.32893860594528784,
          0.3168399892292408,
          0.3224754994305174,
          0.3151775446085618,
          0.3152242311352271,
          0.3183606089971208
         ],
         "yaxis": "y"
        },
        {
         "hovertemplate": "State=Utah<br>Year=%{x}<br>Proportion with Mortgage=%{y}<extra></extra>",
         "legendgroup": "Utah",
         "line": {
          "color": "#19d3f3",
          "dash": "solid"
         },
         "marker": {
          "symbol": "circle"
         },
         "mode": "lines",
         "name": "Utah",
         "orientation": "v",
         "showlegend": true,
         "type": "scatter",
         "x": [
          "2012",
          "2013",
          "2014",
          "2015",
          "2016",
          "2017",
          "2018",
          "2019",
          "2020",
          "2021"
         ],
         "xaxis": "x",
         "y": [
          0.46633355377568764,
          0.4547059517831743,
          0.45766464927658207,
          0.4409778066827011,
          0.4502348434723009,
          0.43426558274733595,
          0.4515520300555037,
          0.4449835895473511,
          0.4469370092284637,
          0.4512384897817315
         ],
         "yaxis": "y"
        },
        {
         "hovertemplate": "State=Vermont<br>Year=%{x}<br>Proportion with Mortgage=%{y}<extra></extra>",
         "legendgroup": "Vermont",
         "line": {
          "color": "#FF6692",
          "dash": "solid"
         },
         "marker": {
          "symbol": "circle"
         },
         "mode": "lines",
         "name": "Vermont",
         "orientation": "v",
         "showlegend": true,
         "type": "scatter",
         "x": [
          "2012",
          "2013",
          "2014",
          "2015",
          "2016",
          "2017",
          "2018",
          "2019",
          "2020",
          "2021"
         ],
         "xaxis": "x",
         "y": [
          0.37987791821699773,
          0.371486624816546,
          0.3671554433829336,
          0.3586710402310809,
          0.35612318328033604,
          0.34550603129607554,
          0.34895471540835865,
          0.34410550479255164,
          0.3464832420955239,
          0.3483219846545474
         ],
         "yaxis": "y"
        },
        {
         "hovertemplate": "State=Virginia<br>Year=%{x}<br>Proportion with Mortgage=%{y}<extra></extra>",
         "legendgroup": "Virginia",
         "line": {
          "color": "#B6E880",
          "dash": "solid"
         },
         "marker": {
          "symbol": "circle"
         },
         "mode": "lines",
         "name": "Virginia",
         "orientation": "v",
         "showlegend": true,
         "type": "scatter",
         "x": [
          "2012",
          "2013",
          "2014",
          "2015",
          "2016",
          "2017",
          "2018",
          "2019",
          "2020",
          "2021"
         ],
         "xaxis": "x",
         "y": [
          0.4367038984151129,
          0.4286481621489633,
          0.4266942731444295,
          0.41546812130063737,
          0.41657048728840174,
          0.4098449453193858,
          0.412726450934417,
          0.40799400802269303,
          0.40948553163728296,
          0.41092099774755986
         ],
         "yaxis": "y"
        },
        {
         "hovertemplate": "State=Washington<br>Year=%{x}<br>Proportion with Mortgage=%{y}<extra></extra>",
         "legendgroup": "Washington",
         "line": {
          "color": "#FF97FF",
          "dash": "solid"
         },
         "marker": {
          "symbol": "circle"
         },
         "mode": "lines",
         "name": "Washington",
         "orientation": "v",
         "showlegend": true,
         "type": "scatter",
         "x": [
          "2012",
          "2013",
          "2014",
          "2015",
          "2016",
          "2017",
          "2018",
          "2019",
          "2020",
          "2021"
         ],
         "xaxis": "x",
         "y": [
          0.4183516597057194,
          0.4059805625043644,
          0.40454444811552737,
          0.39351573775774285,
          0.3972778877322427,
          0.38943754056692037,
          0.3990750668646274,
          0.3951662434718116,
          0.3980605638890811,
          0.3992875379057273
         ],
         "yaxis": "y"
        },
        {
         "hovertemplate": "State=West Virginia<br>Year=%{x}<br>Proportion with Mortgage=%{y}<extra></extra>",
         "legendgroup": "West Virginia",
         "line": {
          "color": "#FECB52",
          "dash": "solid"
         },
         "marker": {
          "symbol": "circle"
         },
         "mode": "lines",
         "name": "West Virginia",
         "orientation": "v",
         "showlegend": true,
         "type": "scatter",
         "x": [
          "2012",
          "2013",
          "2014",
          "2015",
          "2016",
          "2017",
          "2018",
          "2019",
          "2020",
          "2021"
         ],
         "xaxis": "x",
         "y": [
          0.30952121871599564,
          0.30290071184571504,
          0.29858868427415375,
          0.2917292094293387,
          0.2885187967203026,
          0.28418068630257715,
          0.2811328753582967,
          0.2800605706010657,
          0.2829059494301237,
          0.2858441049198487
         ],
         "yaxis": "y"
        },
        {
         "hovertemplate": "State=Wisconsin<br>Year=%{x}<br>Proportion with Mortgage=%{y}<extra></extra>",
         "legendgroup": "Wisconsin",
         "line": {
          "color": "#636efa",
          "dash": "solid"
         },
         "marker": {
          "symbol": "circle"
         },
         "mode": "lines",
         "name": "Wisconsin",
         "orientation": "v",
         "showlegend": true,
         "type": "scatter",
         "x": [
          "2012",
          "2013",
          "2014",
          "2015",
          "2016",
          "2017",
          "2018",
          "2019",
          "2020",
          "2021"
         ],
         "xaxis": "x",
         "y": [
          0.40549709758162966,
          0.396100018136274,
          0.3920222135741327,
          0.38354285576259334,
          0.3815163912240449,
          0.37660001074133087,
          0.37806348578254817,
          0.37499011885945105,
          0.3732684639357743,
          0.37498845815266435
         ],
         "yaxis": "y"
        },
        {
         "hovertemplate": "State=Wyoming<br>Year=%{x}<br>Proportion with Mortgage=%{y}<extra></extra>",
         "legendgroup": "Wyoming",
         "line": {
          "color": "#EF553B",
          "dash": "solid"
         },
         "marker": {
          "symbol": "circle"
         },
         "mode": "lines",
         "name": "Wyoming",
         "orientation": "v",
         "showlegend": true,
         "type": "scatter",
         "x": [
          "2012",
          "2013",
          "2014",
          "2015",
          "2016",
          "2017",
          "2018",
          "2019",
          "2020",
          "2021"
         ],
         "xaxis": "x",
         "y": [
          0.3607122365451555,
          0.3525518957748072,
          0.35237226277372263,
          0.34533391545112263,
          0.3378164497618423,
          0.33627652417404585,
          0.3405971701429576,
          0.340882656783916,
          0.345460421192481,
          0.35649956956492945
         ],
         "yaxis": "y"
        }
       ],
       "layout": {
        "legend": {
         "title": {
          "text": "State"
         },
         "tracegroupgap": 0
        },
        "showlegend": true,
        "template": {
         "data": {
          "bar": [
           {
            "error_x": {
             "color": "#2a3f5f"
            },
            "error_y": {
             "color": "#2a3f5f"
            },
            "marker": {
             "line": {
              "color": "#E5ECF6",
              "width": 0.5
             },
             "pattern": {
              "fillmode": "overlay",
              "size": 10,
              "solidity": 0.2
             }
            },
            "type": "bar"
           }
          ],
          "barpolar": [
           {
            "marker": {
             "line": {
              "color": "#E5ECF6",
              "width": 0.5
             },
             "pattern": {
              "fillmode": "overlay",
              "size": 10,
              "solidity": 0.2
             }
            },
            "type": "barpolar"
           }
          ],
          "carpet": [
           {
            "aaxis": {
             "endlinecolor": "#2a3f5f",
             "gridcolor": "white",
             "linecolor": "white",
             "minorgridcolor": "white",
             "startlinecolor": "#2a3f5f"
            },
            "baxis": {
             "endlinecolor": "#2a3f5f",
             "gridcolor": "white",
             "linecolor": "white",
             "minorgridcolor": "white",
             "startlinecolor": "#2a3f5f"
            },
            "type": "carpet"
           }
          ],
          "choropleth": [
           {
            "colorbar": {
             "outlinewidth": 0,
             "ticks": ""
            },
            "type": "choropleth"
           }
          ],
          "contour": [
           {
            "colorbar": {
             "outlinewidth": 0,
             "ticks": ""
            },
            "colorscale": [
             [
              0,
              "#0d0887"
             ],
             [
              0.1111111111111111,
              "#46039f"
             ],
             [
              0.2222222222222222,
              "#7201a8"
             ],
             [
              0.3333333333333333,
              "#9c179e"
             ],
             [
              0.4444444444444444,
              "#bd3786"
             ],
             [
              0.5555555555555556,
              "#d8576b"
             ],
             [
              0.6666666666666666,
              "#ed7953"
             ],
             [
              0.7777777777777778,
              "#fb9f3a"
             ],
             [
              0.8888888888888888,
              "#fdca26"
             ],
             [
              1,
              "#f0f921"
             ]
            ],
            "type": "contour"
           }
          ],
          "contourcarpet": [
           {
            "colorbar": {
             "outlinewidth": 0,
             "ticks": ""
            },
            "type": "contourcarpet"
           }
          ],
          "heatmap": [
           {
            "colorbar": {
             "outlinewidth": 0,
             "ticks": ""
            },
            "colorscale": [
             [
              0,
              "#0d0887"
             ],
             [
              0.1111111111111111,
              "#46039f"
             ],
             [
              0.2222222222222222,
              "#7201a8"
             ],
             [
              0.3333333333333333,
              "#9c179e"
             ],
             [
              0.4444444444444444,
              "#bd3786"
             ],
             [
              0.5555555555555556,
              "#d8576b"
             ],
             [
              0.6666666666666666,
              "#ed7953"
             ],
             [
              0.7777777777777778,
              "#fb9f3a"
             ],
             [
              0.8888888888888888,
              "#fdca26"
             ],
             [
              1,
              "#f0f921"
             ]
            ],
            "type": "heatmap"
           }
          ],
          "heatmapgl": [
           {
            "colorbar": {
             "outlinewidth": 0,
             "ticks": ""
            },
            "colorscale": [
             [
              0,
              "#0d0887"
             ],
             [
              0.1111111111111111,
              "#46039f"
             ],
             [
              0.2222222222222222,
              "#7201a8"
             ],
             [
              0.3333333333333333,
              "#9c179e"
             ],
             [
              0.4444444444444444,
              "#bd3786"
             ],
             [
              0.5555555555555556,
              "#d8576b"
             ],
             [
              0.6666666666666666,
              "#ed7953"
             ],
             [
              0.7777777777777778,
              "#fb9f3a"
             ],
             [
              0.8888888888888888,
              "#fdca26"
             ],
             [
              1,
              "#f0f921"
             ]
            ],
            "type": "heatmapgl"
           }
          ],
          "histogram": [
           {
            "marker": {
             "pattern": {
              "fillmode": "overlay",
              "size": 10,
              "solidity": 0.2
             }
            },
            "type": "histogram"
           }
          ],
          "histogram2d": [
           {
            "colorbar": {
             "outlinewidth": 0,
             "ticks": ""
            },
            "colorscale": [
             [
              0,
              "#0d0887"
             ],
             [
              0.1111111111111111,
              "#46039f"
             ],
             [
              0.2222222222222222,
              "#7201a8"
             ],
             [
              0.3333333333333333,
              "#9c179e"
             ],
             [
              0.4444444444444444,
              "#bd3786"
             ],
             [
              0.5555555555555556,
              "#d8576b"
             ],
             [
              0.6666666666666666,
              "#ed7953"
             ],
             [
              0.7777777777777778,
              "#fb9f3a"
             ],
             [
              0.8888888888888888,
              "#fdca26"
             ],
             [
              1,
              "#f0f921"
             ]
            ],
            "type": "histogram2d"
           }
          ],
          "histogram2dcontour": [
           {
            "colorbar": {
             "outlinewidth": 0,
             "ticks": ""
            },
            "colorscale": [
             [
              0,
              "#0d0887"
             ],
             [
              0.1111111111111111,
              "#46039f"
             ],
             [
              0.2222222222222222,
              "#7201a8"
             ],
             [
              0.3333333333333333,
              "#9c179e"
             ],
             [
              0.4444444444444444,
              "#bd3786"
             ],
             [
              0.5555555555555556,
              "#d8576b"
             ],
             [
              0.6666666666666666,
              "#ed7953"
             ],
             [
              0.7777777777777778,
              "#fb9f3a"
             ],
             [
              0.8888888888888888,
              "#fdca26"
             ],
             [
              1,
              "#f0f921"
             ]
            ],
            "type": "histogram2dcontour"
           }
          ],
          "mesh3d": [
           {
            "colorbar": {
             "outlinewidth": 0,
             "ticks": ""
            },
            "type": "mesh3d"
           }
          ],
          "parcoords": [
           {
            "line": {
             "colorbar": {
              "outlinewidth": 0,
              "ticks": ""
             }
            },
            "type": "parcoords"
           }
          ],
          "pie": [
           {
            "automargin": true,
            "type": "pie"
           }
          ],
          "scatter": [
           {
            "fillpattern": {
             "fillmode": "overlay",
             "size": 10,
             "solidity": 0.2
            },
            "type": "scatter"
           }
          ],
          "scatter3d": [
           {
            "line": {
             "colorbar": {
              "outlinewidth": 0,
              "ticks": ""
             }
            },
            "marker": {
             "colorbar": {
              "outlinewidth": 0,
              "ticks": ""
             }
            },
            "type": "scatter3d"
           }
          ],
          "scattercarpet": [
           {
            "marker": {
             "colorbar": {
              "outlinewidth": 0,
              "ticks": ""
             }
            },
            "type": "scattercarpet"
           }
          ],
          "scattergeo": [
           {
            "marker": {
             "colorbar": {
              "outlinewidth": 0,
              "ticks": ""
             }
            },
            "type": "scattergeo"
           }
          ],
          "scattergl": [
           {
            "marker": {
             "colorbar": {
              "outlinewidth": 0,
              "ticks": ""
             }
            },
            "type": "scattergl"
           }
          ],
          "scattermapbox": [
           {
            "marker": {
             "colorbar": {
              "outlinewidth": 0,
              "ticks": ""
             }
            },
            "type": "scattermapbox"
           }
          ],
          "scatterpolar": [
           {
            "marker": {
             "colorbar": {
              "outlinewidth": 0,
              "ticks": ""
             }
            },
            "type": "scatterpolar"
           }
          ],
          "scatterpolargl": [
           {
            "marker": {
             "colorbar": {
              "outlinewidth": 0,
              "ticks": ""
             }
            },
            "type": "scatterpolargl"
           }
          ],
          "scatterternary": [
           {
            "marker": {
             "colorbar": {
              "outlinewidth": 0,
              "ticks": ""
             }
            },
            "type": "scatterternary"
           }
          ],
          "surface": [
           {
            "colorbar": {
             "outlinewidth": 0,
             "ticks": ""
            },
            "colorscale": [
             [
              0,
              "#0d0887"
             ],
             [
              0.1111111111111111,
              "#46039f"
             ],
             [
              0.2222222222222222,
              "#7201a8"
             ],
             [
              0.3333333333333333,
              "#9c179e"
             ],
             [
              0.4444444444444444,
              "#bd3786"
             ],
             [
              0.5555555555555556,
              "#d8576b"
             ],
             [
              0.6666666666666666,
              "#ed7953"
             ],
             [
              0.7777777777777778,
              "#fb9f3a"
             ],
             [
              0.8888888888888888,
              "#fdca26"
             ],
             [
              1,
              "#f0f921"
             ]
            ],
            "type": "surface"
           }
          ],
          "table": [
           {
            "cells": {
             "fill": {
              "color": "#EBF0F8"
             },
             "line": {
              "color": "white"
             }
            },
            "header": {
             "fill": {
              "color": "#C8D4E3"
             },
             "line": {
              "color": "white"
             }
            },
            "type": "table"
           }
          ]
         },
         "layout": {
          "annotationdefaults": {
           "arrowcolor": "#2a3f5f",
           "arrowhead": 0,
           "arrowwidth": 1
          },
          "autotypenumbers": "strict",
          "coloraxis": {
           "colorbar": {
            "outlinewidth": 0,
            "ticks": ""
           }
          },
          "colorscale": {
           "diverging": [
            [
             0,
             "#8e0152"
            ],
            [
             0.1,
             "#c51b7d"
            ],
            [
             0.2,
             "#de77ae"
            ],
            [
             0.3,
             "#f1b6da"
            ],
            [
             0.4,
             "#fde0ef"
            ],
            [
             0.5,
             "#f7f7f7"
            ],
            [
             0.6,
             "#e6f5d0"
            ],
            [
             0.7,
             "#b8e186"
            ],
            [
             0.8,
             "#7fbc41"
            ],
            [
             0.9,
             "#4d9221"
            ],
            [
             1,
             "#276419"
            ]
           ],
           "sequential": [
            [
             0,
             "#0d0887"
            ],
            [
             0.1111111111111111,
             "#46039f"
            ],
            [
             0.2222222222222222,
             "#7201a8"
            ],
            [
             0.3333333333333333,
             "#9c179e"
            ],
            [
             0.4444444444444444,
             "#bd3786"
            ],
            [
             0.5555555555555556,
             "#d8576b"
            ],
            [
             0.6666666666666666,
             "#ed7953"
            ],
            [
             0.7777777777777778,
             "#fb9f3a"
            ],
            [
             0.8888888888888888,
             "#fdca26"
            ],
            [
             1,
             "#f0f921"
            ]
           ],
           "sequentialminus": [
            [
             0,
             "#0d0887"
            ],
            [
             0.1111111111111111,
             "#46039f"
            ],
            [
             0.2222222222222222,
             "#7201a8"
            ],
            [
             0.3333333333333333,
             "#9c179e"
            ],
            [
             0.4444444444444444,
             "#bd3786"
            ],
            [
             0.5555555555555556,
             "#d8576b"
            ],
            [
             0.6666666666666666,
             "#ed7953"
            ],
            [
             0.7777777777777778,
             "#fb9f3a"
            ],
            [
             0.8888888888888888,
             "#fdca26"
            ],
            [
             1,
             "#f0f921"
            ]
           ]
          },
          "colorway": [
           "#636efa",
           "#EF553B",
           "#00cc96",
           "#ab63fa",
           "#FFA15A",
           "#19d3f3",
           "#FF6692",
           "#B6E880",
           "#FF97FF",
           "#FECB52"
          ],
          "font": {
           "color": "#2a3f5f"
          },
          "geo": {
           "bgcolor": "white",
           "lakecolor": "white",
           "landcolor": "#E5ECF6",
           "showlakes": true,
           "showland": true,
           "subunitcolor": "white"
          },
          "hoverlabel": {
           "align": "left"
          },
          "hovermode": "closest",
          "mapbox": {
           "style": "light"
          },
          "paper_bgcolor": "white",
          "plot_bgcolor": "#E5ECF6",
          "polar": {
           "angularaxis": {
            "gridcolor": "white",
            "linecolor": "white",
            "ticks": ""
           },
           "bgcolor": "#E5ECF6",
           "radialaxis": {
            "gridcolor": "white",
            "linecolor": "white",
            "ticks": ""
           }
          },
          "scene": {
           "xaxis": {
            "backgroundcolor": "#E5ECF6",
            "gridcolor": "white",
            "gridwidth": 2,
            "linecolor": "white",
            "showbackground": true,
            "ticks": "",
            "zerolinecolor": "white"
           },
           "yaxis": {
            "backgroundcolor": "#E5ECF6",
            "gridcolor": "white",
            "gridwidth": 2,
            "linecolor": "white",
            "showbackground": true,
            "ticks": "",
            "zerolinecolor": "white"
           },
           "zaxis": {
            "backgroundcolor": "#E5ECF6",
            "gridcolor": "white",
            "gridwidth": 2,
            "linecolor": "white",
            "showbackground": true,
            "ticks": "",
            "zerolinecolor": "white"
           }
          },
          "shapedefaults": {
           "line": {
            "color": "#2a3f5f"
           }
          },
          "ternary": {
           "aaxis": {
            "gridcolor": "white",
            "linecolor": "white",
            "ticks": ""
           },
           "baxis": {
            "gridcolor": "white",
            "linecolor": "white",
            "ticks": ""
           },
           "bgcolor": "#E5ECF6",
           "caxis": {
            "gridcolor": "white",
            "linecolor": "white",
            "ticks": ""
           }
          },
          "title": {
           "x": 0.05
          },
          "xaxis": {
           "automargin": true,
           "gridcolor": "white",
           "linecolor": "white",
           "ticks": "",
           "title": {
            "standoff": 15
           },
           "zerolinecolor": "white",
           "zerolinewidth": 2
          },
          "yaxis": {
           "automargin": true,
           "gridcolor": "white",
           "linecolor": "white",
           "ticks": "",
           "title": {
            "standoff": 15
           },
           "zerolinecolor": "white",
           "zerolinewidth": 2
          }
         }
        },
        "title": {
         "text": "Proportion of Housing Units with a Mortgage by State"
        },
        "xaxis": {
         "anchor": "y",
         "domain": [
          0,
          1
         ],
         "title": {
          "text": "Year"
         }
        },
        "yaxis": {
         "anchor": "x",
         "domain": [
          0,
          1
         ],
         "title": {
          "text": "Proportion with Mortgage"
         }
        }
       }
      }
     },
     "metadata": {},
     "output_type": "display_data"
    }
   ],
   "source": [
    "df = sdf.copy()\n",
    "df['Year'] = df['YEAR'].astype(str)\n",
    "df_grouped = df.groupby(['Geographic Area Name', 'Year']).apply(lambda x: (x['Housing units with a mortgage'] / x['Total housing units_x']).mean()).reset_index()\n",
    "df_grouped.columns = ['State', 'Year', 'Proportion with Mortgage']\n",
    "fig = px.line(df_grouped, x='Year', y='Proportion with Mortgage', color='State', title='Proportion of Housing Units with a Mortgage by State')\n",
    "fig.update_layout(showlegend=True)\n",
    "# fig.write_image('exports/charts/temp_chart.png', engine='kaleido')"
   ]
  },
  {
   "cell_type": "markdown",
   "metadata": {},
   "source": [
    "# [LangChain](https://pypi.org/project/langchain/)\n",
    "https://coinsbench.com/chat-with-your-databases-using-langchain-bb7d31ed2e76  \n",
    "https://medium.com/@hannanmentor/python-custom-chatgpt-with-your-own-data-f307635dd5bd  "
   ]
  },
  {
   "cell_type": "code",
   "execution_count": null,
   "metadata": {},
   "outputs": [],
   "source": []
  }
 ],
 "metadata": {
  "kernelspec": {
   "display_name": ".venv",
   "language": "python",
   "name": "python3"
  },
  "language_info": {
   "codemirror_mode": {
    "name": "ipython",
    "version": 3
   },
   "file_extension": ".py",
   "mimetype": "text/x-python",
   "name": "python",
   "nbconvert_exporter": "python",
   "pygments_lexer": "ipython3",
   "version": "3.10.12"
  },
  "orig_nbformat": 4
 },
 "nbformat": 4,
 "nbformat_minor": 2
}
