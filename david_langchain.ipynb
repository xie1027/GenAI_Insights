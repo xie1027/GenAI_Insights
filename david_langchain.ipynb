{
 "cells": [
  {
   "cell_type": "raw",
   "metadata": {},
   "source": [
    ".env contains\n",
    "OPENAI_API_KEY=<your key without quotes>"
   ]
  },
  {
   "cell_type": "code",
   "execution_count": 1,
   "metadata": {},
   "outputs": [],
   "source": [
    "import os\n",
    "import ast\n",
    "import sqlite3\n",
    "import openai\n",
    "import pandas as pd\n",
    "from pathlib import Path, PosixPath\n",
    "from typing import NamedTuple\n",
    "from tabulate import tabulate\n",
    "from dotenv import dotenv_values\n",
    "from langchain import OpenAI, SQLDatabase, PromptTemplate, LLMChain\n",
    "from langchain.chat_models import ChatOpenAI\n",
    "from langchain.llms import OpenAI\n",
    "from langchain.prompts import ChatPromptTemplate\n",
    "from langchain.schema.output_parser import StrOutputParser\n",
    "from langchain.schema.runnable import RunnablePassthrough  # Try without .passthrough\n",
    "from langchain_experimental.sql import SQLDatabaseChain\n",
    "\n",
    "# from langchain.utilities import SQLDatabase"
   ]
  },
  {
   "cell_type": "code",
   "execution_count": 2,
   "metadata": {},
   "outputs": [],
   "source": [
    "# Column detail NamedTuple\n",
    "class ColumnDetail(NamedTuple):\n",
    "    name: str\n",
    "    type: str\n",
    "    values: list[str | int | float]"
   ]
  },
  {
   "cell_type": "code",
   "execution_count": 3,
   "metadata": {},
   "outputs": [],
   "source": [
    "def get_env_values() -> dict[str, str | None]:\n",
    "    return dotenv_values()"
   ]
  },
  {
   "cell_type": "code",
   "execution_count": 4,
   "metadata": {},
   "outputs": [],
   "source": [
    "env_values: dict[str, str | None] = get_env_values()\n",
    "\n",
    "\n",
    "# NamedTuple type hint\n",
    "class ParametersType(NamedTuple):\n",
    "    data_dir: PosixPath  # Platform neutral pathlib PosixPath to data directory\n",
    "    acs_path: PosixPath  # Platform neutral pathlib PosixPath to ACS data\n",
    "    db_path: PosixPath  # Platform neutral pathlib PosixPath to SQLite3 database\n",
    "    db_connection: sqlite3.Connection  # SQLite3 database connection\n",
    "    openai_api_key: str  # OpenAI API key\n",
    "    huggingfacehub_api_token: str  # HuggingFace API token\n",
    "\n",
    "\n",
    "Parameters: ParametersType = ParametersType(\n",
    "    data_dir=Path.cwd() / \"Data\",\n",
    "    acs_path=Path.cwd() / \"Data/ACS_2012_21.csv\",\n",
    "    db_path=Path.cwd() / \"Data/data.sqlite3\",\n",
    "    db_connection=sqlite3.connect(\n",
    "        Path.cwd() / \"Data/data.sqlite3\"\n",
    "    ),  # \":memory:\", \"Data/data.sqlite3\", \"Data/acs.sqlite3\"\n",
    "    openai_api_key=env_values[\"OPENAI_API_KEY\"],\n",
    "    huggingfacehub_api_token=env_values[\"HUGGINGFACEHUB_API_TOKEN\"],\n",
    ")"
   ]
  },
  {
   "cell_type": "code",
   "execution_count": 5,
   "metadata": {},
   "outputs": [],
   "source": [
    "class DatabaseInfoExtractor:\n",
    "    \"\"\"\n",
    "    A class for extracting information about tables and columns from a SQLite database.\n",
    "\n",
    "    Attributes:\n",
    "    - db_path (str): The path to the SQLite database file.\n",
    "    - conn (sqlite3.Connection): The connection object to the database.\n",
    "    - cursor (sqlite3.Cursor): The cursor object for executing SQL queries.\n",
    "\n",
    "    Methods:\n",
    "    - extract_info() -> dict[str, dict[str, list[str]]]: Returns a dictionary containing information about each table in the database.\n",
    "    \"\"\"\n",
    "\n",
    "    def __init__(self, db_path: PosixPath) -> None:\n",
    "        self.db_path = db_path\n",
    "        self.conn = sqlite3.connect(db_path)\n",
    "        self.cursor = self.conn.cursor()\n",
    "\n",
    "    def extract_info(self) -> dict[str, dict[str, list[str]]]:\n",
    "        tables: dict[str, str] = {}\n",
    "        self.cursor.execute(\"SELECT name FROM sqlite_master WHERE type='table';\")\n",
    "        table_names: list[str] = [row[0] for row in self.cursor.fetchall()]\n",
    "        for table_name in table_names:\n",
    "            columns: list[str] = []\n",
    "            column_types: list[str] = []\n",
    "            self.cursor.execute(f\"PRAGMA table_info({table_name})\")\n",
    "            for row in self.cursor.fetchall():\n",
    "                columns.append(row[1])\n",
    "                column_types.append(row[2])\n",
    "            tables[table_name] = {\"columns\": columns, \"column_types\": column_types}\n",
    "\n",
    "            # Fetch the first five records from the table\n",
    "            self.cursor.execute(f\"SELECT * FROM {table_name} LIMIT 5;\")\n",
    "            records: list[tuple] = self.cursor.fetchall()\n",
    "            tables[table_name][\"records\"] = records\n",
    "\n",
    "        return tables"
   ]
  },
  {
   "cell_type": "code",
   "execution_count": 6,
   "metadata": {},
   "outputs": [],
   "source": [
    "class AnswerGenerator:\n",
    "    def __init__(self, question: str, table_text: str, cursor: sqlite3.Cursor) -> None:\n",
    "        self.question = question\n",
    "        self.table_text = table_text\n",
    "        self.cursor = cursor\n",
    "\n",
    "    def generate_sql_prompt_v1(self) -> str:\n",
    "        return f\"\"\"\n",
    "Please return a syntactically correct SQLite query answering the following question:\n",
    "\n",
    "{self.question}\n",
    "\n",
    "Using the table information below:\n",
    "\n",
    "{self.table_text}\n",
    "\n",
    "Always quote the table columns used in the query.\n",
    "\n",
    "If you are not able to exactly answer the question, please return the following message:\n",
    "\n",
    "I am not able to answer the question exactly.\n",
    "        \"\"\"\n",
    "\n",
    "    def generate_sql_prompt_v2(self) -> str:\n",
    "        return f\"\"\"\n",
    "Please return a syntactically correct SQLite query, always quote the columns used in the query, answering the following question:\n",
    "\n",
    "{self.question}\n",
    "\n",
    "Using the table information below:\n",
    "\n",
    "{self.table_text}\n",
    "        \"\"\"\n",
    "\n",
    "    def clean_up_result(self, sql_result, sql) -> str:\n",
    "        return f\"\"\"\n",
    "Please put the following result in readable format:\n",
    "\n",
    "{sql_result}\n",
    "\n",
    "It was generated by this SQL query:\n",
    "\n",
    "{sql}\n",
    "        \"\"\"\n",
    "\n",
    "    def answer_question(self):\n",
    "        self.sql_prompt = self.generate_sql_prompt_v1()\n",
    "        self.sql = llm(self.sql_prompt)\n",
    "        self.cursor.execute(self.sql)\n",
    "        self.sql_result = self.cursor.fetchall()\n",
    "        self.clean_up_result_prompt = self.clean_up_result(self.sql_result, self.sql)\n",
    "        self.cleaned_result = llm(self.clean_up_result_prompt)"
   ]
  },
  {
   "cell_type": "code",
   "execution_count": 7,
   "metadata": {},
   "outputs": [],
   "source": [
    "def col_details_to_named_tup(\n",
    "    table_name: str, db_info: dict[str, dict[str, list]]\n",
    ") -> dict[int, ColumnDetail]:\n",
    "    \"\"\"\n",
    "    Put the column detail into a NamedTuple.\n",
    "    \"\"\"\n",
    "    values: list[str | int | float] = [\n",
    "        [t[i] for t in db_info[table_name][\"records\"]]\n",
    "        for i in range(len(db_info[table_name][\"columns\"]))\n",
    "    ]\n",
    "\n",
    "    col_details: list[tuple[str, str, list[str | int | float]]] = list(\n",
    "        zip(\n",
    "            db_info[table_name][\"columns\"],\n",
    "            db_info[table_name][\"column_types\"],\n",
    "            values,\n",
    "        )\n",
    "    )\n",
    "\n",
    "    table_detail: dict[int, ColumnDetail] = {\n",
    "        i: ColumnDetail(*col_detail) for i, col_detail in enumerate(col_details)\n",
    "    }\n",
    "\n",
    "    return table_detail"
   ]
  },
  {
   "cell_type": "code",
   "execution_count": 8,
   "metadata": {},
   "outputs": [],
   "source": [
    "def fmt_df_info_for_tabulation(db_info: dict[str, dict[str, list]]) -> dict[str, list[str, str, str, list[str | int | float]]]:\n",
    "    \"\"\"\n",
    "    Format the database information for tabulation.\n",
    "    \"\"\"\n",
    "    table_summaries: dict[str, list[str, str, str, list[str | int | float]]] = {}\n",
    "\n",
    "    for table_name, table_info in db_info.items():\n",
    "        table_summary = []\n",
    "        column_details: dict[int, ColumnDetail] = col_details_to_named_tup(table_name, db_info)\n",
    "\n",
    "        for col_detail in column_details.values():\n",
    "            table_summary.append(\n",
    "                [table_name, col_detail.name, col_detail.type, col_detail.values]\n",
    "            )\n",
    "\n",
    "        table_summaries[table_name] = table_summary\n",
    "\n",
    "    return table_summaries\n"
   ]
  },
  {
   "cell_type": "code",
   "execution_count": 9,
   "metadata": {},
   "outputs": [],
   "source": [
    "# Instantiate DatabaseInfoExtractor\n",
    "db_info_extractor = DatabaseInfoExtractor(Parameters.db_path)"
   ]
  },
  {
   "cell_type": "code",
   "execution_count": 10,
   "metadata": {},
   "outputs": [],
   "source": [
    "# Extract information about the database\n",
    "db_info = db_info_extractor.extract_info()"
   ]
  },
  {
   "cell_type": "code",
   "execution_count": 11,
   "metadata": {},
   "outputs": [],
   "source": [
    "# Format the database information for tabulation\n",
    "table_summaries: dict[str, list[str, str, str, list[str | int | float]]] = fmt_df_info_for_tabulation(db_info)"
   ]
  },
  {
   "cell_type": "code",
   "execution_count": 12,
   "metadata": {},
   "outputs": [],
   "source": [
    "# Connect to the database\n",
    "db_path: PosixPath = Parameters.db_path\n",
    "conn = sqlite3.connect(db_path)\n",
    "cursor = conn.cursor()"
   ]
  },
  {
   "cell_type": "code",
   "execution_count": 13,
   "metadata": {},
   "outputs": [],
   "source": [
    "# LLM call Using LangChain\n",
    "llm = OpenAI(model_name=\"text-davinci-003\", openai_api_key=Parameters.openai_api_key)"
   ]
  },
  {
   "cell_type": "code",
   "execution_count": 14,
   "metadata": {},
   "outputs": [],
   "source": [
    "# Table headers for tabulation\n",
    "table_headers = [\"Table Name\", \"Column Name\", \"Column Type\", \"First Five Column Values\"]"
   ]
  },
  {
   "cell_type": "code",
   "execution_count": 15,
   "metadata": {},
   "outputs": [],
   "source": [
    "# Table text for ACS table\n",
    "table_text: str = (\n",
    "    tabulate(table_summaries[\"acs\"], headers=table_headers, tablefmt=\"plain\") + \"\\n\"\n",
    ")  # grid"
   ]
  },
  {
   "cell_type": "code",
   "execution_count": 18,
   "metadata": {},
   "outputs": [
    {
     "name": "stdout",
     "output_type": "stream",
     "text": [
      "\n",
      "Please return a syntactically correct SQLite query answering the following question:\n",
      "\n",
      "How many nine year olds were in Kentucky in 2020?\n",
      "\n",
      "Using the table information below:\n",
      "\n",
      "Table Name    Column Name                                                   Column Type    First Five Column Values\n",
      "acs           Unnamed: 0                                                    INTEGER        [0, 1, 2, 3, 4]\n",
      "acs           Geography                                                     TEXT           ['0400000US01', '0400000US01', '0400000US01', '0400000US01', '0400000US01']\n",
      "acs           Geographic Area Name                                          TEXT           ['Alabama', 'Alabama', 'Alabama', 'Alabama', 'Alabama']\n",
      "acs           Total population                                              INTEGER        [4777326, 4817678, 4799277, 4841164, 4830620]\n",
      "acs           Male                                                          INTEGER        [2317520, 2336020, 2328592, 2346193, 2341093]\n",
      "acs           Female                                                        INTEGER        [2459806, 2481658, 2470685, 2494971, 2489527]\n",
      "acs           Under 5 years                                                 INTEGER        [305091, 299571, 301925, 292771, 295054]\n",
      "acs           5 to 9 years                                                  INTEGER        [309360, 304412, 306456, 305707, 305714]\n",
      "acs           10 to 14 years                                                INTEGER        [318484, 321104, 320031, 313980, 318437]\n",
      "acs           15 to 19 years                                                INTEGER        [337159, 327579, 332287, 324809, 324020]\n",
      "acs           20 to 24 years                                                INTEGER        [340808, 347110, 345240, 342489, 348044]\n",
      "acs           25 to 34 years                                                INTEGER        [607797, 618482, 612596, 626564, 621592]\n",
      "acs           35 to 44 years                                                INTEGER        [619112, 610792, 615375, 606216, 609415]\n",
      "acs           45 to 54 years                                                INTEGER        [686672, 675347, 681953, 656639, 665372]\n",
      "acs           55 to 59 years                                                INTEGER        [310336, 322017, 316960, 332234, 326349]\n",
      "acs           60 to 64 years                                                INTEGER        [279202, 292003, 285880, 297361, 297297]\n",
      "acs           65 to 74 years                                                INTEGER        [374441, 401417, 387589, 434510, 416983]\n",
      "acs           75 to 84 years                                                INTEGER        [211411, 217634, 214771, 225663, 220721]\n",
      "acs           85 years and over                                             INTEGER        [77453, 80210, 78214, 82221, 81622]\n",
      "acs           Median age (years)                                            REAL           [37.8, 38.2, 38.1, 38.6, 38.4]\n",
      "acs           18 years and over                                             INTEGER        [3647097, 3699760, 3675910, 3735975, 3718646]\n",
      "acs           21 years and over                                             INTEGER        [3433673, 3491373, 3463812, 3530912, 3514202]\n",
      "acs           65 years and over                                             INTEGER        [663305, 699261, 680574, 742394, 719326]\n",
      "acs           One race                                                      INTEGER        [4710487, 4741250, 4727132, 4755752, 4748974]\n",
      "acs           Two or more races                                             INTEGER        [66839, 76428, 72145, 85412, 81646]\n",
      "acs           White                                                         INTEGER        [3379235, 3393927, 3388895, 3400118, 3396662]\n",
      "acs           Black or African American                                     INTEGER        [1285740, 1304167, 1294437, 1320276, 1312584]\n",
      "acs           American Indian and Alaska Native                             INTEGER        [57219, 58134, 57376, 58977, 58251]\n",
      "acs           Asian                                                         INTEGER        [66512, 72528, 69176, 77731, 75634]\n",
      "acs           Native Hawaiian and Other Pacific Islander                    INTEGER        [2901, 3737, 3345, 4858, 5186]\n",
      "acs           Some other race                                               INTEGER        [56469, 65898, 62114, 69651, 69042]\n",
      "acs           Hispanic or Latino (of any race)                              INTEGER        [182268, 191838, 188294, 193503, 193492]\n",
      "acs           Not Hispanic or Latino                                        INTEGER        [4595058, 4625840, 4610983, 4647661, 4637128]\n",
      "acs           Total housing units_x                                         INTEGER        [2172647, 2190638, 2178116, 2209335, 2199329]\n",
      "acs           YEAR                                                          INTEGER        [2012, 2013, 2014, 2015, 2016]\n",
      "acs           Total households                                              REAL           [1837576.0, 1838683.0, 1842174.0, 1848325.0, 1851061.0]\n",
      "acs           Households with one or more people under 18 years             REAL           [597337.0, 592093.0, 585393.0, 581680.0, 572325.0]\n",
      "acs           Households with one or more people 65 years and over          REAL           [475330.0, 486161.0, 497517.0, 511256.0, 525341.0]\n",
      "acs           Average household size                                        REAL           [2.54, 2.55, 2.55, 2.55, 2.55]\n",
      "acs           Males 15 years and over                                       REAL           [1841356.0, 1854423.0, 1863744.0, 1872257.0, 1881213.0]\n",
      "acs           Never married, Males 15 years and over                        REAL           [584355.0, 596005.0, 603407.0, 613105.0, 621892.0]\n",
      "acs           Now married, except separated, Males 15 years and over        REAL           [957174.0, 952726.0, 950855.0, 950508.0, 948574.0]\n",
      "acs           Separated, Males 15 years and over                            REAL           [39467.0, 40229.0, 39418.0, 38073.0, 37310.0]\n",
      "acs           Widowed, Males 15 years and over                              REAL           [52899.0, 54972.0, 56153.0, 57128.0, 58482.0]\n",
      "acs           Divorced, Males 15 years and over                             REAL           [207461.0, 210491.0, 213911.0, 213443.0, 214955.0]\n",
      "acs           Females 15 years and over                                     REAL           [2003035.0, 2016442.0, 2028847.0, 2039158.0, 2047493.0]\n",
      "acs           Never married, Females 15 years and over                      REAL           [517693.0, 530755.0, 540860.0, 550811.0, 559931.0]\n",
      "acs           Now married, except separated, Females 15 years and over      REAL           [937087.0, 932261.0, 932449.0, 933161.0, 932449.0]\n",
      "acs           Separated, Females 15 years and over                          REAL           [61290.0, 61058.0, 60148.0, 59843.0, 58487.0]\n",
      "acs           Widowed, Females 15 years and over                            REAL           [222434.0, 222995.0, 222066.0, 221378.0, 222097.0]\n",
      "acs           Divorced, Females 15 years and over                           REAL           [264531.0, 269373.0, 273324.0, 273965.0, 274529.0]\n",
      "acs           Population 3 years and over enrolled in school                REAL           [1220805.0, 1222995.0, 1215753.0, 1206014.0, 1193757.0]\n",
      "acs           Population 25 years and over                                  REAL           [3166424.0, 3193338.0, 3217902.0, 3239351.0, 3261408.0]\n",
      "acs           Less than 9th grade                                           REAL           [187882.0, 180671.0, 174324.0, 166885.0, 162018.0]\n",
      "acs           9th to 12th grade, no diploma                                 REAL           [363148.0, 358529.0, 350044.0, 343006.0, 334018.0]\n",
      "acs           High school graduate (includes equivalency)                   REAL           [991406.0, 991730.0, 999761.0, 1005295.0, 1009593.0]\n",
      "acs           Some college, no degree                                       REAL           [691686.0, 703243.0, 708087.0, 711180.0, 714201.0]\n",
      "acs           Associate's degree                                            REAL           [227301.0, 236473.0, 243873.0, 251335.0, 258502.0]\n",
      "acs           Bachelor's degree                                             REAL           [448117.0, 458393.0, 465268.0, 478812.0, 492382.0]\n",
      "acs           Graduate or professional degree                               REAL           [256884.0, 264299.0, 276545.0, 282838.0, 290694.0]\n",
      "acs           Native                                                        REAL           [4610592.0, 4631045.0, 4651201.0, 4663396.0, 4675660.0]\n",
      "acs           Foreign born                                                  REAL           [166734.0, 168232.0, 166477.0, 167224.0, 165504.0]\n",
      "acs           Language other than English                                   REAL           [230806.0, 235741.0, 235709.0, 235540.0, 233260.0]\n",
      "acs           Population 16 years and over                                  INTEGER        [3779457, 3806434, 3828799, 3846845, 3864302]\n",
      "acs           In labor force                                                INTEGER        [2265008, 2259344, 2253005, 2242401, 2238654]\n",
      "acs           Civilian labor force                                          INTEGER        [2248665, 2244093, 2239169, 2229422, 2226504]\n",
      "acs           Employed                                                      INTEGER        [2017887, 2002163, 2010453, 2022325, 2042025]\n",
      "acs           Unemployed                                                    INTEGER        [230778, 241930, 228716, 207097, 184479]\n",
      "acs           Armed Forces                                                  INTEGER        [16343, 15251, 13836, 12979, 12150]\n",
      "acs           Not in labor force                                            INTEGER        [1514449, 1547090, 1575794, 1604444, 1625648]\n",
      "acs           Civilian employed population 16 years and over                INTEGER        [2017887, 2002163, 2010453, 2022325, 2042025]\n",
      "acs           Management, business, science, and arts occupations           INTEGER        [643951, 652201, 661335, 673400, 685523]\n",
      "acs           Service occupations                                           INTEGER        [332351, 335865, 339569, 339082, 339793]\n",
      "acs           Sales and office occupations                                  INTEGER        [507206, 494371, 489899, 488066, 489112]\n",
      "acs           Natural resources, construction, and maintenance occupations  INTEGER        [218389, 209494, 203989, 200200, 199303]\n",
      "acs           Production, transportation, and material moving occupations   INTEGER        [315990, 310232, 315661, 321577, 328294]\n",
      "acs           Median family income (dollars)                                INTEGER        [54326, 54362, 54724, 55341, 56828]\n",
      "acs           Mean family income (dollars)                                  INTEGER        [70237, 70661, 71423, 71994, 74189]\n",
      "acs           Per capita income (dollars)                                   INTEGER        [23587, 23680, 23936, 24091, 24736]\n",
      "acs           Civilian noninstitutionalized population                      INTEGER        [4693822, 4716915, 4735953, 4749786, 4761291]\n",
      "acs           With health insurance coverage                                INTEGER        [4039446, 4061521, 4095677, 4148627, 4208373]\n",
      "acs           With private health insurance                                 INTEGER        [3112613, 3093955, 3097222, 3122837, 3162223]\n",
      "acs           With public coverage                                          INTEGER        [1524117, 1568842, 1607735, 1648163, 1687781]\n",
      "acs           No health insurance coverage                                  INTEGER        [654376, 655394, 640276, 601159, 552918]\n",
      "acs           Total housing units_y                                         INTEGER        [2172647, 2178116, 2190638, 2199329, 2209335]\n",
      "acs           Occupied housing units                                        INTEGER        [1837576, 1838683, 1842174, 1848325, 1851061]\n",
      "acs           Vacant housing units                                          INTEGER        [335071, 339433, 348464, 351004, 358274]\n",
      "acs           Homeowner vacancy rate                                        REAL           [2.5, 2.5, 2.6, 2.5, 2.4]\n",
      "acs           Rental vacancy rate                                           REAL           [9.0, 8.9, 9.0, 9.0, 9.4]\n",
      "acs           Median rooms                                                  REAL           [5.7, 5.7, 5.7, 5.7, 5.7]\n",
      "acs           Median (dollars), Value                                       INTEGER        [122300, 122500, 123800, 125500, 128500]\n",
      "acs           Owner-occupied units                                          INTEGER        [1289324, 1281604, 1274196, 1269145, 1267824]\n",
      "acs           Housing units with a mortgage                                 INTEGER        [776946, 762450, 751234, 738618, 730637]\n",
      "acs           Housing units without a mortgage                              INTEGER        [512378, 519154, 522962, 530527, 537187]\n",
      "acs           Median (dollars), Rent                                        INTEGER        [691, 705, 715, 717, 728]\n",
      "acs           No rent paid                                                  INTEGER        [63064, 62178, 62842, 63906, 65161]\n",
      "\n",
      "\n",
      "Always quote the table columns used in the query.\n",
      "\n",
      "If you are not able to exactly answer the question, please return the following message:\n",
      "\n",
      "I am not able to answer the question exactly.\n",
      "        \n",
      "\n",
      "SELECT \"5 to 9 years\" FROM acs WHERE Geography = '0400000US21' AND YEAR = 2020;\n",
      "[(275013,)]\n",
      "\n",
      "Please put the following result in readable format:\n",
      "\n",
      "[(275013,)]\n",
      "\n",
      "It was generated by this SQL query:\n",
      "\n",
      "\n",
      "SELECT \"5 to 9 years\" FROM acs WHERE Geography = '0400000US21' AND YEAR = 2020;\n",
      "        \n",
      "\n",
      "The result of the SQL query is 275,013, which indicates that in Kentucky in 2020, there were 275,013 people between the ages of 5 and 9 years old.\n"
     ]
    }
   ],
   "source": [
    "# Question 1\n",
    "question: str = \"How many nine year olds were in Kentucky in 2020?\"\n",
    "Answer = AnswerGenerator(question, table_text, cursor)\n",
    "Answer.answer_question()\n",
    "print(Answer.sql_prompt)\n",
    "print(Answer.sql)\n",
    "print(Answer.sql_result)\n",
    "print(Answer.clean_up_result_prompt)\n",
    "print(Answer.cleaned_result)"
   ]
  },
  {
   "cell_type": "code",
   "execution_count": 17,
   "metadata": {},
   "outputs": [
    {
     "name": "stdout",
     "output_type": "stream",
     "text": [
      "\n",
      "Please return a syntactically correct SQLite query answering the following question:\n",
      "\n",
      "How many nine year olds were in Kentucky by year?\n",
      "\n",
      "Using the table information below:\n",
      "\n",
      "Table Name    Column Name                                                   Column Type    First Five Column Values\n",
      "acs           Unnamed: 0                                                    INTEGER        [0, 1, 2, 3, 4]\n",
      "acs           Geography                                                     TEXT           ['0400000US01', '0400000US01', '0400000US01', '0400000US01', '0400000US01']\n",
      "acs           Geographic Area Name                                          TEXT           ['Alabama', 'Alabama', 'Alabama', 'Alabama', 'Alabama']\n",
      "acs           Total population                                              INTEGER        [4777326, 4817678, 4799277, 4841164, 4830620]\n",
      "acs           Male                                                          INTEGER        [2317520, 2336020, 2328592, 2346193, 2341093]\n",
      "acs           Female                                                        INTEGER        [2459806, 2481658, 2470685, 2494971, 2489527]\n",
      "acs           Under 5 years                                                 INTEGER        [305091, 299571, 301925, 292771, 295054]\n",
      "acs           5 to 9 years                                                  INTEGER        [309360, 304412, 306456, 305707, 305714]\n",
      "acs           10 to 14 years                                                INTEGER        [318484, 321104, 320031, 313980, 318437]\n",
      "acs           15 to 19 years                                                INTEGER        [337159, 327579, 332287, 324809, 324020]\n",
      "acs           20 to 24 years                                                INTEGER        [340808, 347110, 345240, 342489, 348044]\n",
      "acs           25 to 34 years                                                INTEGER        [607797, 618482, 612596, 626564, 621592]\n",
      "acs           35 to 44 years                                                INTEGER        [619112, 610792, 615375, 606216, 609415]\n",
      "acs           45 to 54 years                                                INTEGER        [686672, 675347, 681953, 656639, 665372]\n",
      "acs           55 to 59 years                                                INTEGER        [310336, 322017, 316960, 332234, 326349]\n",
      "acs           60 to 64 years                                                INTEGER        [279202, 292003, 285880, 297361, 297297]\n",
      "acs           65 to 74 years                                                INTEGER        [374441, 401417, 387589, 434510, 416983]\n",
      "acs           75 to 84 years                                                INTEGER        [211411, 217634, 214771, 225663, 220721]\n",
      "acs           85 years and over                                             INTEGER        [77453, 80210, 78214, 82221, 81622]\n",
      "acs           Median age (years)                                            REAL           [37.8, 38.2, 38.1, 38.6, 38.4]\n",
      "acs           18 years and over                                             INTEGER        [3647097, 3699760, 3675910, 3735975, 3718646]\n",
      "acs           21 years and over                                             INTEGER        [3433673, 3491373, 3463812, 3530912, 3514202]\n",
      "acs           65 years and over                                             INTEGER        [663305, 699261, 680574, 742394, 719326]\n",
      "acs           One race                                                      INTEGER        [4710487, 4741250, 4727132, 4755752, 4748974]\n",
      "acs           Two or more races                                             INTEGER        [66839, 76428, 72145, 85412, 81646]\n",
      "acs           White                                                         INTEGER        [3379235, 3393927, 3388895, 3400118, 3396662]\n",
      "acs           Black or African American                                     INTEGER        [1285740, 1304167, 1294437, 1320276, 1312584]\n",
      "acs           American Indian and Alaska Native                             INTEGER        [57219, 58134, 57376, 58977, 58251]\n",
      "acs           Asian                                                         INTEGER        [66512, 72528, 69176, 77731, 75634]\n",
      "acs           Native Hawaiian and Other Pacific Islander                    INTEGER        [2901, 3737, 3345, 4858, 5186]\n",
      "acs           Some other race                                               INTEGER        [56469, 65898, 62114, 69651, 69042]\n",
      "acs           Hispanic or Latino (of any race)                              INTEGER        [182268, 191838, 188294, 193503, 193492]\n",
      "acs           Not Hispanic or Latino                                        INTEGER        [4595058, 4625840, 4610983, 4647661, 4637128]\n",
      "acs           Total housing units_x                                         INTEGER        [2172647, 2190638, 2178116, 2209335, 2199329]\n",
      "acs           YEAR                                                          INTEGER        [2012, 2013, 2014, 2015, 2016]\n",
      "acs           Total households                                              REAL           [1837576.0, 1838683.0, 1842174.0, 1848325.0, 1851061.0]\n",
      "acs           Households with one or more people under 18 years             REAL           [597337.0, 592093.0, 585393.0, 581680.0, 572325.0]\n",
      "acs           Households with one or more people 65 years and over          REAL           [475330.0, 486161.0, 497517.0, 511256.0, 525341.0]\n",
      "acs           Average household size                                        REAL           [2.54, 2.55, 2.55, 2.55, 2.55]\n",
      "acs           Males 15 years and over                                       REAL           [1841356.0, 1854423.0, 1863744.0, 1872257.0, 1881213.0]\n",
      "acs           Never married, Males 15 years and over                        REAL           [584355.0, 596005.0, 603407.0, 613105.0, 621892.0]\n",
      "acs           Now married, except separated, Males 15 years and over        REAL           [957174.0, 952726.0, 950855.0, 950508.0, 948574.0]\n",
      "acs           Separated, Males 15 years and over                            REAL           [39467.0, 40229.0, 39418.0, 38073.0, 37310.0]\n",
      "acs           Widowed, Males 15 years and over                              REAL           [52899.0, 54972.0, 56153.0, 57128.0, 58482.0]\n",
      "acs           Divorced, Males 15 years and over                             REAL           [207461.0, 210491.0, 213911.0, 213443.0, 214955.0]\n",
      "acs           Females 15 years and over                                     REAL           [2003035.0, 2016442.0, 2028847.0, 2039158.0, 2047493.0]\n",
      "acs           Never married, Females 15 years and over                      REAL           [517693.0, 530755.0, 540860.0, 550811.0, 559931.0]\n",
      "acs           Now married, except separated, Females 15 years and over      REAL           [937087.0, 932261.0, 932449.0, 933161.0, 932449.0]\n",
      "acs           Separated, Females 15 years and over                          REAL           [61290.0, 61058.0, 60148.0, 59843.0, 58487.0]\n",
      "acs           Widowed, Females 15 years and over                            REAL           [222434.0, 222995.0, 222066.0, 221378.0, 222097.0]\n",
      "acs           Divorced, Females 15 years and over                           REAL           [264531.0, 269373.0, 273324.0, 273965.0, 274529.0]\n",
      "acs           Population 3 years and over enrolled in school                REAL           [1220805.0, 1222995.0, 1215753.0, 1206014.0, 1193757.0]\n",
      "acs           Population 25 years and over                                  REAL           [3166424.0, 3193338.0, 3217902.0, 3239351.0, 3261408.0]\n",
      "acs           Less than 9th grade                                           REAL           [187882.0, 180671.0, 174324.0, 166885.0, 162018.0]\n",
      "acs           9th to 12th grade, no diploma                                 REAL           [363148.0, 358529.0, 350044.0, 343006.0, 334018.0]\n",
      "acs           High school graduate (includes equivalency)                   REAL           [991406.0, 991730.0, 999761.0, 1005295.0, 1009593.0]\n",
      "acs           Some college, no degree                                       REAL           [691686.0, 703243.0, 708087.0, 711180.0, 714201.0]\n",
      "acs           Associate's degree                                            REAL           [227301.0, 236473.0, 243873.0, 251335.0, 258502.0]\n",
      "acs           Bachelor's degree                                             REAL           [448117.0, 458393.0, 465268.0, 478812.0, 492382.0]\n",
      "acs           Graduate or professional degree                               REAL           [256884.0, 264299.0, 276545.0, 282838.0, 290694.0]\n",
      "acs           Native                                                        REAL           [4610592.0, 4631045.0, 4651201.0, 4663396.0, 4675660.0]\n",
      "acs           Foreign born                                                  REAL           [166734.0, 168232.0, 166477.0, 167224.0, 165504.0]\n",
      "acs           Language other than English                                   REAL           [230806.0, 235741.0, 235709.0, 235540.0, 233260.0]\n",
      "acs           Population 16 years and over                                  INTEGER        [3779457, 3806434, 3828799, 3846845, 3864302]\n",
      "acs           In labor force                                                INTEGER        [2265008, 2259344, 2253005, 2242401, 2238654]\n",
      "acs           Civilian labor force                                          INTEGER        [2248665, 2244093, 2239169, 2229422, 2226504]\n",
      "acs           Employed                                                      INTEGER        [2017887, 2002163, 2010453, 2022325, 2042025]\n",
      "acs           Unemployed                                                    INTEGER        [230778, 241930, 228716, 207097, 184479]\n",
      "acs           Armed Forces                                                  INTEGER        [16343, 15251, 13836, 12979, 12150]\n",
      "acs           Not in labor force                                            INTEGER        [1514449, 1547090, 1575794, 1604444, 1625648]\n",
      "acs           Civilian employed population 16 years and over                INTEGER        [2017887, 2002163, 2010453, 2022325, 2042025]\n",
      "acs           Management, business, science, and arts occupations           INTEGER        [643951, 652201, 661335, 673400, 685523]\n",
      "acs           Service occupations                                           INTEGER        [332351, 335865, 339569, 339082, 339793]\n",
      "acs           Sales and office occupations                                  INTEGER        [507206, 494371, 489899, 488066, 489112]\n",
      "acs           Natural resources, construction, and maintenance occupations  INTEGER        [218389, 209494, 203989, 200200, 199303]\n",
      "acs           Production, transportation, and material moving occupations   INTEGER        [315990, 310232, 315661, 321577, 328294]\n",
      "acs           Median family income (dollars)                                INTEGER        [54326, 54362, 54724, 55341, 56828]\n",
      "acs           Mean family income (dollars)                                  INTEGER        [70237, 70661, 71423, 71994, 74189]\n",
      "acs           Per capita income (dollars)                                   INTEGER        [23587, 23680, 23936, 24091, 24736]\n",
      "acs           Civilian noninstitutionalized population                      INTEGER        [4693822, 4716915, 4735953, 4749786, 4761291]\n",
      "acs           With health insurance coverage                                INTEGER        [4039446, 4061521, 4095677, 4148627, 4208373]\n",
      "acs           With private health insurance                                 INTEGER        [3112613, 3093955, 3097222, 3122837, 3162223]\n",
      "acs           With public coverage                                          INTEGER        [1524117, 1568842, 1607735, 1648163, 1687781]\n",
      "acs           No health insurance coverage                                  INTEGER        [654376, 655394, 640276, 601159, 552918]\n",
      "acs           Total housing units_y                                         INTEGER        [2172647, 2178116, 2190638, 2199329, 2209335]\n",
      "acs           Occupied housing units                                        INTEGER        [1837576, 1838683, 1842174, 1848325, 1851061]\n",
      "acs           Vacant housing units                                          INTEGER        [335071, 339433, 348464, 351004, 358274]\n",
      "acs           Homeowner vacancy rate                                        REAL           [2.5, 2.5, 2.6, 2.5, 2.4]\n",
      "acs           Rental vacancy rate                                           REAL           [9.0, 8.9, 9.0, 9.0, 9.4]\n",
      "acs           Median rooms                                                  REAL           [5.7, 5.7, 5.7, 5.7, 5.7]\n",
      "acs           Median (dollars), Value                                       INTEGER        [122300, 122500, 123800, 125500, 128500]\n",
      "acs           Owner-occupied units                                          INTEGER        [1289324, 1281604, 1274196, 1269145, 1267824]\n",
      "acs           Housing units with a mortgage                                 INTEGER        [776946, 762450, 751234, 738618, 730637]\n",
      "acs           Housing units without a mortgage                              INTEGER        [512378, 519154, 522962, 530527, 537187]\n",
      "acs           Median (dollars), Rent                                        INTEGER        [691, 705, 715, 717, 728]\n",
      "acs           No rent paid                                                  INTEGER        [63064, 62178, 62842, 63906, 65161]\n",
      "\n",
      "\n",
      "Always quote the table columns used in the query.\n",
      "\n",
      "If you are not able to exactly answer the question, please return the following message:\n",
      "\n",
      "I am not able to answer the question exactly.\n",
      "        \n",
      "\n",
      "SELECT \"Geography\", \"YEAR\", \"5 to 9 years\" AS \"Nine Year Olds in Kentucky\" \n",
      "FROM \"acs\" \n",
      "WHERE \"Geography\" LIKE '0400000US21' \n",
      "AND \"YEAR\" >= 2012;\n",
      "[('0400000US21', 2012, 280790), ('0400000US21', 2013, 282464), ('0400000US21', 2014, 282577), ('0400000US21', 2015, 281090), ('0400000US21', 2016, 282564), ('0400000US21', 2017, 280088), ('0400000US21', 2018, 281151), ('0400000US21', 2019, 275466), ('0400000US21', 2020, 275013), ('0400000US21', 2021, 279548)]\n",
      "\n",
      "Please put the following result in readable format:\n",
      "\n",
      "[('0400000US21', 2012, 280790), ('0400000US21', 2013, 282464), ('0400000US21', 2014, 282577), ('0400000US21', 2015, 281090), ('0400000US21', 2016, 282564), ('0400000US21', 2017, 280088), ('0400000US21', 2018, 281151), ('0400000US21', 2019, 275466), ('0400000US21', 2020, 275013), ('0400000US21', 2021, 279548)]\n",
      "\n",
      "It was generated by this SQL query:\n",
      "\n",
      "\n",
      "SELECT \"Geography\", \"YEAR\", \"5 to 9 years\" AS \"Nine Year Olds in Kentucky\" \n",
      "FROM \"acs\" \n",
      "WHERE \"Geography\" LIKE '0400000US21' \n",
      "AND \"YEAR\" >= 2012;\n",
      "        \n",
      "\n",
      "For the state of Kentucky:\n",
      "\n",
      "Year | Nine Year Olds\n",
      "-----|---------------\n",
      "2012 | 280790\n",
      "2013 | 282464\n",
      "2014 | 282577\n",
      "2015 | 281090\n",
      "2016 | 282564\n",
      "2017 | 280088\n",
      "2018 | 281151\n",
      "2019 | 275466\n",
      "2020 | 275013\n",
      "2021 | 279548\n"
     ]
    }
   ],
   "source": [
    "# Question 2\n",
    "question: str = \"How many nine year olds were in Kentucky by year?\"\n",
    "Answer = AnswerGenerator(question, table_text, cursor)\n",
    "Answer.answer_question()\n",
    "print(Answer.sql_prompt)\n",
    "print(Answer.sql)\n",
    "print(Answer.sql_result)\n",
    "print(Answer.clean_up_result_prompt)\n",
    "print(Answer.cleaned_result)"
   ]
  },
  {
   "cell_type": "code",
   "execution_count": null,
   "metadata": {},
   "outputs": [],
   "source": []
  },
  {
   "cell_type": "code",
   "execution_count": null,
   "metadata": {},
   "outputs": [],
   "source": []
  },
  {
   "cell_type": "code",
   "execution_count": null,
   "metadata": {},
   "outputs": [],
   "source": []
  },
  {
   "cell_type": "code",
   "execution_count": null,
   "metadata": {},
   "outputs": [],
   "source": []
  },
  {
   "cell_type": "code",
   "execution_count": null,
   "metadata": {},
   "outputs": [],
   "source": [
    "question: str = \"How many nine year olds were in Kentucky in 2020?\"\n",
    "\n",
    "table_feature: str = (\n",
    "    tabulate(table_summaries[\"acs\"], headers=table_headers, tablefmt=\"plain\") + \"\\n\"\n",
    ")  # grid\n",
    "\n",
    "id_data_prompt: str = f\"\"\"\n",
    "What columns in the table below:\n",
    "\n",
    "{table_feature}\n",
    "\n",
    "Can be used to answer the following question:\n",
    "\n",
    "{question}\n",
    "\"\"\"\n",
    "\n",
    "print(id_data_prompt)"
   ]
  },
  {
   "cell_type": "code",
   "execution_count": null,
   "metadata": {},
   "outputs": [],
   "source": [
    "result: str = llm(id_data_prompt)\n",
    "\n",
    "print(\n",
    "    id_data_prompt,\n",
    "    result,\n",
    "    table_summaries[\"acs\"][0][0],\n",
    "    table_summaries[\"acs\"][0][1],\n",
    "    sep=\" - \",\n",
    ")"
   ]
  },
  {
   "cell_type": "code",
   "execution_count": null,
   "metadata": {},
   "outputs": [],
   "source": []
  },
  {
   "cell_type": "code",
   "execution_count": null,
   "metadata": {},
   "outputs": [],
   "source": []
  },
  {
   "cell_type": "code",
   "execution_count": null,
   "metadata": {},
   "outputs": [],
   "source": [
    "len(table_summaries[\"acs\"])"
   ]
  },
  {
   "cell_type": "code",
   "execution_count": null,
   "metadata": {},
   "outputs": [],
   "source": [
    "question: str = \"How many nine year olds were in Kentucky in 2020?\"\n",
    "\n",
    "for i in range(len(table_summaries[\"acs\"])):\n",
    "    table_feature: str = (\n",
    "        tabulate([table_summaries[\"acs\"][i]], headers=table_headers, tablefmt=\"plain\")\n",
    "        + \"\\n\"\n",
    "    )  # grid\n",
    "\n",
    "    id_data_prompt: str = f\"\"\"\n",
    "    Is the following column:\n",
    "\n",
    "    {table_feature}\n",
    "\n",
    "    A candidate to help answer the following question:\n",
    "\n",
    "    {question}\n",
    "\n",
    "    Your answer should only be exactly one of the following:\n",
    "    1) yes,\n",
    "    2) no, or\n",
    "    3) maybe\n",
    "    Ommit punctuation from your response and return it in lower case.\n",
    "    \"\"\"\n",
    "\n",
    "    result: str = llm(id_data_prompt)\n",
    "\n",
    "    print(result, table_summaries[\"acs\"][i][0], table_summaries[\"acs\"][i][1], sep=\" - \")"
   ]
  },
  {
   "cell_type": "code",
   "execution_count": null,
   "metadata": {},
   "outputs": [],
   "source": [
    "question: str = \"How many nine year olds were in Kentucky in 2020?\"\n",
    "\n",
    "for i in range(len(table_summaries[\"acs\"])):\n",
    "    table_feature: str = (\n",
    "        tabulate([table_summaries[\"acs\"][i]], headers=table_headers, tablefmt=\"plain\")\n",
    "        + \"\\n\"\n",
    "    )  # grid\n",
    "\n",
    "    id_data_prompt: str = f\"\"\"\n",
    "    Can the following column:\n",
    "\n",
    "    {table_feature}\n",
    "\n",
    "    Be used in a SQLite query to help answer the following question:\n",
    "\n",
    "    {question}\n",
    "\n",
    "    Your answer should only be exactly one of the following:\n",
    "    1) yes,\n",
    "    2) no, or\n",
    "    3) maybe\n",
    "    Ommit punctuation from your response and return it in lower case.\n",
    "    \"\"\"\n",
    "\n",
    "    result: str = llm(id_data_prompt)\n",
    "\n",
    "    print(result, table_summaries[\"acs\"][i][0], table_summaries[\"acs\"][i][1], sep=\" - \")"
   ]
  },
  {
   "cell_type": "raw",
   "metadata": {},
   "source": [
    "question: str = \"How many nine year olds were in Kentucky in 2020?\"\n",
    "\n",
    "for i in range(3):  # len(table_summaries[\"acs\"])\n",
    "\n",
    "    # table_feature: str = tabulate([table_summaries[\"acs\"][i]], headers=table_headers, tablefmt=\"plain\") + \"\\n\"  # grid\n",
    "    table: str = table_summaries[\"acs\"][i][0]\n",
    "    feature_name: str = table_summaries[\"acs\"][i][1]\n",
    "    first_five_values = table_summaries[\"acs\"][i][3]\n",
    "\n",
    "    id_data_prompt: str = f\"\"\"\n",
    "    Is feature, \"{feature_name}\", in table, \"{table}\", with first five values, {first_five_values}, a candidate to help answer any part of the following question:\n",
    "\n",
    "    {question}\n",
    "\n",
    "    Your answer should only be exactly one of the following:\n",
    "    1) yes or \n",
    "    2) no\n",
    "    Ommit punctuation from your response and return it in lower case.\n",
    "    \"\"\"\n",
    "\n",
    "    result: str = llm(id_data_prompt)\n",
    "\n",
    "    print(id_data_prompt, result, f\"{table=}\", f\"{feature_name}\", sep=\" - \")"
   ]
  },
  {
   "cell_type": "code",
   "execution_count": null,
   "metadata": {},
   "outputs": [],
   "source": []
  },
  {
   "cell_type": "code",
   "execution_count": null,
   "metadata": {},
   "outputs": [],
   "source": []
  },
  {
   "cell_type": "code",
   "execution_count": null,
   "metadata": {},
   "outputs": [],
   "source": []
  },
  {
   "cell_type": "code",
   "execution_count": null,
   "metadata": {},
   "outputs": [],
   "source": []
  },
  {
   "cell_type": "code",
   "execution_count": null,
   "metadata": {},
   "outputs": [],
   "source": []
  },
  {
   "cell_type": "markdown",
   "metadata": {},
   "source": [
    "# ACS Data"
   ]
  },
  {
   "cell_type": "code",
   "execution_count": null,
   "metadata": {},
   "outputs": [],
   "source": [
    "acs_df: pd.DataFrame = pd.read_csv(Parameters.acs_path)\n",
    "acs_df.drop(columns=[\"Unnamed: 0\"], inplace=True)\n",
    "display(acs_df.info())\n",
    "display(acs_df.head())"
   ]
  },
  {
   "cell_type": "code",
   "execution_count": null,
   "metadata": {},
   "outputs": [],
   "source": [
    "\"\"\"\n",
    "SELECT SUM(Under 5 years + 5 to 9 years) AS nine_year_olds\n",
    "FROM acs\n",
    "WHERE Geography LIKE '0400000US21'\n",
    "AND YEAR=2020;\n",
    "\"\"\"\n",
    "\n",
    "(\n",
    "    acs_df.query(\"Geography == '0400000US21' and YEAR == 2020\")[\"Under 5 years\"].sum()\n",
    "    + acs_df.query(\"Geography == '0400000US21' and YEAR == 2020\")[\"5 to 9 years\"].sum()\n",
    ")"
   ]
  },
  {
   "cell_type": "code",
   "execution_count": null,
   "metadata": {},
   "outputs": [],
   "source": [
    "acs_df[acs_df[\"Geography\"] == \"0400000US21\"][\"Geographic Area Name\"].unique()"
   ]
  },
  {
   "cell_type": "code",
   "execution_count": null,
   "metadata": {},
   "outputs": [],
   "source": []
  },
  {
   "cell_type": "code",
   "execution_count": null,
   "metadata": {},
   "outputs": [],
   "source": []
  },
  {
   "cell_type": "code",
   "execution_count": null,
   "metadata": {},
   "outputs": [],
   "source": []
  },
  {
   "cell_type": "code",
   "execution_count": null,
   "metadata": {},
   "outputs": [],
   "source": []
  },
  {
   "cell_type": "markdown",
   "metadata": {},
   "source": [
    "# List all tables in SQLite database"
   ]
  },
  {
   "cell_type": "code",
   "execution_count": null,
   "metadata": {},
   "outputs": [],
   "source": [
    "cursor = Parameters.db_connection.cursor()\n",
    "cursor.execute(\"SELECT name FROM sqlite_master WHERE type='table';\")\n",
    "tables: list[tuple] = cursor.fetchall()\n",
    "tables"
   ]
  },
  {
   "cell_type": "markdown",
   "metadata": {},
   "source": [
    "# Test OpenAI API Key"
   ]
  },
  {
   "cell_type": "code",
   "execution_count": null,
   "metadata": {},
   "outputs": [],
   "source": [
    "\"\"\"\n",
    "Please provide python code to ask openai a question and retrieve the answer\n",
    "\n",
    "To ask OpenAI a question and retrieve the answer, you can use the OpenAI API.\n",
    "Here's an example Python code that demonstrates how to do this using the openai package:\n",
    "\n",
    "In this example, you need to replace \"YOUR_API_KEY\" with your actual API key,\n",
    "which you can obtain by signing up for OpenAI's API at https://beta.openai.com/signup/.\n",
    "\n",
    "The ask_openai function takes three parameters: the question you want to ask,\n",
    "the name of the OpenAI model you want to use (e.g., \"davinci\" or \"curie\"),\n",
    "and the max_length of the generated answer (in number of tokens).\n",
    "\n",
    "The function sends a request to the OpenAI API using the openai.Completion.create method,\n",
    "which takes the engine, prompt, and max_tokens as parameters. The response is a list of\n",
    "completions (i.e., possible answers), and we take the first one (which is usually the most likely answer)\n",
    "and return it as a string.\n",
    "\"\"\"\n",
    "\n",
    "openai.api_key = Parameters.openai_api_key  # \"YOUR_API_KEY\" # replace with your API key\n",
    "\n",
    "\n",
    "def ask_openai(question, model, max_length):\n",
    "    prompt = f\"Q: {question}\\nA:\"\n",
    "    completions = openai.Completion.create(\n",
    "        engine=model, prompt=prompt, max_tokens=max_length\n",
    "    )\n",
    "    answer = completions.choices[0].text.strip()\n",
    "    return answer\n",
    "\n",
    "\n",
    "# Example usage\n",
    "question = \"What is the capital of France?\"\n",
    "model = \"davinci\"\n",
    "max_length = 100\n",
    "answer = ask_openai(question, model, max_length)\n",
    "print(answer)"
   ]
  },
  {
   "cell_type": "markdown",
   "metadata": {},
   "source": [
    "# [LangChain](https://pypi.org/project/langchain/)\n",
    "https://coinsbench.com/chat-with-your-databases-using-langchain-bb7d31ed2e76  \n",
    "https://medium.com/@hannanmentor/python-custom-chatgpt-with-your-own-data-f307635dd5bd  "
   ]
  },
  {
   "cell_type": "code",
   "execution_count": null,
   "metadata": {},
   "outputs": [],
   "source": []
  },
  {
   "cell_type": "markdown",
   "metadata": {},
   "source": [
    "## Check that LangChain works"
   ]
  },
  {
   "cell_type": "code",
   "execution_count": null,
   "metadata": {},
   "outputs": [],
   "source": [
    "# Simple LLM call Using LangChain\n",
    "llm = OpenAI(model_name=\"text-davinci-003\", openai_api_key=Parameters.openai_api_key)\n",
    "question = \"Which language is used to create chatgpt ?\"\n",
    "print(question, llm(question))"
   ]
  },
  {
   "cell_type": "markdown",
   "metadata": {},
   "source": [
    "## Prompt template"
   ]
  },
  {
   "cell_type": "code",
   "execution_count": null,
   "metadata": {},
   "outputs": [],
   "source": [
    "# Creating a prompt template and running the LLM chain\n",
    "template = \"What are the top {n} resources to learn {language} programming?\"\n",
    "prompt = PromptTemplate(template=template, input_variables=[\"n\", \"language\"])\n",
    "chain = LLMChain(llm=llm, prompt=prompt)\n",
    "input_ = {\"n\": 3, \"language\": \"Python\"}\n",
    "print(chain.run(input_))"
   ]
  },
  {
   "cell_type": "code",
   "execution_count": null,
   "metadata": {},
   "outputs": [],
   "source": [
    "type(prompt)"
   ]
  },
  {
   "cell_type": "code",
   "execution_count": null,
   "metadata": {},
   "outputs": [],
   "source": [
    "# SQLDatabase.create_table_from_df(df=acs_df, table_name=\"acs\", db_connection=Parameters.db_connection)  # Create table from dataframe"
   ]
  },
  {
   "cell_type": "code",
   "execution_count": null,
   "metadata": {},
   "outputs": [],
   "source": [
    "# Use LangChain to answers quetions using a SQLite3 database\n",
    "llm = OpenAI(model_name=\"text-davinci-003\", openai_api_key=Parameters.openai_api_key)\n",
    "dburi = \"sqlite:///Data/acs.sqlite3\"\n",
    "db = SQLDatabase.from_uri(dburi)\n",
    "question = \"What is the population of Kentucky?\"\n",
    "print(question, llm(question, db))"
   ]
  },
  {
   "cell_type": "code",
   "execution_count": null,
   "metadata": {},
   "outputs": [],
   "source": []
  },
  {
   "cell_type": "raw",
   "metadata": {},
   "source": [
    "https://python.langchain.com/docs/expression_language/cookbook/sql_db"
   ]
  },
  {
   "cell_type": "code",
   "execution_count": null,
   "metadata": {},
   "outputs": [],
   "source": [
    "template = \"\"\"Based on the table schema below, write a SQL query that would answer the user's question:\n",
    "{schema}\n",
    "\n",
    "Question: {question}\n",
    "SQL Query:\"\"\"\n",
    "prompt = ChatPromptTemplate.from_template(template)"
   ]
  },
  {
   "cell_type": "code",
   "execution_count": null,
   "metadata": {},
   "outputs": [],
   "source": [
    "type(prompt)"
   ]
  },
  {
   "cell_type": "code",
   "execution_count": null,
   "metadata": {},
   "outputs": [],
   "source": [
    "print(prompt)"
   ]
  },
  {
   "cell_type": "code",
   "execution_count": null,
   "metadata": {},
   "outputs": [],
   "source": []
  },
  {
   "cell_type": "code",
   "execution_count": null,
   "metadata": {},
   "outputs": [],
   "source": [
    "# db = SQLDatabase.from_uri(\"sqlite:///Data/data.sqlite3\")\n",
    "db = SQLDatabase.from_uri(\"sqlite:///Data/acs.sqlite3\")"
   ]
  },
  {
   "cell_type": "code",
   "execution_count": null,
   "metadata": {},
   "outputs": [],
   "source": [
    "result = db.run(\"SELECT * FROM acs LIMIT 5\")\n",
    "result"
   ]
  },
  {
   "cell_type": "code",
   "execution_count": null,
   "metadata": {},
   "outputs": [],
   "source": []
  },
  {
   "cell_type": "code",
   "execution_count": null,
   "metadata": {},
   "outputs": [],
   "source": [
    "result: list[tuple] = ast.literal_eval(db.run(\"SELECT * FROM acs LIMIT 5\"))\n",
    "print(result)"
   ]
  },
  {
   "cell_type": "code",
   "execution_count": null,
   "metadata": {},
   "outputs": [],
   "source": []
  },
  {
   "cell_type": "code",
   "execution_count": null,
   "metadata": {},
   "outputs": [],
   "source": []
  },
  {
   "cell_type": "code",
   "execution_count": null,
   "metadata": {},
   "outputs": [],
   "source": []
  },
  {
   "cell_type": "code",
   "execution_count": null,
   "metadata": {},
   "outputs": [],
   "source": [
    "def get_schema(_):\n",
    "    return db.get_table_info()"
   ]
  },
  {
   "cell_type": "code",
   "execution_count": null,
   "metadata": {},
   "outputs": [],
   "source": [
    "def run_query(query):\n",
    "    return db.run(query)"
   ]
  },
  {
   "cell_type": "code",
   "execution_count": null,
   "metadata": {},
   "outputs": [],
   "source": []
  },
  {
   "cell_type": "code",
   "execution_count": null,
   "metadata": {},
   "outputs": [],
   "source": [
    "model = ChatOpenAI()\n",
    "\n",
    "sql_response = (\n",
    "    RunnablePassthrough.assign(schema=get_schema)\n",
    "    | prompt\n",
    "    | model.bind(stop=[\"\\nSQLResult:\"])\n",
    "    | StrOutputParser()\n",
    ")"
   ]
  },
  {
   "cell_type": "code",
   "execution_count": null,
   "metadata": {},
   "outputs": [],
   "source": [
    "sql_response.invoke({\"question\": \"How many geographic areas are in the acs table?\"})"
   ]
  },
  {
   "cell_type": "code",
   "execution_count": null,
   "metadata": {},
   "outputs": [],
   "source": [
    "print(get_schema(_))"
   ]
  },
  {
   "cell_type": "code",
   "execution_count": null,
   "metadata": {},
   "outputs": [],
   "source": [
    "type(sql_response)"
   ]
  },
  {
   "cell_type": "code",
   "execution_count": null,
   "metadata": {},
   "outputs": [],
   "source": [
    "sql_response"
   ]
  },
  {
   "cell_type": "code",
   "execution_count": null,
   "metadata": {},
   "outputs": [],
   "source": []
  },
  {
   "cell_type": "code",
   "execution_count": null,
   "metadata": {},
   "outputs": [],
   "source": []
  },
  {
   "cell_type": "code",
   "execution_count": null,
   "metadata": {},
   "outputs": [],
   "source": []
  },
  {
   "cell_type": "code",
   "execution_count": null,
   "metadata": {},
   "outputs": [],
   "source": []
  },
  {
   "cell_type": "code",
   "execution_count": null,
   "metadata": {},
   "outputs": [],
   "source": [
    "openai.api_key = Parameters.openai_api_key\n",
    "\n",
    "\n",
    "def count_tokens(prompt):\n",
    "    response = openai.Completion.create(\n",
    "        engine=\"davinci\",\n",
    "        prompt=prompt,\n",
    "        max_tokens=0,\n",
    "        n=1,\n",
    "        stop=None,\n",
    "        temperature=0.0,\n",
    "        logprobs=0,\n",
    "        echo=True,\n",
    "    )\n",
    "    return len(response.choices[0].text.split())\n",
    "\n",
    "\n",
    "prompt = \"This is a prompt to count tokens.\"\n",
    "print(count_tokens(prompt))  # Output: 6"
   ]
  },
  {
   "cell_type": "code",
   "execution_count": null,
   "metadata": {},
   "outputs": [],
   "source": [
    "prompt = get_schema(_)\n",
    "print(count_tokens(prompt))"
   ]
  },
  {
   "cell_type": "code",
   "execution_count": null,
   "metadata": {},
   "outputs": [],
   "source": []
  },
  {
   "cell_type": "code",
   "execution_count": null,
   "metadata": {},
   "outputs": [],
   "source": []
  },
  {
   "cell_type": "code",
   "execution_count": null,
   "metadata": {},
   "outputs": [],
   "source": [
    "# setup llm\n",
    "llm = ChatOpenAI()  # OpenAI(temperature=0, openai_api_key=Parameters.openai_api_key)\n",
    "\n",
    "dburi = \"sqlite:///Data/acs.sqlite3\"\n",
    "db = SQLDatabase.from_uri(dburi)\n",
    "\n",
    "# Create db chain\n",
    "QUERY = \"\"\"\n",
    "Given an input question: first create a syntactically correct SQLite query to run, then look at the results of the query and return the answer.\n",
    "\n",
    "Use the following format:\n",
    "Question: Question here\n",
    "SQLQuery: SQL Query to run\n",
    "SQLResult: Result of the SQLQuery\n",
    "Answer: Final answer here\n",
    "\n",
    "{question}\n",
    "\"\"\"\n",
    "\n",
    "# Setup the database chain\n",
    "db_chain = SQLDatabaseChain.from_llm(llm=llm, db=db, verbose=True)\n",
    "\n",
    "\n",
    "def get_prompt():\n",
    "    print(\"Type 'exit' to quit\")\n",
    "\n",
    "    while True:\n",
    "        prompt = input(\"Enter a prompt: \")\n",
    "\n",
    "        if prompt.lower() == \"exit\":\n",
    "            print(\"Exiting...\")\n",
    "            break\n",
    "        else:\n",
    "            try:\n",
    "                question = QUERY.format(question=prompt)\n",
    "                print(db_chain.run(question))\n",
    "            except Exception as e:\n",
    "                print(e)\n",
    "\n",
    "\n",
    "get_prompt()"
   ]
  },
  {
   "cell_type": "raw",
   "metadata": {},
   "source": [
    "Given an input question:\n",
    "1) Create a syntactically correct SQLite query to run and then\n",
    "2) Look at the results of the query and return the answer.\n",
    "\n",
    "Given an input question:\n",
    "1) Create a syntactically correct SQLite query,\n",
    "2) Run the query,\n",
    "3) Look at the results of the query, and\n",
    "4) Return the answer."
   ]
  },
  {
   "cell_type": "code",
   "execution_count": null,
   "metadata": {},
   "outputs": [],
   "source": []
  },
  {
   "cell_type": "code",
   "execution_count": null,
   "metadata": {},
   "outputs": [],
   "source": []
  },
  {
   "cell_type": "code",
   "execution_count": null,
   "metadata": {},
   "outputs": [],
   "source": []
  },
  {
   "cell_type": "code",
   "execution_count": null,
   "metadata": {},
   "outputs": [],
   "source": []
  },
  {
   "cell_type": "code",
   "execution_count": null,
   "metadata": {},
   "outputs": [],
   "source": [
    "template = \"\"\"Based on the table schema below, write a SQL query that would answer the user's question:\n",
    "{schema}\n",
    "\n",
    "Question: {question}\n",
    "SQL Query:\"\"\"\n",
    "prompt = ChatPromptTemplate.from_template(template)"
   ]
  },
  {
   "cell_type": "code",
   "execution_count": null,
   "metadata": {},
   "outputs": [],
   "source": [
    "model = ChatOpenAI()\n",
    "\n",
    "sql_response = (\n",
    "    RunnablePassthrough.assign(schema=get_schema)\n",
    "    | prompt\n",
    "    | model.bind(stop=[\"\\nSQLResult:\"])\n",
    "    | StrOutputParser()\n",
    ")"
   ]
  },
  {
   "cell_type": "code",
   "execution_count": null,
   "metadata": {},
   "outputs": [],
   "source": [
    "sql_response.invoke({\"question\": \"How many geographic areas are in the acs table?\"})"
   ]
  },
  {
   "cell_type": "code",
   "execution_count": null,
   "metadata": {},
   "outputs": [],
   "source": [
    "# setup llm\n",
    "llm = ChatOpenAI()  # OpenAI(temperature=0, openai_api_key=Parameters.openai_api_key)\n",
    "\n",
    "dburi = \"sqlite:///Data/acs.sqlite3\"\n",
    "db = SQLDatabase.from_uri(dburi)\n",
    "\n",
    "# Create db chain\n",
    "QUERY = \"\"\"\n",
    "Given an input question: first create a syntactically correct SQLite query to run, then look at the results of the query and return the answer.\n",
    "\n",
    "Use the following format:\n",
    "Question: Question here\n",
    "SQLQuery: SQL Query to run\n",
    "SQLResult: Result of the SQLQuery\n",
    "Answer: Final answer here\n",
    "\n",
    "{question}\n",
    "\"\"\"\n",
    "\n",
    "# Setup the database chain\n",
    "db_chain = SQLDatabaseChain.from_llm(llm=llm, db=db, verbose=True)\n",
    "\n",
    "print(\"Type 'exit' to quit\")\n",
    "\n",
    "prompt = input(\"Enter a prompt: \")\n",
    "\n",
    "if prompt.lower() == \"exit\":\n",
    "    print(\"Exiting...\")\n",
    "else:\n",
    "    try:\n",
    "        sql_response.invoke({\"question\": prompt})\n",
    "        question = sql_response  # prompt  # QUERY.format(question=prompt)\n",
    "        print(db_chain.run(question))\n",
    "    except Exception as e:\n",
    "        print(e)"
   ]
  },
  {
   "cell_type": "code",
   "execution_count": null,
   "metadata": {},
   "outputs": [],
   "source": [
    "# How many nine year olds were in Kentucky in 2020"
   ]
  },
  {
   "cell_type": "code",
   "execution_count": null,
   "metadata": {},
   "outputs": [],
   "source": []
  },
  {
   "cell_type": "code",
   "execution_count": null,
   "metadata": {},
   "outputs": [],
   "source": []
  },
  {
   "cell_type": "code",
   "execution_count": null,
   "metadata": {},
   "outputs": [],
   "source": []
  },
  {
   "cell_type": "code",
   "execution_count": null,
   "metadata": {},
   "outputs": [],
   "source": []
  },
  {
   "cell_type": "code",
   "execution_count": null,
   "metadata": {},
   "outputs": [],
   "source": [
    "for k, v in db_chain.dict()[\"llm_chain\"][\"prompt\"].items():\n",
    "    print(k)\n",
    "    print(v)\n",
    "    print()"
   ]
  },
  {
   "cell_type": "code",
   "execution_count": null,
   "metadata": {},
   "outputs": [],
   "source": []
  }
 ],
 "metadata": {
  "kernelspec": {
   "display_name": ".venv",
   "language": "python",
   "name": "python3"
  },
  "language_info": {
   "codemirror_mode": {
    "name": "ipython",
    "version": 3
   },
   "file_extension": ".py",
   "mimetype": "text/x-python",
   "name": "python",
   "nbconvert_exporter": "python",
   "pygments_lexer": "ipython3",
   "version": "3.10.12"
  },
  "orig_nbformat": 4
 },
 "nbformat": 4,
 "nbformat_minor": 2
}
