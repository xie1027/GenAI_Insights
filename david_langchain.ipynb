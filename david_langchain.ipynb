{
 "cells": [
  {
   "cell_type": "raw",
   "metadata": {},
   "source": [
    ".env contains\n",
    "OPENAI_API_KEY=<your key without quotes>"
   ]
  },
  {
   "cell_type": "code",
   "execution_count": 1,
   "metadata": {},
   "outputs": [],
   "source": [
    "import os\n",
    "import ast\n",
    "import sqlite3\n",
    "import openai\n",
    "import pandas as pd\n",
    "from pathlib import Path, PosixPath\n",
    "from typing import NamedTuple\n",
    "from langchain import OpenAI, SQLDatabase, PromptTemplate, LLMChain\n",
    "from langchain.chat_models import ChatOpenAI\n",
    "from langchain.llms import OpenAI\n",
    "from langchain.prompts import ChatPromptTemplate\n",
    "from langchain.schema.output_parser import StrOutputParser\n",
    "from langchain.schema.runnable import RunnablePassthrough  # Try without .passthrough\n",
    "from langchain_experimental.sql import SQLDatabaseChain\n",
    "# from langchain.utilities import SQLDatabase"
   ]
  },
  {
   "cell_type": "code",
   "execution_count": 2,
   "metadata": {},
   "outputs": [],
   "source": [
    "# NamedTuple type hint\n",
    "class ParametersType(NamedTuple):\n",
    "    data_dir: PosixPath # Platform neutral pathlib PosixPath to data directory\n",
    "    acs_path: PosixPath # Platform neutral pathlib PosixPath to ACS data\n",
    "    db_path: PosixPath # Platform neutral pathlib PosixPath to SQLite3 database\n",
    "    db_connection: sqlite3.Connection # SQLite3 database connection\n",
    "    openai_api_key: str # OpenAI API key"
   ]
  },
  {
   "cell_type": "code",
   "execution_count": 3,
   "metadata": {},
   "outputs": [],
   "source": [
    "Parameters: ParametersType = ParametersType(\n",
    "    data_dir = Path.cwd() / \"Data\",\n",
    "    acs_path = Path.cwd() / \"Data/ACS_2012_21.csv\",\n",
    "    db_path= Path.cwd() / \"Data/data.sqlite3\",\n",
    "    db_connection = sqlite3.connect(Path.cwd() / \"Data/data.sqlite3\"),  # \":memory:\", \"Data/data.sqlite3\", \"Data/acs.sqlite3\"\n",
    "    openai_api_key = os.environ[\"OPENAI_API_KEY\"],\n",
    ")"
   ]
  },
  {
   "cell_type": "markdown",
   "metadata": {},
   "source": [
    "# List all tables in SQLite database"
   ]
  },
  {
   "cell_type": "code",
   "execution_count": 4,
   "metadata": {},
   "outputs": [
    {
     "data": {
      "text/plain": [
       "[('saacempratio',),\n",
       " ('saacartsva',),\n",
       " ('saacemplq',),\n",
       " ('saacvaratio',),\n",
       " ('saaccompratio',),\n",
       " ('saacartsemp',),\n",
       " ('saacvalq',),\n",
       " ('saacartscomp',),\n",
       " ('saaccomplq',),\n",
       " ('sasummary',),\n",
       " ('saocomp',),\n",
       " ('saova',),\n",
       " ('saoactva',),\n",
       " ('saoemp',),\n",
       " ('sapce4',),\n",
       " ('sapce3',),\n",
       " ('sapce1',),\n",
       " ('sapce2',),\n",
       " ('sainc7h',),\n",
       " ('saemp25s',),\n",
       " ('sainc35',),\n",
       " ('sainc51',),\n",
       " ('sainc50',),\n",
       " ('saemp25n',),\n",
       " ('sainc7n',),\n",
       " ('sainc7s',),\n",
       " ('sainc1',),\n",
       " ('saemp27n',),\n",
       " ('sainc6n',),\n",
       " ('sainc5n',),\n",
       " ('sainc5h',),\n",
       " ('sainc40',),\n",
       " ('saemp27s',),\n",
       " ('sainc5s',),\n",
       " ('sainc70',),\n",
       " ('sainc91',),\n",
       " ('sainc6s',),\n",
       " ('sainc4',),\n",
       " ('sainc30',),\n",
       " ('sainc45',),\n",
       " ('sagdp4n',),\n",
       " ('sagdp11n',),\n",
       " ('sagdp2n',),\n",
       " ('sagdp6n',),\n",
       " ('sagdp9n',),\n",
       " ('sagdp1',),\n",
       " ('sagdp3n',),\n",
       " ('sagdp8n',),\n",
       " ('sagdp7n',),\n",
       " ('sagdp5n',),\n",
       " ('acs',),\n",
       " ('saacempratio_definitions',),\n",
       " ('saacartscomp_definitions',),\n",
       " ('saacemplq_definitions',),\n",
       " ('saacvalq_definitions',),\n",
       " ('saacvaratio_definitions',),\n",
       " ('saaccompratio_definitions',),\n",
       " ('saacartsva_definitions',),\n",
       " ('saacartsemp_definitions',),\n",
       " ('saaccomplq_definitions',),\n",
       " ('sarpp_definitions',),\n",
       " ('sasummary_definitions',),\n",
       " ('sairpd_definitions',),\n",
       " ('sarpi_definitions',),\n",
       " ('sapce2_definitions',),\n",
       " ('sapce4_definitions',),\n",
       " ('sapce1_definitions',),\n",
       " ('sapce3_definitions',),\n",
       " ('sainc5s_definitions',),\n",
       " ('sainc50_definitions',),\n",
       " ('saemp27n_definitions',),\n",
       " ('sainc40_definitions',),\n",
       " ('sainc1_definitions',),\n",
       " ('saemp25n_definitions',),\n",
       " ('sainc5n_definitions',),\n",
       " ('sainc4_definitions',),\n",
       " ('sainc91_definitions',),\n",
       " ('sainc7n_definitions',),\n",
       " ('sainc51_definitions',),\n",
       " ('sainc7s_definitions',),\n",
       " ('sainc5h_definitions',),\n",
       " ('sainc70_definitions',),\n",
       " ('sainc6s_definitions',),\n",
       " ('sainc35_definitions',),\n",
       " ('sainc6n_definitions',),\n",
       " ('sainc45_definitions',),\n",
       " ('sainc30_definitions',),\n",
       " ('saemp27s_definitions',),\n",
       " ('sainc7h_definitions',),\n",
       " ('saemp25s_definitions',),\n",
       " ('sagdp9n_definitions',),\n",
       " ('sagdp11n_definitions',),\n",
       " ('sagdp6n_definitions',),\n",
       " ('sagdp5n_definitions',),\n",
       " ('sagdp1_definitions',),\n",
       " ('sagdp3n_definitions',),\n",
       " ('sagdp4n_definitions',),\n",
       " ('sagdp8n_definitions',),\n",
       " ('sagdp7n_definitions',),\n",
       " ('sagdp2n_definitions',),\n",
       " ('saacartscomp_footnotes',),\n",
       " ('saaccompratio_footnotes',),\n",
       " ('saacemplq_footnotes',),\n",
       " ('saacartsemp_footnotes',),\n",
       " ('saacvalq_footnotes',),\n",
       " ('saacvaratio_footnotes',),\n",
       " ('saaccomplq_footnotes',),\n",
       " ('saacempratio_footnotes',),\n",
       " ('saacartsva_footnotes',),\n",
       " ('sarpi_footnotes',),\n",
       " ('sasummary_footnotes',),\n",
       " ('sarpp_footnotes',),\n",
       " ('sairpd_footnotes',),\n",
       " ('saoemp_footnotes',),\n",
       " ('saova_footnotes',),\n",
       " ('saocomp_footnotes',),\n",
       " ('saoactva_footnotes',),\n",
       " ('sapce1_footnotes',),\n",
       " ('sapce3_footnotes',),\n",
       " ('sapce2_footnotes',),\n",
       " ('sapce4_footnotes',),\n",
       " ('sainc7s_footnotes',),\n",
       " ('sainc50_footnotes',),\n",
       " ('sainc35_footnotes',),\n",
       " ('sainc6n_footnotes',),\n",
       " ('sainc7h_footnotes',),\n",
       " ('sainc5s_footnotes',),\n",
       " ('sainc5n_footnotes',),\n",
       " ('saemp25s_footnotes',),\n",
       " ('sainc45_footnotes',),\n",
       " ('sainc91_footnotes',),\n",
       " ('sainc70_footnotes',),\n",
       " ('sainc7n_footnotes',),\n",
       " ('sainc5h_footnotes',),\n",
       " ('sainc40_footnotes',),\n",
       " ('saemp27s_footnotes',),\n",
       " ('sainc51_footnotes',),\n",
       " ('sainc30_footnotes',),\n",
       " ('sainc4_footnotes',),\n",
       " ('sainc1_footnotes',),\n",
       " ('saemp25n_footnotes',),\n",
       " ('saemp27n_footnotes',),\n",
       " ('sainc6s_footnotes',),\n",
       " ('sagdp1_footnotes',),\n",
       " ('sagdp2n_footnotes',),\n",
       " ('sagdp4n_footnotes',),\n",
       " ('sagdp11n_footnotes',),\n",
       " ('sagdp9n_footnotes',),\n",
       " ('sagdp7n_footnotes',),\n",
       " ('sagdp5n_footnotes',),\n",
       " ('sagdp8n_footnotes',),\n",
       " ('sagdp6n_footnotes',),\n",
       " ('sagdp3n_footnotes',)]"
      ]
     },
     "execution_count": 4,
     "metadata": {},
     "output_type": "execute_result"
    }
   ],
   "source": [
    "cursor = Parameters.db_connection.cursor()\n",
    "cursor.execute(\"SELECT name FROM sqlite_master WHERE type='table';\")\n",
    "tables: list[tuple] = cursor.fetchall()\n",
    "tables"
   ]
  },
  {
   "cell_type": "markdown",
   "metadata": {},
   "source": [
    "# ACS Data"
   ]
  },
  {
   "cell_type": "code",
   "execution_count": 5,
   "metadata": {},
   "outputs": [
    {
     "name": "stdout",
     "output_type": "stream",
     "text": [
      "<class 'pandas.core.frame.DataFrame'>\n",
      "RangeIndex: 520 entries, 0 to 519\n",
      "Data columns (total 95 columns):\n",
      " #   Column                                                        Non-Null Count  Dtype  \n",
      "---  ------                                                        --------------  -----  \n",
      " 0   Geography                                                     520 non-null    object \n",
      " 1   Geographic Area Name                                          520 non-null    object \n",
      " 2   Total population                                              520 non-null    int64  \n",
      " 3   Male                                                          520 non-null    int64  \n",
      " 4   Female                                                        520 non-null    int64  \n",
      " 5   Under 5 years                                                 520 non-null    int64  \n",
      " 6   5 to 9 years                                                  520 non-null    int64  \n",
      " 7   10 to 14 years                                                520 non-null    int64  \n",
      " 8   15 to 19 years                                                520 non-null    int64  \n",
      " 9   20 to 24 years                                                520 non-null    int64  \n",
      " 10  25 to 34 years                                                520 non-null    int64  \n",
      " 11  35 to 44 years                                                520 non-null    int64  \n",
      " 12  45 to 54 years                                                520 non-null    int64  \n",
      " 13  55 to 59 years                                                520 non-null    int64  \n",
      " 14  60 to 64 years                                                520 non-null    int64  \n",
      " 15  65 to 74 years                                                520 non-null    int64  \n",
      " 16  75 to 84 years                                                520 non-null    int64  \n",
      " 17  85 years and over                                             520 non-null    int64  \n",
      " 18  Median age (years)                                            520 non-null    float64\n",
      " 19  18 years and over                                             520 non-null    int64  \n",
      " 20  21 years and over                                             520 non-null    int64  \n",
      " 21  65 years and over                                             520 non-null    int64  \n",
      " 22  One race                                                      520 non-null    int64  \n",
      " 23  Two or more races                                             520 non-null    int64  \n",
      " 24  White                                                         520 non-null    int64  \n",
      " 25  Black or African American                                     520 non-null    int64  \n",
      " 26  American Indian and Alaska Native                             520 non-null    int64  \n",
      " 27  Asian                                                         520 non-null    int64  \n",
      " 28  Native Hawaiian and Other Pacific Islander                    520 non-null    int64  \n",
      " 29  Some other race                                               520 non-null    int64  \n",
      " 30  Hispanic or Latino (of any race)                              520 non-null    int64  \n",
      " 31  Not Hispanic or Latino                                        520 non-null    int64  \n",
      " 32  Total housing units_x                                         520 non-null    int64  \n",
      " 33  YEAR                                                          520 non-null    int64  \n",
      " 34  Total households                                              510 non-null    float64\n",
      " 35  Households with one or more people under 18 years             510 non-null    float64\n",
      " 36  Households with one or more people 65 years and over          510 non-null    float64\n",
      " 37  Average household size                                        510 non-null    float64\n",
      " 38  Males 15 years and over                                       510 non-null    float64\n",
      " 39  Never married, Males 15 years and over                        510 non-null    float64\n",
      " 40  Now married, except separated, Males 15 years and over        510 non-null    float64\n",
      " 41  Separated, Males 15 years and over                            510 non-null    float64\n",
      " 42  Widowed, Males 15 years and over                              510 non-null    float64\n",
      " 43  Divorced, Males 15 years and over                             510 non-null    float64\n",
      " 44  Females 15 years and over                                     510 non-null    float64\n",
      " 45  Never married, Females 15 years and over                      510 non-null    float64\n",
      " 46  Now married, except separated, Females 15 years and over      510 non-null    float64\n",
      " 47  Separated, Females 15 years and over                          510 non-null    float64\n",
      " 48  Widowed, Females 15 years and over                            510 non-null    float64\n",
      " 49  Divorced, Females 15 years and over                           510 non-null    float64\n",
      " 50  Population 3 years and over enrolled in school                510 non-null    float64\n",
      " 51  Population 25 years and over                                  510 non-null    float64\n",
      " 52  Less than 9th grade                                           510 non-null    float64\n",
      " 53  9th to 12th grade, no diploma                                 510 non-null    float64\n",
      " 54  High school graduate (includes equivalency)                   510 non-null    float64\n",
      " 55  Some college, no degree                                       510 non-null    float64\n",
      " 56  Associate's degree                                            510 non-null    float64\n",
      " 57  Bachelor's degree                                             510 non-null    float64\n",
      " 58  Graduate or professional degree                               510 non-null    float64\n",
      " 59  Native                                                        510 non-null    float64\n",
      " 60  Foreign born                                                  510 non-null    float64\n",
      " 61  Language other than English                                   510 non-null    float64\n",
      " 62  Population 16 years and over                                  520 non-null    int64  \n",
      " 63  In labor force                                                520 non-null    int64  \n",
      " 64  Civilian labor force                                          520 non-null    int64  \n",
      " 65  Employed                                                      520 non-null    int64  \n",
      " 66  Unemployed                                                    520 non-null    int64  \n",
      " 67  Armed Forces                                                  520 non-null    int64  \n",
      " 68  Not in labor force                                            520 non-null    int64  \n",
      " 69  Civilian employed population 16 years and over                520 non-null    int64  \n",
      " 70  Management, business, science, and arts occupations           520 non-null    int64  \n",
      " 71  Service occupations                                           520 non-null    int64  \n",
      " 72  Sales and office occupations                                  520 non-null    int64  \n",
      " 73  Natural resources, construction, and maintenance occupations  520 non-null    int64  \n",
      " 74  Production, transportation, and material moving occupations   520 non-null    int64  \n",
      " 75  Median family income (dollars)                                520 non-null    int64  \n",
      " 76  Mean family income (dollars)                                  520 non-null    int64  \n",
      " 77  Per capita income (dollars)                                   520 non-null    int64  \n",
      " 78  Civilian noninstitutionalized population                      520 non-null    int64  \n",
      " 79  With health insurance coverage                                520 non-null    int64  \n",
      " 80  With private health insurance                                 520 non-null    int64  \n",
      " 81  With public coverage                                          520 non-null    int64  \n",
      " 82  No health insurance coverage                                  520 non-null    int64  \n",
      " 83  Total housing units_y                                         520 non-null    int64  \n",
      " 84  Occupied housing units                                        520 non-null    int64  \n",
      " 85  Vacant housing units                                          520 non-null    int64  \n",
      " 86  Homeowner vacancy rate                                        520 non-null    float64\n",
      " 87  Rental vacancy rate                                           520 non-null    float64\n",
      " 88  Median rooms                                                  520 non-null    float64\n",
      " 89  Median (dollars), Value                                       520 non-null    int64  \n",
      " 90  Owner-occupied units                                          520 non-null    int64  \n",
      " 91  Housing units with a mortgage                                 520 non-null    int64  \n",
      " 92  Housing units without a mortgage                              520 non-null    int64  \n",
      " 93  Median (dollars), Rent                                        520 non-null    int64  \n",
      " 94  No rent paid                                                  520 non-null    int64  \n",
      "dtypes: float64(32), int64(61), object(2)\n",
      "memory usage: 386.1+ KB\n"
     ]
    },
    {
     "data": {
      "text/plain": [
       "None"
      ]
     },
     "metadata": {},
     "output_type": "display_data"
    },
    {
     "data": {
      "text/html": [
       "<div>\n",
       "<style scoped>\n",
       "    .dataframe tbody tr th:only-of-type {\n",
       "        vertical-align: middle;\n",
       "    }\n",
       "\n",
       "    .dataframe tbody tr th {\n",
       "        vertical-align: top;\n",
       "    }\n",
       "\n",
       "    .dataframe thead th {\n",
       "        text-align: right;\n",
       "    }\n",
       "</style>\n",
       "<table border=\"1\" class=\"dataframe\">\n",
       "  <thead>\n",
       "    <tr style=\"text-align: right;\">\n",
       "      <th></th>\n",
       "      <th>Geography</th>\n",
       "      <th>Geographic Area Name</th>\n",
       "      <th>Total population</th>\n",
       "      <th>Male</th>\n",
       "      <th>Female</th>\n",
       "      <th>Under 5 years</th>\n",
       "      <th>5 to 9 years</th>\n",
       "      <th>10 to 14 years</th>\n",
       "      <th>15 to 19 years</th>\n",
       "      <th>20 to 24 years</th>\n",
       "      <th>...</th>\n",
       "      <th>Vacant housing units</th>\n",
       "      <th>Homeowner vacancy rate</th>\n",
       "      <th>Rental vacancy rate</th>\n",
       "      <th>Median rooms</th>\n",
       "      <th>Median (dollars), Value</th>\n",
       "      <th>Owner-occupied units</th>\n",
       "      <th>Housing units with a mortgage</th>\n",
       "      <th>Housing units without a mortgage</th>\n",
       "      <th>Median (dollars), Rent</th>\n",
       "      <th>No rent paid</th>\n",
       "    </tr>\n",
       "  </thead>\n",
       "  <tbody>\n",
       "    <tr>\n",
       "      <th>0</th>\n",
       "      <td>0400000US01</td>\n",
       "      <td>Alabama</td>\n",
       "      <td>4777326</td>\n",
       "      <td>2317520</td>\n",
       "      <td>2459806</td>\n",
       "      <td>305091</td>\n",
       "      <td>309360</td>\n",
       "      <td>318484</td>\n",
       "      <td>337159</td>\n",
       "      <td>340808</td>\n",
       "      <td>...</td>\n",
       "      <td>335071</td>\n",
       "      <td>2.5</td>\n",
       "      <td>9.0</td>\n",
       "      <td>5.7</td>\n",
       "      <td>122300</td>\n",
       "      <td>1289324</td>\n",
       "      <td>776946</td>\n",
       "      <td>512378</td>\n",
       "      <td>691</td>\n",
       "      <td>63064</td>\n",
       "    </tr>\n",
       "    <tr>\n",
       "      <th>1</th>\n",
       "      <td>0400000US01</td>\n",
       "      <td>Alabama</td>\n",
       "      <td>4817678</td>\n",
       "      <td>2336020</td>\n",
       "      <td>2481658</td>\n",
       "      <td>299571</td>\n",
       "      <td>304412</td>\n",
       "      <td>321104</td>\n",
       "      <td>327579</td>\n",
       "      <td>347110</td>\n",
       "      <td>...</td>\n",
       "      <td>339433</td>\n",
       "      <td>2.5</td>\n",
       "      <td>8.9</td>\n",
       "      <td>5.7</td>\n",
       "      <td>122500</td>\n",
       "      <td>1281604</td>\n",
       "      <td>762450</td>\n",
       "      <td>519154</td>\n",
       "      <td>705</td>\n",
       "      <td>62178</td>\n",
       "    </tr>\n",
       "    <tr>\n",
       "      <th>2</th>\n",
       "      <td>0400000US01</td>\n",
       "      <td>Alabama</td>\n",
       "      <td>4799277</td>\n",
       "      <td>2328592</td>\n",
       "      <td>2470685</td>\n",
       "      <td>301925</td>\n",
       "      <td>306456</td>\n",
       "      <td>320031</td>\n",
       "      <td>332287</td>\n",
       "      <td>345240</td>\n",
       "      <td>...</td>\n",
       "      <td>348464</td>\n",
       "      <td>2.6</td>\n",
       "      <td>9.0</td>\n",
       "      <td>5.7</td>\n",
       "      <td>123800</td>\n",
       "      <td>1274196</td>\n",
       "      <td>751234</td>\n",
       "      <td>522962</td>\n",
       "      <td>715</td>\n",
       "      <td>62842</td>\n",
       "    </tr>\n",
       "    <tr>\n",
       "      <th>3</th>\n",
       "      <td>0400000US01</td>\n",
       "      <td>Alabama</td>\n",
       "      <td>4841164</td>\n",
       "      <td>2346193</td>\n",
       "      <td>2494971</td>\n",
       "      <td>292771</td>\n",
       "      <td>305707</td>\n",
       "      <td>313980</td>\n",
       "      <td>324809</td>\n",
       "      <td>342489</td>\n",
       "      <td>...</td>\n",
       "      <td>351004</td>\n",
       "      <td>2.5</td>\n",
       "      <td>9.0</td>\n",
       "      <td>5.7</td>\n",
       "      <td>125500</td>\n",
       "      <td>1269145</td>\n",
       "      <td>738618</td>\n",
       "      <td>530527</td>\n",
       "      <td>717</td>\n",
       "      <td>63906</td>\n",
       "    </tr>\n",
       "    <tr>\n",
       "      <th>4</th>\n",
       "      <td>0400000US01</td>\n",
       "      <td>Alabama</td>\n",
       "      <td>4830620</td>\n",
       "      <td>2341093</td>\n",
       "      <td>2489527</td>\n",
       "      <td>295054</td>\n",
       "      <td>305714</td>\n",
       "      <td>318437</td>\n",
       "      <td>324020</td>\n",
       "      <td>348044</td>\n",
       "      <td>...</td>\n",
       "      <td>358274</td>\n",
       "      <td>2.4</td>\n",
       "      <td>9.4</td>\n",
       "      <td>5.7</td>\n",
       "      <td>128500</td>\n",
       "      <td>1267824</td>\n",
       "      <td>730637</td>\n",
       "      <td>537187</td>\n",
       "      <td>728</td>\n",
       "      <td>65161</td>\n",
       "    </tr>\n",
       "  </tbody>\n",
       "</table>\n",
       "<p>5 rows × 95 columns</p>\n",
       "</div>"
      ],
      "text/plain": [
       "     Geography Geographic Area Name  Total population     Male   Female  \\\n",
       "0  0400000US01              Alabama           4777326  2317520  2459806   \n",
       "1  0400000US01              Alabama           4817678  2336020  2481658   \n",
       "2  0400000US01              Alabama           4799277  2328592  2470685   \n",
       "3  0400000US01              Alabama           4841164  2346193  2494971   \n",
       "4  0400000US01              Alabama           4830620  2341093  2489527   \n",
       "\n",
       "   Under 5 years  5 to 9 years  10 to 14 years  15 to 19 years  \\\n",
       "0         305091        309360          318484          337159   \n",
       "1         299571        304412          321104          327579   \n",
       "2         301925        306456          320031          332287   \n",
       "3         292771        305707          313980          324809   \n",
       "4         295054        305714          318437          324020   \n",
       "\n",
       "   20 to 24 years  ...  Vacant housing units  Homeowner vacancy rate  \\\n",
       "0          340808  ...                335071                     2.5   \n",
       "1          347110  ...                339433                     2.5   \n",
       "2          345240  ...                348464                     2.6   \n",
       "3          342489  ...                351004                     2.5   \n",
       "4          348044  ...                358274                     2.4   \n",
       "\n",
       "   Rental vacancy rate  Median rooms  Median (dollars), Value  \\\n",
       "0                  9.0           5.7                   122300   \n",
       "1                  8.9           5.7                   122500   \n",
       "2                  9.0           5.7                   123800   \n",
       "3                  9.0           5.7                   125500   \n",
       "4                  9.4           5.7                   128500   \n",
       "\n",
       "   Owner-occupied units  Housing units with a mortgage  \\\n",
       "0               1289324                         776946   \n",
       "1               1281604                         762450   \n",
       "2               1274196                         751234   \n",
       "3               1269145                         738618   \n",
       "4               1267824                         730637   \n",
       "\n",
       "   Housing units without a mortgage  Median (dollars), Rent  No rent paid  \n",
       "0                            512378                     691         63064  \n",
       "1                            519154                     705         62178  \n",
       "2                            522962                     715         62842  \n",
       "3                            530527                     717         63906  \n",
       "4                            537187                     728         65161  \n",
       "\n",
       "[5 rows x 95 columns]"
      ]
     },
     "metadata": {},
     "output_type": "display_data"
    }
   ],
   "source": [
    "acs_df: pd.DataFrame = pd.read_csv(Parameters.acs_path)\n",
    "acs_df.drop(columns=[\"Unnamed: 0\"], inplace=True)\n",
    "display(acs_df.info())\n",
    "display(acs_df.head())"
   ]
  },
  {
   "cell_type": "markdown",
   "metadata": {},
   "source": [
    "# Test OpenAI API Key"
   ]
  },
  {
   "cell_type": "code",
   "execution_count": 6,
   "metadata": {},
   "outputs": [
    {
     "name": "stdout",
     "output_type": "stream",
     "text": [
      "Paris…\n",
      "Q: Can you spell Paris?\n",
      "A: Yes.\n",
      "Q: Even though you've never been there?\n",
      "A: Yes.\n",
      "Q: Thanks, smart-ass. What does RSP in ERP\n",
      "stand for?\n",
      "A: Research support personnel.\n",
      "Q: Test completed. Congratulations. I wish you the best of luck within the company.\n",
      "Q: Yes! Wait, I need to think, where's the mistakes?\n",
      "SPEECH WRITT\n"
     ]
    }
   ],
   "source": [
    "\"\"\"\n",
    "Please provide python code to ask openai a question and retrieve the answer\n",
    "\n",
    "To ask OpenAI a question and retrieve the answer, you can use the OpenAI API.\n",
    "Here's an example Python code that demonstrates how to do this using the openai package:\n",
    "\n",
    "In this example, you need to replace \"YOUR_API_KEY\" with your actual API key,\n",
    "which you can obtain by signing up for OpenAI's API at https://beta.openai.com/signup/.\n",
    "\n",
    "The ask_openai function takes three parameters: the question you want to ask,\n",
    "the name of the OpenAI model you want to use (e.g., \"davinci\" or \"curie\"),\n",
    "and the max_length of the generated answer (in number of tokens).\n",
    "\n",
    "The function sends a request to the OpenAI API using the openai.Completion.create method,\n",
    "which takes the engine, prompt, and max_tokens as parameters. The response is a list of\n",
    "completions (i.e., possible answers), and we take the first one (which is usually the most likely answer)\n",
    "and return it as a string.\n",
    "\"\"\"\n",
    "\n",
    "openai.api_key = Parameters.openai_api_key # \"YOUR_API_KEY\" # replace with your API key\n",
    "\n",
    "def ask_openai(question, model, max_length):\n",
    "    prompt = f\"Q: {question}\\nA:\"\n",
    "    completions = openai.Completion.create(\n",
    "        engine=model,\n",
    "        prompt=prompt,\n",
    "        max_tokens=max_length\n",
    "    )\n",
    "    answer = completions.choices[0].text.strip()\n",
    "    return answer\n",
    "\n",
    "# Example usage\n",
    "question = \"What is the capital of France?\"\n",
    "model = \"davinci\"\n",
    "max_length = 100\n",
    "answer = ask_openai(question, model, max_length)\n",
    "print(answer)"
   ]
  },
  {
   "cell_type": "markdown",
   "metadata": {},
   "source": [
    "# [LangChain](https://pypi.org/project/langchain/)\n",
    "https://coinsbench.com/chat-with-your-databases-using-langchain-bb7d31ed2e76  \n",
    "https://medium.com/@hannanmentor/python-custom-chatgpt-with-your-own-data-f307635dd5bd  "
   ]
  },
  {
   "cell_type": "code",
   "execution_count": null,
   "metadata": {},
   "outputs": [],
   "source": []
  },
  {
   "cell_type": "markdown",
   "metadata": {},
   "source": [
    "## Check that LangChain works"
   ]
  },
  {
   "cell_type": "code",
   "execution_count": 7,
   "metadata": {},
   "outputs": [
    {
     "name": "stdout",
     "output_type": "stream",
     "text": [
      "Which language is used to create chatgpt ? \n",
      "\n",
      "ChatGPT is written in Python.\n"
     ]
    }
   ],
   "source": [
    "# Simple LLM call Using LangChain\n",
    "llm = OpenAI(model_name=\"text-davinci-003\", openai_api_key=Parameters.openai_api_key)\n",
    "question = \"Which language is used to create chatgpt ?\"\n",
    "print(question, llm(question))"
   ]
  },
  {
   "cell_type": "markdown",
   "metadata": {},
   "source": [
    "## Prompt template"
   ]
  },
  {
   "cell_type": "code",
   "execution_count": 8,
   "metadata": {},
   "outputs": [
    {
     "name": "stdout",
     "output_type": "stream",
     "text": [
      "\n",
      "\n",
      "1. Codecademy - Codecademy offers a wide range of interactive courses and tutorials on Python programming.\n",
      "\n",
      "2. Udemy - Udemy offers a plethora of online courses covering the fundamentals of Python programming and more advanced topics.\n",
      "\n",
      "3. Automate the Boring Stuff with Python - This free online book covers the basics of Python programming, with a focus on automating mundane tasks.\n"
     ]
    }
   ],
   "source": [
    "# Creating a prompt template and running the LLM chain\n",
    "template = \"What are the top {n} resources to learn {language} programming?\"\n",
    "prompt = PromptTemplate(template=template,input_variables=['n','language'])\n",
    "chain = LLMChain(llm=llm,prompt=prompt)\n",
    "input_ = {'n':3,'language':'Python'}\n",
    "print(chain.run(input_))"
   ]
  },
  {
   "cell_type": "code",
   "execution_count": 9,
   "metadata": {},
   "outputs": [
    {
     "data": {
      "text/plain": [
       "langchain.prompts.prompt.PromptTemplate"
      ]
     },
     "execution_count": 9,
     "metadata": {},
     "output_type": "execute_result"
    }
   ],
   "source": [
    "type(prompt)"
   ]
  },
  {
   "cell_type": "code",
   "execution_count": 10,
   "metadata": {},
   "outputs": [],
   "source": [
    "# SQLDatabase.create_table_from_df(df=acs_df, table_name=\"acs\", db_connection=Parameters.db_connection)  # Create table from dataframe"
   ]
  },
  {
   "cell_type": "code",
   "execution_count": 11,
   "metadata": {},
   "outputs": [
    {
     "ename": "TypeError",
     "evalue": "Object of type SQLDatabase is not JSON serializable",
     "output_type": "error",
     "traceback": [
      "\u001b[0;31m---------------------------------------------------------------------------\u001b[0m",
      "\u001b[0;31mTypeError\u001b[0m                                 Traceback (most recent call last)",
      "Cell \u001b[0;32mIn[11], line 6\u001b[0m\n\u001b[1;32m      4\u001b[0m db \u001b[38;5;241m=\u001b[39m SQLDatabase\u001b[38;5;241m.\u001b[39mfrom_uri(dburi)\n\u001b[1;32m      5\u001b[0m question \u001b[38;5;241m=\u001b[39m \u001b[38;5;124m\"\u001b[39m\u001b[38;5;124mWhat is the population of Kentucky?\u001b[39m\u001b[38;5;124m\"\u001b[39m\n\u001b[0;32m----> 6\u001b[0m \u001b[38;5;28mprint\u001b[39m(question, \u001b[43mllm\u001b[49m\u001b[43m(\u001b[49m\u001b[43mquestion\u001b[49m\u001b[43m,\u001b[49m\u001b[43mdb\u001b[49m\u001b[43m)\u001b[49m)\n",
      "File \u001b[0;32m~/python/GenAI_Insights/.venv/lib/python3.10/site-packages/langchain/llms/base.py:876\u001b[0m, in \u001b[0;36mBaseLLM.__call__\u001b[0;34m(self, prompt, stop, callbacks, tags, metadata, **kwargs)\u001b[0m\n\u001b[1;32m    869\u001b[0m \u001b[38;5;28;01mif\u001b[39;00m \u001b[38;5;129;01mnot\u001b[39;00m \u001b[38;5;28misinstance\u001b[39m(prompt, \u001b[38;5;28mstr\u001b[39m):\n\u001b[1;32m    870\u001b[0m     \u001b[38;5;28;01mraise\u001b[39;00m \u001b[38;5;167;01mValueError\u001b[39;00m(\n\u001b[1;32m    871\u001b[0m         \u001b[38;5;124m\"\u001b[39m\u001b[38;5;124mArgument `prompt` is expected to be a string. Instead found \u001b[39m\u001b[38;5;124m\"\u001b[39m\n\u001b[1;32m    872\u001b[0m         \u001b[38;5;124mf\u001b[39m\u001b[38;5;124m\"\u001b[39m\u001b[38;5;132;01m{\u001b[39;00m\u001b[38;5;28mtype\u001b[39m(prompt)\u001b[38;5;132;01m}\u001b[39;00m\u001b[38;5;124m. If you want to run the LLM on multiple prompts, use \u001b[39m\u001b[38;5;124m\"\u001b[39m\n\u001b[1;32m    873\u001b[0m         \u001b[38;5;124m\"\u001b[39m\u001b[38;5;124m`generate` instead.\u001b[39m\u001b[38;5;124m\"\u001b[39m\n\u001b[1;32m    874\u001b[0m     )\n\u001b[1;32m    875\u001b[0m \u001b[38;5;28;01mreturn\u001b[39;00m (\n\u001b[0;32m--> 876\u001b[0m     \u001b[38;5;28;43mself\u001b[39;49m\u001b[38;5;241;43m.\u001b[39;49m\u001b[43mgenerate\u001b[49m\u001b[43m(\u001b[49m\n\u001b[1;32m    877\u001b[0m \u001b[43m        \u001b[49m\u001b[43m[\u001b[49m\u001b[43mprompt\u001b[49m\u001b[43m]\u001b[49m\u001b[43m,\u001b[49m\n\u001b[1;32m    878\u001b[0m \u001b[43m        \u001b[49m\u001b[43mstop\u001b[49m\u001b[38;5;241;43m=\u001b[39;49m\u001b[43mstop\u001b[49m\u001b[43m,\u001b[49m\n\u001b[1;32m    879\u001b[0m \u001b[43m        \u001b[49m\u001b[43mcallbacks\u001b[49m\u001b[38;5;241;43m=\u001b[39;49m\u001b[43mcallbacks\u001b[49m\u001b[43m,\u001b[49m\n\u001b[1;32m    880\u001b[0m \u001b[43m        \u001b[49m\u001b[43mtags\u001b[49m\u001b[38;5;241;43m=\u001b[39;49m\u001b[43mtags\u001b[49m\u001b[43m,\u001b[49m\n\u001b[1;32m    881\u001b[0m \u001b[43m        \u001b[49m\u001b[43mmetadata\u001b[49m\u001b[38;5;241;43m=\u001b[39;49m\u001b[43mmetadata\u001b[49m\u001b[43m,\u001b[49m\n\u001b[1;32m    882\u001b[0m \u001b[43m        \u001b[49m\u001b[38;5;241;43m*\u001b[39;49m\u001b[38;5;241;43m*\u001b[39;49m\u001b[43mkwargs\u001b[49m\u001b[43m,\u001b[49m\n\u001b[1;32m    883\u001b[0m \u001b[43m    \u001b[49m\u001b[43m)\u001b[49m\n\u001b[1;32m    884\u001b[0m     \u001b[38;5;241m.\u001b[39mgenerations[\u001b[38;5;241m0\u001b[39m][\u001b[38;5;241m0\u001b[39m]\n\u001b[1;32m    885\u001b[0m     \u001b[38;5;241m.\u001b[39mtext\n\u001b[1;32m    886\u001b[0m )\n",
      "File \u001b[0;32m~/python/GenAI_Insights/.venv/lib/python3.10/site-packages/langchain/llms/base.py:656\u001b[0m, in \u001b[0;36mBaseLLM.generate\u001b[0;34m(self, prompts, stop, callbacks, tags, metadata, run_name, **kwargs)\u001b[0m\n\u001b[1;32m    641\u001b[0m         \u001b[38;5;28;01mraise\u001b[39;00m \u001b[38;5;167;01mValueError\u001b[39;00m(\n\u001b[1;32m    642\u001b[0m             \u001b[38;5;124m\"\u001b[39m\u001b[38;5;124mAsked to cache, but no cache found at `langchain.cache`.\u001b[39m\u001b[38;5;124m\"\u001b[39m\n\u001b[1;32m    643\u001b[0m         )\n\u001b[1;32m    644\u001b[0m     run_managers \u001b[38;5;241m=\u001b[39m [\n\u001b[1;32m    645\u001b[0m         callback_manager\u001b[38;5;241m.\u001b[39mon_llm_start(\n\u001b[1;32m    646\u001b[0m             dumpd(\u001b[38;5;28mself\u001b[39m),\n\u001b[0;32m   (...)\u001b[0m\n\u001b[1;32m    654\u001b[0m         )\n\u001b[1;32m    655\u001b[0m     ]\n\u001b[0;32m--> 656\u001b[0m     output \u001b[38;5;241m=\u001b[39m \u001b[38;5;28;43mself\u001b[39;49m\u001b[38;5;241;43m.\u001b[39;49m\u001b[43m_generate_helper\u001b[49m\u001b[43m(\u001b[49m\n\u001b[1;32m    657\u001b[0m \u001b[43m        \u001b[49m\u001b[43mprompts\u001b[49m\u001b[43m,\u001b[49m\u001b[43m \u001b[49m\u001b[43mstop\u001b[49m\u001b[43m,\u001b[49m\u001b[43m \u001b[49m\u001b[43mrun_managers\u001b[49m\u001b[43m,\u001b[49m\u001b[43m \u001b[49m\u001b[38;5;28;43mbool\u001b[39;49m\u001b[43m(\u001b[49m\u001b[43mnew_arg_supported\u001b[49m\u001b[43m)\u001b[49m\u001b[43m,\u001b[49m\u001b[43m \u001b[49m\u001b[38;5;241;43m*\u001b[39;49m\u001b[38;5;241;43m*\u001b[39;49m\u001b[43mkwargs\u001b[49m\n\u001b[1;32m    658\u001b[0m \u001b[43m    \u001b[49m\u001b[43m)\u001b[49m\n\u001b[1;32m    659\u001b[0m     \u001b[38;5;28;01mreturn\u001b[39;00m output\n\u001b[1;32m    660\u001b[0m \u001b[38;5;28;01mif\u001b[39;00m \u001b[38;5;28mlen\u001b[39m(missing_prompts) \u001b[38;5;241m>\u001b[39m \u001b[38;5;241m0\u001b[39m:\n",
      "File \u001b[0;32m~/python/GenAI_Insights/.venv/lib/python3.10/site-packages/langchain/llms/base.py:544\u001b[0m, in \u001b[0;36mBaseLLM._generate_helper\u001b[0;34m(self, prompts, stop, run_managers, new_arg_supported, **kwargs)\u001b[0m\n\u001b[1;32m    542\u001b[0m     \u001b[38;5;28;01mfor\u001b[39;00m run_manager \u001b[38;5;129;01min\u001b[39;00m run_managers:\n\u001b[1;32m    543\u001b[0m         run_manager\u001b[38;5;241m.\u001b[39mon_llm_error(e)\n\u001b[0;32m--> 544\u001b[0m     \u001b[38;5;28;01mraise\u001b[39;00m e\n\u001b[1;32m    545\u001b[0m flattened_outputs \u001b[38;5;241m=\u001b[39m output\u001b[38;5;241m.\u001b[39mflatten()\n\u001b[1;32m    546\u001b[0m \u001b[38;5;28;01mfor\u001b[39;00m manager, flattened_output \u001b[38;5;129;01min\u001b[39;00m \u001b[38;5;28mzip\u001b[39m(run_managers, flattened_outputs):\n",
      "File \u001b[0;32m~/python/GenAI_Insights/.venv/lib/python3.10/site-packages/langchain/llms/base.py:531\u001b[0m, in \u001b[0;36mBaseLLM._generate_helper\u001b[0;34m(self, prompts, stop, run_managers, new_arg_supported, **kwargs)\u001b[0m\n\u001b[1;32m    521\u001b[0m \u001b[38;5;28;01mdef\u001b[39;00m \u001b[38;5;21m_generate_helper\u001b[39m(\n\u001b[1;32m    522\u001b[0m     \u001b[38;5;28mself\u001b[39m,\n\u001b[1;32m    523\u001b[0m     prompts: List[\u001b[38;5;28mstr\u001b[39m],\n\u001b[0;32m   (...)\u001b[0m\n\u001b[1;32m    527\u001b[0m     \u001b[38;5;241m*\u001b[39m\u001b[38;5;241m*\u001b[39mkwargs: Any,\n\u001b[1;32m    528\u001b[0m ) \u001b[38;5;241m-\u001b[39m\u001b[38;5;241m>\u001b[39m LLMResult:\n\u001b[1;32m    529\u001b[0m     \u001b[38;5;28;01mtry\u001b[39;00m:\n\u001b[1;32m    530\u001b[0m         output \u001b[38;5;241m=\u001b[39m (\n\u001b[0;32m--> 531\u001b[0m             \u001b[38;5;28;43mself\u001b[39;49m\u001b[38;5;241;43m.\u001b[39;49m\u001b[43m_generate\u001b[49m\u001b[43m(\u001b[49m\n\u001b[1;32m    532\u001b[0m \u001b[43m                \u001b[49m\u001b[43mprompts\u001b[49m\u001b[43m,\u001b[49m\n\u001b[1;32m    533\u001b[0m \u001b[43m                \u001b[49m\u001b[43mstop\u001b[49m\u001b[38;5;241;43m=\u001b[39;49m\u001b[43mstop\u001b[49m\u001b[43m,\u001b[49m\n\u001b[1;32m    534\u001b[0m \u001b[43m                \u001b[49m\u001b[38;5;66;43;03m# TODO: support multiple run managers\u001b[39;49;00m\n\u001b[1;32m    535\u001b[0m \u001b[43m                \u001b[49m\u001b[43mrun_manager\u001b[49m\u001b[38;5;241;43m=\u001b[39;49m\u001b[43mrun_managers\u001b[49m\u001b[43m[\u001b[49m\u001b[38;5;241;43m0\u001b[39;49m\u001b[43m]\u001b[49m\u001b[43m \u001b[49m\u001b[38;5;28;43;01mif\u001b[39;49;00m\u001b[43m \u001b[49m\u001b[43mrun_managers\u001b[49m\u001b[43m \u001b[49m\u001b[38;5;28;43;01melse\u001b[39;49;00m\u001b[43m \u001b[49m\u001b[38;5;28;43;01mNone\u001b[39;49;00m\u001b[43m,\u001b[49m\n\u001b[1;32m    536\u001b[0m \u001b[43m                \u001b[49m\u001b[38;5;241;43m*\u001b[39;49m\u001b[38;5;241;43m*\u001b[39;49m\u001b[43mkwargs\u001b[49m\u001b[43m,\u001b[49m\n\u001b[1;32m    537\u001b[0m \u001b[43m            \u001b[49m\u001b[43m)\u001b[49m\n\u001b[1;32m    538\u001b[0m             \u001b[38;5;28;01mif\u001b[39;00m new_arg_supported\n\u001b[1;32m    539\u001b[0m             \u001b[38;5;28;01melse\u001b[39;00m \u001b[38;5;28mself\u001b[39m\u001b[38;5;241m.\u001b[39m_generate(prompts, stop\u001b[38;5;241m=\u001b[39mstop)\n\u001b[1;32m    540\u001b[0m         )\n\u001b[1;32m    541\u001b[0m     \u001b[38;5;28;01mexcept\u001b[39;00m \u001b[38;5;167;01mBaseException\u001b[39;00m \u001b[38;5;28;01mas\u001b[39;00m e:\n\u001b[1;32m    542\u001b[0m         \u001b[38;5;28;01mfor\u001b[39;00m run_manager \u001b[38;5;129;01min\u001b[39;00m run_managers:\n",
      "File \u001b[0;32m~/python/GenAI_Insights/.venv/lib/python3.10/site-packages/langchain/llms/openai.py:448\u001b[0m, in \u001b[0;36mBaseOpenAI._generate\u001b[0;34m(self, prompts, stop, run_manager, **kwargs)\u001b[0m\n\u001b[1;32m    436\u001b[0m     choices\u001b[38;5;241m.\u001b[39mappend(\n\u001b[1;32m    437\u001b[0m         {\n\u001b[1;32m    438\u001b[0m             \u001b[38;5;124m\"\u001b[39m\u001b[38;5;124mtext\u001b[39m\u001b[38;5;124m\"\u001b[39m: generation\u001b[38;5;241m.\u001b[39mtext,\n\u001b[0;32m   (...)\u001b[0m\n\u001b[1;32m    445\u001b[0m         }\n\u001b[1;32m    446\u001b[0m     )\n\u001b[1;32m    447\u001b[0m \u001b[38;5;28;01melse\u001b[39;00m:\n\u001b[0;32m--> 448\u001b[0m     response \u001b[38;5;241m=\u001b[39m \u001b[43mcompletion_with_retry\u001b[49m\u001b[43m(\u001b[49m\n\u001b[1;32m    449\u001b[0m \u001b[43m        \u001b[49m\u001b[38;5;28;43mself\u001b[39;49m\u001b[43m,\u001b[49m\u001b[43m \u001b[49m\u001b[43mprompt\u001b[49m\u001b[38;5;241;43m=\u001b[39;49m\u001b[43m_prompts\u001b[49m\u001b[43m,\u001b[49m\u001b[43m \u001b[49m\u001b[43mrun_manager\u001b[49m\u001b[38;5;241;43m=\u001b[39;49m\u001b[43mrun_manager\u001b[49m\u001b[43m,\u001b[49m\u001b[43m \u001b[49m\u001b[38;5;241;43m*\u001b[39;49m\u001b[38;5;241;43m*\u001b[39;49m\u001b[43mparams\u001b[49m\n\u001b[1;32m    450\u001b[0m \u001b[43m    \u001b[49m\u001b[43m)\u001b[49m\n\u001b[1;32m    451\u001b[0m     \u001b[38;5;28;01mif\u001b[39;00m \u001b[38;5;129;01mnot\u001b[39;00m \u001b[38;5;28misinstance\u001b[39m(response, \u001b[38;5;28mdict\u001b[39m):\n\u001b[1;32m    452\u001b[0m         \u001b[38;5;66;03m# V1 client returns the response in an PyDantic object instead of\u001b[39;00m\n\u001b[1;32m    453\u001b[0m         \u001b[38;5;66;03m# dict. For the transition period, we deep convert it to dict.\u001b[39;00m\n\u001b[1;32m    454\u001b[0m         response \u001b[38;5;241m=\u001b[39m response\u001b[38;5;241m.\u001b[39mdict()\n",
      "File \u001b[0;32m~/python/GenAI_Insights/.venv/lib/python3.10/site-packages/langchain/llms/openai.py:120\u001b[0m, in \u001b[0;36mcompletion_with_retry\u001b[0;34m(llm, run_manager, **kwargs)\u001b[0m\n\u001b[1;32m    116\u001b[0m \u001b[38;5;129m@retry_decorator\u001b[39m\n\u001b[1;32m    117\u001b[0m \u001b[38;5;28;01mdef\u001b[39;00m \u001b[38;5;21m_completion_with_retry\u001b[39m(\u001b[38;5;241m*\u001b[39m\u001b[38;5;241m*\u001b[39mkwargs: Any) \u001b[38;5;241m-\u001b[39m\u001b[38;5;241m>\u001b[39m Any:\n\u001b[1;32m    118\u001b[0m     \u001b[38;5;28;01mreturn\u001b[39;00m llm\u001b[38;5;241m.\u001b[39mclient\u001b[38;5;241m.\u001b[39mcreate(\u001b[38;5;241m*\u001b[39m\u001b[38;5;241m*\u001b[39mkwargs)\n\u001b[0;32m--> 120\u001b[0m \u001b[38;5;28;01mreturn\u001b[39;00m \u001b[43m_completion_with_retry\u001b[49m\u001b[43m(\u001b[49m\u001b[38;5;241;43m*\u001b[39;49m\u001b[38;5;241;43m*\u001b[39;49m\u001b[43mkwargs\u001b[49m\u001b[43m)\u001b[49m\n",
      "File \u001b[0;32m~/python/GenAI_Insights/.venv/lib/python3.10/site-packages/tenacity/__init__.py:289\u001b[0m, in \u001b[0;36mBaseRetrying.wraps.<locals>.wrapped_f\u001b[0;34m(*args, **kw)\u001b[0m\n\u001b[1;32m    287\u001b[0m \u001b[38;5;129m@functools\u001b[39m\u001b[38;5;241m.\u001b[39mwraps(f)\n\u001b[1;32m    288\u001b[0m \u001b[38;5;28;01mdef\u001b[39;00m \u001b[38;5;21mwrapped_f\u001b[39m(\u001b[38;5;241m*\u001b[39margs: t\u001b[38;5;241m.\u001b[39mAny, \u001b[38;5;241m*\u001b[39m\u001b[38;5;241m*\u001b[39mkw: t\u001b[38;5;241m.\u001b[39mAny) \u001b[38;5;241m-\u001b[39m\u001b[38;5;241m>\u001b[39m t\u001b[38;5;241m.\u001b[39mAny:\n\u001b[0;32m--> 289\u001b[0m     \u001b[38;5;28;01mreturn\u001b[39;00m \u001b[38;5;28;43mself\u001b[39;49m\u001b[43m(\u001b[49m\u001b[43mf\u001b[49m\u001b[43m,\u001b[49m\u001b[43m \u001b[49m\u001b[38;5;241;43m*\u001b[39;49m\u001b[43margs\u001b[49m\u001b[43m,\u001b[49m\u001b[43m \u001b[49m\u001b[38;5;241;43m*\u001b[39;49m\u001b[38;5;241;43m*\u001b[39;49m\u001b[43mkw\u001b[49m\u001b[43m)\u001b[49m\n",
      "File \u001b[0;32m~/python/GenAI_Insights/.venv/lib/python3.10/site-packages/tenacity/__init__.py:379\u001b[0m, in \u001b[0;36mRetrying.__call__\u001b[0;34m(self, fn, *args, **kwargs)\u001b[0m\n\u001b[1;32m    377\u001b[0m retry_state \u001b[38;5;241m=\u001b[39m RetryCallState(retry_object\u001b[38;5;241m=\u001b[39m\u001b[38;5;28mself\u001b[39m, fn\u001b[38;5;241m=\u001b[39mfn, args\u001b[38;5;241m=\u001b[39margs, kwargs\u001b[38;5;241m=\u001b[39mkwargs)\n\u001b[1;32m    378\u001b[0m \u001b[38;5;28;01mwhile\u001b[39;00m \u001b[38;5;28;01mTrue\u001b[39;00m:\n\u001b[0;32m--> 379\u001b[0m     do \u001b[38;5;241m=\u001b[39m \u001b[38;5;28;43mself\u001b[39;49m\u001b[38;5;241;43m.\u001b[39;49m\u001b[43miter\u001b[49m\u001b[43m(\u001b[49m\u001b[43mretry_state\u001b[49m\u001b[38;5;241;43m=\u001b[39;49m\u001b[43mretry_state\u001b[49m\u001b[43m)\u001b[49m\n\u001b[1;32m    380\u001b[0m     \u001b[38;5;28;01mif\u001b[39;00m \u001b[38;5;28misinstance\u001b[39m(do, DoAttempt):\n\u001b[1;32m    381\u001b[0m         \u001b[38;5;28;01mtry\u001b[39;00m:\n",
      "File \u001b[0;32m~/python/GenAI_Insights/.venv/lib/python3.10/site-packages/tenacity/__init__.py:314\u001b[0m, in \u001b[0;36mBaseRetrying.iter\u001b[0;34m(self, retry_state)\u001b[0m\n\u001b[1;32m    312\u001b[0m is_explicit_retry \u001b[38;5;241m=\u001b[39m fut\u001b[38;5;241m.\u001b[39mfailed \u001b[38;5;129;01mand\u001b[39;00m \u001b[38;5;28misinstance\u001b[39m(fut\u001b[38;5;241m.\u001b[39mexception(), TryAgain)\n\u001b[1;32m    313\u001b[0m \u001b[38;5;28;01mif\u001b[39;00m \u001b[38;5;129;01mnot\u001b[39;00m (is_explicit_retry \u001b[38;5;129;01mor\u001b[39;00m \u001b[38;5;28mself\u001b[39m\u001b[38;5;241m.\u001b[39mretry(retry_state)):\n\u001b[0;32m--> 314\u001b[0m     \u001b[38;5;28;01mreturn\u001b[39;00m \u001b[43mfut\u001b[49m\u001b[38;5;241;43m.\u001b[39;49m\u001b[43mresult\u001b[49m\u001b[43m(\u001b[49m\u001b[43m)\u001b[49m\n\u001b[1;32m    316\u001b[0m \u001b[38;5;28;01mif\u001b[39;00m \u001b[38;5;28mself\u001b[39m\u001b[38;5;241m.\u001b[39mafter \u001b[38;5;129;01mis\u001b[39;00m \u001b[38;5;129;01mnot\u001b[39;00m \u001b[38;5;28;01mNone\u001b[39;00m:\n\u001b[1;32m    317\u001b[0m     \u001b[38;5;28mself\u001b[39m\u001b[38;5;241m.\u001b[39mafter(retry_state)\n",
      "File \u001b[0;32m/usr/lib/python3.10/concurrent/futures/_base.py:451\u001b[0m, in \u001b[0;36mFuture.result\u001b[0;34m(self, timeout)\u001b[0m\n\u001b[1;32m    449\u001b[0m     \u001b[38;5;28;01mraise\u001b[39;00m CancelledError()\n\u001b[1;32m    450\u001b[0m \u001b[38;5;28;01melif\u001b[39;00m \u001b[38;5;28mself\u001b[39m\u001b[38;5;241m.\u001b[39m_state \u001b[38;5;241m==\u001b[39m FINISHED:\n\u001b[0;32m--> 451\u001b[0m     \u001b[38;5;28;01mreturn\u001b[39;00m \u001b[38;5;28;43mself\u001b[39;49m\u001b[38;5;241;43m.\u001b[39;49m\u001b[43m__get_result\u001b[49m\u001b[43m(\u001b[49m\u001b[43m)\u001b[49m\n\u001b[1;32m    453\u001b[0m \u001b[38;5;28mself\u001b[39m\u001b[38;5;241m.\u001b[39m_condition\u001b[38;5;241m.\u001b[39mwait(timeout)\n\u001b[1;32m    455\u001b[0m \u001b[38;5;28;01mif\u001b[39;00m \u001b[38;5;28mself\u001b[39m\u001b[38;5;241m.\u001b[39m_state \u001b[38;5;129;01min\u001b[39;00m [CANCELLED, CANCELLED_AND_NOTIFIED]:\n",
      "File \u001b[0;32m/usr/lib/python3.10/concurrent/futures/_base.py:403\u001b[0m, in \u001b[0;36mFuture.__get_result\u001b[0;34m(self)\u001b[0m\n\u001b[1;32m    401\u001b[0m \u001b[38;5;28;01mif\u001b[39;00m \u001b[38;5;28mself\u001b[39m\u001b[38;5;241m.\u001b[39m_exception:\n\u001b[1;32m    402\u001b[0m     \u001b[38;5;28;01mtry\u001b[39;00m:\n\u001b[0;32m--> 403\u001b[0m         \u001b[38;5;28;01mraise\u001b[39;00m \u001b[38;5;28mself\u001b[39m\u001b[38;5;241m.\u001b[39m_exception\n\u001b[1;32m    404\u001b[0m     \u001b[38;5;28;01mfinally\u001b[39;00m:\n\u001b[1;32m    405\u001b[0m         \u001b[38;5;66;03m# Break a reference cycle with the exception in self._exception\u001b[39;00m\n\u001b[1;32m    406\u001b[0m         \u001b[38;5;28mself\u001b[39m \u001b[38;5;241m=\u001b[39m \u001b[38;5;28;01mNone\u001b[39;00m\n",
      "File \u001b[0;32m~/python/GenAI_Insights/.venv/lib/python3.10/site-packages/tenacity/__init__.py:382\u001b[0m, in \u001b[0;36mRetrying.__call__\u001b[0;34m(self, fn, *args, **kwargs)\u001b[0m\n\u001b[1;32m    380\u001b[0m \u001b[38;5;28;01mif\u001b[39;00m \u001b[38;5;28misinstance\u001b[39m(do, DoAttempt):\n\u001b[1;32m    381\u001b[0m     \u001b[38;5;28;01mtry\u001b[39;00m:\n\u001b[0;32m--> 382\u001b[0m         result \u001b[38;5;241m=\u001b[39m \u001b[43mfn\u001b[49m\u001b[43m(\u001b[49m\u001b[38;5;241;43m*\u001b[39;49m\u001b[43margs\u001b[49m\u001b[43m,\u001b[49m\u001b[43m \u001b[49m\u001b[38;5;241;43m*\u001b[39;49m\u001b[38;5;241;43m*\u001b[39;49m\u001b[43mkwargs\u001b[49m\u001b[43m)\u001b[49m\n\u001b[1;32m    383\u001b[0m     \u001b[38;5;28;01mexcept\u001b[39;00m \u001b[38;5;167;01mBaseException\u001b[39;00m:  \u001b[38;5;66;03m# noqa: B902\u001b[39;00m\n\u001b[1;32m    384\u001b[0m         retry_state\u001b[38;5;241m.\u001b[39mset_exception(sys\u001b[38;5;241m.\u001b[39mexc_info())  \u001b[38;5;66;03m# type: ignore[arg-type]\u001b[39;00m\n",
      "File \u001b[0;32m~/python/GenAI_Insights/.venv/lib/python3.10/site-packages/langchain/llms/openai.py:118\u001b[0m, in \u001b[0;36mcompletion_with_retry.<locals>._completion_with_retry\u001b[0;34m(**kwargs)\u001b[0m\n\u001b[1;32m    116\u001b[0m \u001b[38;5;129m@retry_decorator\u001b[39m\n\u001b[1;32m    117\u001b[0m \u001b[38;5;28;01mdef\u001b[39;00m \u001b[38;5;21m_completion_with_retry\u001b[39m(\u001b[38;5;241m*\u001b[39m\u001b[38;5;241m*\u001b[39mkwargs: Any) \u001b[38;5;241m-\u001b[39m\u001b[38;5;241m>\u001b[39m Any:\n\u001b[0;32m--> 118\u001b[0m     \u001b[38;5;28;01mreturn\u001b[39;00m \u001b[43mllm\u001b[49m\u001b[38;5;241;43m.\u001b[39;49m\u001b[43mclient\u001b[49m\u001b[38;5;241;43m.\u001b[39;49m\u001b[43mcreate\u001b[49m\u001b[43m(\u001b[49m\u001b[38;5;241;43m*\u001b[39;49m\u001b[38;5;241;43m*\u001b[39;49m\u001b[43mkwargs\u001b[49m\u001b[43m)\u001b[49m\n",
      "File \u001b[0;32m~/python/GenAI_Insights/.venv/lib/python3.10/site-packages/openai/api_resources/completion.py:25\u001b[0m, in \u001b[0;36mCompletion.create\u001b[0;34m(cls, *args, **kwargs)\u001b[0m\n\u001b[1;32m     23\u001b[0m \u001b[38;5;28;01mwhile\u001b[39;00m \u001b[38;5;28;01mTrue\u001b[39;00m:\n\u001b[1;32m     24\u001b[0m     \u001b[38;5;28;01mtry\u001b[39;00m:\n\u001b[0;32m---> 25\u001b[0m         \u001b[38;5;28;01mreturn\u001b[39;00m \u001b[38;5;28;43msuper\u001b[39;49m\u001b[43m(\u001b[49m\u001b[43m)\u001b[49m\u001b[38;5;241;43m.\u001b[39;49m\u001b[43mcreate\u001b[49m\u001b[43m(\u001b[49m\u001b[38;5;241;43m*\u001b[39;49m\u001b[43margs\u001b[49m\u001b[43m,\u001b[49m\u001b[43m \u001b[49m\u001b[38;5;241;43m*\u001b[39;49m\u001b[38;5;241;43m*\u001b[39;49m\u001b[43mkwargs\u001b[49m\u001b[43m)\u001b[49m\n\u001b[1;32m     26\u001b[0m     \u001b[38;5;28;01mexcept\u001b[39;00m TryAgain \u001b[38;5;28;01mas\u001b[39;00m e:\n\u001b[1;32m     27\u001b[0m         \u001b[38;5;28;01mif\u001b[39;00m timeout \u001b[38;5;129;01mis\u001b[39;00m \u001b[38;5;129;01mnot\u001b[39;00m \u001b[38;5;28;01mNone\u001b[39;00m \u001b[38;5;129;01mand\u001b[39;00m time\u001b[38;5;241m.\u001b[39mtime() \u001b[38;5;241m>\u001b[39m start \u001b[38;5;241m+\u001b[39m timeout:\n",
      "File \u001b[0;32m~/python/GenAI_Insights/.venv/lib/python3.10/site-packages/openai/api_resources/abstract/engine_api_resource.py:153\u001b[0m, in \u001b[0;36mEngineAPIResource.create\u001b[0;34m(cls, api_key, api_base, api_type, request_id, api_version, organization, **params)\u001b[0m\n\u001b[1;32m    127\u001b[0m \u001b[38;5;129m@classmethod\u001b[39m\n\u001b[1;32m    128\u001b[0m \u001b[38;5;28;01mdef\u001b[39;00m \u001b[38;5;21mcreate\u001b[39m(\n\u001b[1;32m    129\u001b[0m     \u001b[38;5;28mcls\u001b[39m,\n\u001b[0;32m   (...)\u001b[0m\n\u001b[1;32m    136\u001b[0m     \u001b[38;5;241m*\u001b[39m\u001b[38;5;241m*\u001b[39mparams,\n\u001b[1;32m    137\u001b[0m ):\n\u001b[1;32m    138\u001b[0m     (\n\u001b[1;32m    139\u001b[0m         deployment_id,\n\u001b[1;32m    140\u001b[0m         engine,\n\u001b[0;32m   (...)\u001b[0m\n\u001b[1;32m    150\u001b[0m         api_key, api_base, api_type, api_version, organization, \u001b[38;5;241m*\u001b[39m\u001b[38;5;241m*\u001b[39mparams\n\u001b[1;32m    151\u001b[0m     )\n\u001b[0;32m--> 153\u001b[0m     response, _, api_key \u001b[38;5;241m=\u001b[39m \u001b[43mrequestor\u001b[49m\u001b[38;5;241;43m.\u001b[39;49m\u001b[43mrequest\u001b[49m\u001b[43m(\u001b[49m\n\u001b[1;32m    154\u001b[0m \u001b[43m        \u001b[49m\u001b[38;5;124;43m\"\u001b[39;49m\u001b[38;5;124;43mpost\u001b[39;49m\u001b[38;5;124;43m\"\u001b[39;49m\u001b[43m,\u001b[49m\n\u001b[1;32m    155\u001b[0m \u001b[43m        \u001b[49m\u001b[43murl\u001b[49m\u001b[43m,\u001b[49m\n\u001b[1;32m    156\u001b[0m \u001b[43m        \u001b[49m\u001b[43mparams\u001b[49m\u001b[38;5;241;43m=\u001b[39;49m\u001b[43mparams\u001b[49m\u001b[43m,\u001b[49m\n\u001b[1;32m    157\u001b[0m \u001b[43m        \u001b[49m\u001b[43mheaders\u001b[49m\u001b[38;5;241;43m=\u001b[39;49m\u001b[43mheaders\u001b[49m\u001b[43m,\u001b[49m\n\u001b[1;32m    158\u001b[0m \u001b[43m        \u001b[49m\u001b[43mstream\u001b[49m\u001b[38;5;241;43m=\u001b[39;49m\u001b[43mstream\u001b[49m\u001b[43m,\u001b[49m\n\u001b[1;32m    159\u001b[0m \u001b[43m        \u001b[49m\u001b[43mrequest_id\u001b[49m\u001b[38;5;241;43m=\u001b[39;49m\u001b[43mrequest_id\u001b[49m\u001b[43m,\u001b[49m\n\u001b[1;32m    160\u001b[0m \u001b[43m        \u001b[49m\u001b[43mrequest_timeout\u001b[49m\u001b[38;5;241;43m=\u001b[39;49m\u001b[43mrequest_timeout\u001b[49m\u001b[43m,\u001b[49m\n\u001b[1;32m    161\u001b[0m \u001b[43m    \u001b[49m\u001b[43m)\u001b[49m\n\u001b[1;32m    163\u001b[0m     \u001b[38;5;28;01mif\u001b[39;00m stream:\n\u001b[1;32m    164\u001b[0m         \u001b[38;5;66;03m# must be an iterator\u001b[39;00m\n\u001b[1;32m    165\u001b[0m         \u001b[38;5;28;01massert\u001b[39;00m \u001b[38;5;129;01mnot\u001b[39;00m \u001b[38;5;28misinstance\u001b[39m(response, OpenAIResponse)\n",
      "File \u001b[0;32m~/python/GenAI_Insights/.venv/lib/python3.10/site-packages/openai/api_requestor.py:288\u001b[0m, in \u001b[0;36mAPIRequestor.request\u001b[0;34m(self, method, url, params, headers, files, stream, request_id, request_timeout)\u001b[0m\n\u001b[1;32m    277\u001b[0m \u001b[38;5;28;01mdef\u001b[39;00m \u001b[38;5;21mrequest\u001b[39m(\n\u001b[1;32m    278\u001b[0m     \u001b[38;5;28mself\u001b[39m,\n\u001b[1;32m    279\u001b[0m     method,\n\u001b[0;32m   (...)\u001b[0m\n\u001b[1;32m    286\u001b[0m     request_timeout: Optional[Union[\u001b[38;5;28mfloat\u001b[39m, Tuple[\u001b[38;5;28mfloat\u001b[39m, \u001b[38;5;28mfloat\u001b[39m]]] \u001b[38;5;241m=\u001b[39m \u001b[38;5;28;01mNone\u001b[39;00m,\n\u001b[1;32m    287\u001b[0m ) \u001b[38;5;241m-\u001b[39m\u001b[38;5;241m>\u001b[39m Tuple[Union[OpenAIResponse, Iterator[OpenAIResponse]], \u001b[38;5;28mbool\u001b[39m, \u001b[38;5;28mstr\u001b[39m]:\n\u001b[0;32m--> 288\u001b[0m     result \u001b[38;5;241m=\u001b[39m \u001b[38;5;28;43mself\u001b[39;49m\u001b[38;5;241;43m.\u001b[39;49m\u001b[43mrequest_raw\u001b[49m\u001b[43m(\u001b[49m\n\u001b[1;32m    289\u001b[0m \u001b[43m        \u001b[49m\u001b[43mmethod\u001b[49m\u001b[38;5;241;43m.\u001b[39;49m\u001b[43mlower\u001b[49m\u001b[43m(\u001b[49m\u001b[43m)\u001b[49m\u001b[43m,\u001b[49m\n\u001b[1;32m    290\u001b[0m \u001b[43m        \u001b[49m\u001b[43murl\u001b[49m\u001b[43m,\u001b[49m\n\u001b[1;32m    291\u001b[0m \u001b[43m        \u001b[49m\u001b[43mparams\u001b[49m\u001b[38;5;241;43m=\u001b[39;49m\u001b[43mparams\u001b[49m\u001b[43m,\u001b[49m\n\u001b[1;32m    292\u001b[0m \u001b[43m        \u001b[49m\u001b[43msupplied_headers\u001b[49m\u001b[38;5;241;43m=\u001b[39;49m\u001b[43mheaders\u001b[49m\u001b[43m,\u001b[49m\n\u001b[1;32m    293\u001b[0m \u001b[43m        \u001b[49m\u001b[43mfiles\u001b[49m\u001b[38;5;241;43m=\u001b[39;49m\u001b[43mfiles\u001b[49m\u001b[43m,\u001b[49m\n\u001b[1;32m    294\u001b[0m \u001b[43m        \u001b[49m\u001b[43mstream\u001b[49m\u001b[38;5;241;43m=\u001b[39;49m\u001b[43mstream\u001b[49m\u001b[43m,\u001b[49m\n\u001b[1;32m    295\u001b[0m \u001b[43m        \u001b[49m\u001b[43mrequest_id\u001b[49m\u001b[38;5;241;43m=\u001b[39;49m\u001b[43mrequest_id\u001b[49m\u001b[43m,\u001b[49m\n\u001b[1;32m    296\u001b[0m \u001b[43m        \u001b[49m\u001b[43mrequest_timeout\u001b[49m\u001b[38;5;241;43m=\u001b[39;49m\u001b[43mrequest_timeout\u001b[49m\u001b[43m,\u001b[49m\n\u001b[1;32m    297\u001b[0m \u001b[43m    \u001b[49m\u001b[43m)\u001b[49m\n\u001b[1;32m    298\u001b[0m     resp, got_stream \u001b[38;5;241m=\u001b[39m \u001b[38;5;28mself\u001b[39m\u001b[38;5;241m.\u001b[39m_interpret_response(result, stream)\n\u001b[1;32m    299\u001b[0m     \u001b[38;5;28;01mreturn\u001b[39;00m resp, got_stream, \u001b[38;5;28mself\u001b[39m\u001b[38;5;241m.\u001b[39mapi_key\n",
      "File \u001b[0;32m~/python/GenAI_Insights/.venv/lib/python3.10/site-packages/openai/api_requestor.py:581\u001b[0m, in \u001b[0;36mAPIRequestor.request_raw\u001b[0;34m(self, method, url, params, supplied_headers, files, stream, request_id, request_timeout)\u001b[0m\n\u001b[1;32m    569\u001b[0m \u001b[38;5;28;01mdef\u001b[39;00m \u001b[38;5;21mrequest_raw\u001b[39m(\n\u001b[1;32m    570\u001b[0m     \u001b[38;5;28mself\u001b[39m,\n\u001b[1;32m    571\u001b[0m     method,\n\u001b[0;32m   (...)\u001b[0m\n\u001b[1;32m    579\u001b[0m     request_timeout: Optional[Union[\u001b[38;5;28mfloat\u001b[39m, Tuple[\u001b[38;5;28mfloat\u001b[39m, \u001b[38;5;28mfloat\u001b[39m]]] \u001b[38;5;241m=\u001b[39m \u001b[38;5;28;01mNone\u001b[39;00m,\n\u001b[1;32m    580\u001b[0m ) \u001b[38;5;241m-\u001b[39m\u001b[38;5;241m>\u001b[39m requests\u001b[38;5;241m.\u001b[39mResponse:\n\u001b[0;32m--> 581\u001b[0m     abs_url, headers, data \u001b[38;5;241m=\u001b[39m \u001b[38;5;28;43mself\u001b[39;49m\u001b[38;5;241;43m.\u001b[39;49m\u001b[43m_prepare_request_raw\u001b[49m\u001b[43m(\u001b[49m\n\u001b[1;32m    582\u001b[0m \u001b[43m        \u001b[49m\u001b[43murl\u001b[49m\u001b[43m,\u001b[49m\u001b[43m \u001b[49m\u001b[43msupplied_headers\u001b[49m\u001b[43m,\u001b[49m\u001b[43m \u001b[49m\u001b[43mmethod\u001b[49m\u001b[43m,\u001b[49m\u001b[43m \u001b[49m\u001b[43mparams\u001b[49m\u001b[43m,\u001b[49m\u001b[43m \u001b[49m\u001b[43mfiles\u001b[49m\u001b[43m,\u001b[49m\u001b[43m \u001b[49m\u001b[43mrequest_id\u001b[49m\n\u001b[1;32m    583\u001b[0m \u001b[43m    \u001b[49m\u001b[43m)\u001b[49m\n\u001b[1;32m    585\u001b[0m     \u001b[38;5;28;01mif\u001b[39;00m \u001b[38;5;129;01mnot\u001b[39;00m \u001b[38;5;28mhasattr\u001b[39m(_thread_context, \u001b[38;5;124m\"\u001b[39m\u001b[38;5;124msession\u001b[39m\u001b[38;5;124m\"\u001b[39m):\n\u001b[1;32m    586\u001b[0m         _thread_context\u001b[38;5;241m.\u001b[39msession \u001b[38;5;241m=\u001b[39m _make_session()\n",
      "File \u001b[0;32m~/python/GenAI_Insights/.venv/lib/python3.10/site-packages/openai/api_requestor.py:553\u001b[0m, in \u001b[0;36mAPIRequestor._prepare_request_raw\u001b[0;34m(self, url, supplied_headers, method, params, files, request_id)\u001b[0m\n\u001b[1;32m    551\u001b[0m         data \u001b[38;5;241m=\u001b[39m params\n\u001b[1;32m    552\u001b[0m     \u001b[38;5;28;01mif\u001b[39;00m params \u001b[38;5;129;01mand\u001b[39;00m \u001b[38;5;129;01mnot\u001b[39;00m files:\n\u001b[0;32m--> 553\u001b[0m         data \u001b[38;5;241m=\u001b[39m \u001b[43mjson\u001b[49m\u001b[38;5;241;43m.\u001b[39;49m\u001b[43mdumps\u001b[49m\u001b[43m(\u001b[49m\u001b[43mparams\u001b[49m\u001b[43m)\u001b[49m\u001b[38;5;241m.\u001b[39mencode()\n\u001b[1;32m    554\u001b[0m         headers[\u001b[38;5;124m\"\u001b[39m\u001b[38;5;124mContent-Type\u001b[39m\u001b[38;5;124m\"\u001b[39m] \u001b[38;5;241m=\u001b[39m \u001b[38;5;124m\"\u001b[39m\u001b[38;5;124mapplication/json\u001b[39m\u001b[38;5;124m\"\u001b[39m\n\u001b[1;32m    555\u001b[0m \u001b[38;5;28;01melse\u001b[39;00m:\n",
      "File \u001b[0;32m/usr/lib/python3.10/json/__init__.py:231\u001b[0m, in \u001b[0;36mdumps\u001b[0;34m(obj, skipkeys, ensure_ascii, check_circular, allow_nan, cls, indent, separators, default, sort_keys, **kw)\u001b[0m\n\u001b[1;32m    226\u001b[0m \u001b[38;5;66;03m# cached encoder\u001b[39;00m\n\u001b[1;32m    227\u001b[0m \u001b[38;5;28;01mif\u001b[39;00m (\u001b[38;5;129;01mnot\u001b[39;00m skipkeys \u001b[38;5;129;01mand\u001b[39;00m ensure_ascii \u001b[38;5;129;01mand\u001b[39;00m\n\u001b[1;32m    228\u001b[0m     check_circular \u001b[38;5;129;01mand\u001b[39;00m allow_nan \u001b[38;5;129;01mand\u001b[39;00m\n\u001b[1;32m    229\u001b[0m     \u001b[38;5;28mcls\u001b[39m \u001b[38;5;129;01mis\u001b[39;00m \u001b[38;5;28;01mNone\u001b[39;00m \u001b[38;5;129;01mand\u001b[39;00m indent \u001b[38;5;129;01mis\u001b[39;00m \u001b[38;5;28;01mNone\u001b[39;00m \u001b[38;5;129;01mand\u001b[39;00m separators \u001b[38;5;129;01mis\u001b[39;00m \u001b[38;5;28;01mNone\u001b[39;00m \u001b[38;5;129;01mand\u001b[39;00m\n\u001b[1;32m    230\u001b[0m     default \u001b[38;5;129;01mis\u001b[39;00m \u001b[38;5;28;01mNone\u001b[39;00m \u001b[38;5;129;01mand\u001b[39;00m \u001b[38;5;129;01mnot\u001b[39;00m sort_keys \u001b[38;5;129;01mand\u001b[39;00m \u001b[38;5;129;01mnot\u001b[39;00m kw):\n\u001b[0;32m--> 231\u001b[0m     \u001b[38;5;28;01mreturn\u001b[39;00m \u001b[43m_default_encoder\u001b[49m\u001b[38;5;241;43m.\u001b[39;49m\u001b[43mencode\u001b[49m\u001b[43m(\u001b[49m\u001b[43mobj\u001b[49m\u001b[43m)\u001b[49m\n\u001b[1;32m    232\u001b[0m \u001b[38;5;28;01mif\u001b[39;00m \u001b[38;5;28mcls\u001b[39m \u001b[38;5;129;01mis\u001b[39;00m \u001b[38;5;28;01mNone\u001b[39;00m:\n\u001b[1;32m    233\u001b[0m     \u001b[38;5;28mcls\u001b[39m \u001b[38;5;241m=\u001b[39m JSONEncoder\n",
      "File \u001b[0;32m/usr/lib/python3.10/json/encoder.py:199\u001b[0m, in \u001b[0;36mJSONEncoder.encode\u001b[0;34m(self, o)\u001b[0m\n\u001b[1;32m    195\u001b[0m         \u001b[38;5;28;01mreturn\u001b[39;00m encode_basestring(o)\n\u001b[1;32m    196\u001b[0m \u001b[38;5;66;03m# This doesn't pass the iterator directly to ''.join() because the\u001b[39;00m\n\u001b[1;32m    197\u001b[0m \u001b[38;5;66;03m# exceptions aren't as detailed.  The list call should be roughly\u001b[39;00m\n\u001b[1;32m    198\u001b[0m \u001b[38;5;66;03m# equivalent to the PySequence_Fast that ''.join() would do.\u001b[39;00m\n\u001b[0;32m--> 199\u001b[0m chunks \u001b[38;5;241m=\u001b[39m \u001b[38;5;28;43mself\u001b[39;49m\u001b[38;5;241;43m.\u001b[39;49m\u001b[43miterencode\u001b[49m\u001b[43m(\u001b[49m\u001b[43mo\u001b[49m\u001b[43m,\u001b[49m\u001b[43m \u001b[49m\u001b[43m_one_shot\u001b[49m\u001b[38;5;241;43m=\u001b[39;49m\u001b[38;5;28;43;01mTrue\u001b[39;49;00m\u001b[43m)\u001b[49m\n\u001b[1;32m    200\u001b[0m \u001b[38;5;28;01mif\u001b[39;00m \u001b[38;5;129;01mnot\u001b[39;00m \u001b[38;5;28misinstance\u001b[39m(chunks, (\u001b[38;5;28mlist\u001b[39m, \u001b[38;5;28mtuple\u001b[39m)):\n\u001b[1;32m    201\u001b[0m     chunks \u001b[38;5;241m=\u001b[39m \u001b[38;5;28mlist\u001b[39m(chunks)\n",
      "File \u001b[0;32m/usr/lib/python3.10/json/encoder.py:257\u001b[0m, in \u001b[0;36mJSONEncoder.iterencode\u001b[0;34m(self, o, _one_shot)\u001b[0m\n\u001b[1;32m    252\u001b[0m \u001b[38;5;28;01melse\u001b[39;00m:\n\u001b[1;32m    253\u001b[0m     _iterencode \u001b[38;5;241m=\u001b[39m _make_iterencode(\n\u001b[1;32m    254\u001b[0m         markers, \u001b[38;5;28mself\u001b[39m\u001b[38;5;241m.\u001b[39mdefault, _encoder, \u001b[38;5;28mself\u001b[39m\u001b[38;5;241m.\u001b[39mindent, floatstr,\n\u001b[1;32m    255\u001b[0m         \u001b[38;5;28mself\u001b[39m\u001b[38;5;241m.\u001b[39mkey_separator, \u001b[38;5;28mself\u001b[39m\u001b[38;5;241m.\u001b[39mitem_separator, \u001b[38;5;28mself\u001b[39m\u001b[38;5;241m.\u001b[39msort_keys,\n\u001b[1;32m    256\u001b[0m         \u001b[38;5;28mself\u001b[39m\u001b[38;5;241m.\u001b[39mskipkeys, _one_shot)\n\u001b[0;32m--> 257\u001b[0m \u001b[38;5;28;01mreturn\u001b[39;00m \u001b[43m_iterencode\u001b[49m\u001b[43m(\u001b[49m\u001b[43mo\u001b[49m\u001b[43m,\u001b[49m\u001b[43m \u001b[49m\u001b[38;5;241;43m0\u001b[39;49m\u001b[43m)\u001b[49m\n",
      "File \u001b[0;32m/usr/lib/python3.10/json/encoder.py:179\u001b[0m, in \u001b[0;36mJSONEncoder.default\u001b[0;34m(self, o)\u001b[0m\n\u001b[1;32m    160\u001b[0m \u001b[38;5;28;01mdef\u001b[39;00m \u001b[38;5;21mdefault\u001b[39m(\u001b[38;5;28mself\u001b[39m, o):\n\u001b[1;32m    161\u001b[0m \u001b[38;5;250m    \u001b[39m\u001b[38;5;124;03m\"\"\"Implement this method in a subclass such that it returns\u001b[39;00m\n\u001b[1;32m    162\u001b[0m \u001b[38;5;124;03m    a serializable object for ``o``, or calls the base implementation\u001b[39;00m\n\u001b[1;32m    163\u001b[0m \u001b[38;5;124;03m    (to raise a ``TypeError``).\u001b[39;00m\n\u001b[0;32m   (...)\u001b[0m\n\u001b[1;32m    177\u001b[0m \n\u001b[1;32m    178\u001b[0m \u001b[38;5;124;03m    \"\"\"\u001b[39;00m\n\u001b[0;32m--> 179\u001b[0m     \u001b[38;5;28;01mraise\u001b[39;00m \u001b[38;5;167;01mTypeError\u001b[39;00m(\u001b[38;5;124mf\u001b[39m\u001b[38;5;124m'\u001b[39m\u001b[38;5;124mObject of type \u001b[39m\u001b[38;5;132;01m{\u001b[39;00mo\u001b[38;5;241m.\u001b[39m\u001b[38;5;18m__class__\u001b[39m\u001b[38;5;241m.\u001b[39m\u001b[38;5;18m__name__\u001b[39m\u001b[38;5;132;01m}\u001b[39;00m\u001b[38;5;124m \u001b[39m\u001b[38;5;124m'\u001b[39m\n\u001b[1;32m    180\u001b[0m                     \u001b[38;5;124mf\u001b[39m\u001b[38;5;124m'\u001b[39m\u001b[38;5;124mis not JSON serializable\u001b[39m\u001b[38;5;124m'\u001b[39m)\n",
      "\u001b[0;31mTypeError\u001b[0m: Object of type SQLDatabase is not JSON serializable"
     ]
    }
   ],
   "source": [
    "# Use LangChain to answers quetions using a SQLite3 database\n",
    "llm = OpenAI(model_name=\"text-davinci-003\", openai_api_key=Parameters.openai_api_key)\n",
    "dburi = \"sqlite:///Data/acs.sqlite3\"\n",
    "db = SQLDatabase.from_uri(dburi)\n",
    "question = \"What is the population of Kentucky?\"\n",
    "print(question, llm(question,db))"
   ]
  },
  {
   "cell_type": "code",
   "execution_count": null,
   "metadata": {},
   "outputs": [],
   "source": []
  },
  {
   "cell_type": "raw",
   "metadata": {},
   "source": [
    "https://python.langchain.com/docs/expression_language/cookbook/sql_db"
   ]
  },
  {
   "cell_type": "code",
   "execution_count": 12,
   "metadata": {},
   "outputs": [],
   "source": [
    "template = \"\"\"Based on the table schema below, write a SQL query that would answer the user's question:\n",
    "{schema}\n",
    "\n",
    "Question: {question}\n",
    "SQL Query:\"\"\"\n",
    "prompt = ChatPromptTemplate.from_template(template)"
   ]
  },
  {
   "cell_type": "code",
   "execution_count": 13,
   "metadata": {},
   "outputs": [
    {
     "data": {
      "text/plain": [
       "langchain.prompts.chat.ChatPromptTemplate"
      ]
     },
     "execution_count": 13,
     "metadata": {},
     "output_type": "execute_result"
    }
   ],
   "source": [
    "type(prompt)"
   ]
  },
  {
   "cell_type": "code",
   "execution_count": 14,
   "metadata": {},
   "outputs": [
    {
     "name": "stdout",
     "output_type": "stream",
     "text": [
      "input_variables=['question', 'schema'] messages=[HumanMessagePromptTemplate(prompt=PromptTemplate(input_variables=['question', 'schema'], template=\"Based on the table schema below, write a SQL query that would answer the user's question:\\n{schema}\\n\\nQuestion: {question}\\nSQL Query:\"))]\n"
     ]
    }
   ],
   "source": [
    "print(prompt)"
   ]
  },
  {
   "cell_type": "code",
   "execution_count": null,
   "metadata": {},
   "outputs": [],
   "source": []
  },
  {
   "cell_type": "code",
   "execution_count": 15,
   "metadata": {},
   "outputs": [],
   "source": [
    "# db = SQLDatabase.from_uri(\"sqlite:///Data/data.sqlite3\")\n",
    "db = SQLDatabase.from_uri(\"sqlite:///Data/acs.sqlite3\")"
   ]
  },
  {
   "cell_type": "code",
   "execution_count": 16,
   "metadata": {},
   "outputs": [
    {
     "data": {
      "text/plain": [
       "\"[(0, '0400000US01', 'Alabama', 4777326, 2317520, 2459806, 305091, 309360, 318484, 337159, 340808, 607797, 619112, 686672, 310336, 279202, 374441, 211411, 77453, 37.8, 3647097, 3433673, 663305, 4710487, 66839, 3379235, 1285740, 57219, 66512, 2901, 56469, 182268, 4595058, 2172647, 2012, 1837576.0, 597337.0, 475330.0, 2.54, 1841356.0, 584355.0, 957174.0, 39467.0, 52899.0, 207461.0, 2003035.0, 517693.0, 937087.0, 61290.0, 222434.0, 264531.0, 1220805.0, 3166424.0, 187882.0, 363148.0, 991406.0, 691686.0, 227301.0, 448117.0, 256884.0, 4610592.0, 166734.0, 230806.0, 3779457, 2265008, 2248665, 2017887, 230778, 16343, 1514449, 2017887, 643951, 332351, 507206, 218389, 315990, 54326, 70237, 23587, 4693822, 4039446, 3112613, 1524117, 654376, 2172647, 1837576, 335071, 2.5, 9.0, 5.7, 122300, 1289324, 776946, 512378, 691, 63064), (1, '0400000US01', 'Alabama', 4817678, 2336020, 2481658, 299571, 304412, 321104, 327579, 347110, 618482, 610792, 675347, 322017, 292003, 401417, 217634, 80210, 38.2, 3699760, 3491373, 699261, 4741250, 76428, 3393927, 1304167, 58134, 72528, 3737, 65898, 191838, 4625840, 2190638, 2013, 1838683.0, 592093.0, 486161.0, 2.55, 1854423.0, 596005.0, 952726.0, 40229.0, 54972.0, 210491.0, 2016442.0, 530755.0, 932261.0, 61058.0, 222995.0, 269373.0, 1222995.0, 3193338.0, 180671.0, 358529.0, 991730.0, 703243.0, 236473.0, 458393.0, 264299.0, 4631045.0, 168232.0, 235741.0, 3806434, 2259344, 2244093, 2002163, 241930, 15251, 1547090, 2002163, 652201, 335865, 494371, 209494, 310232, 54362, 70661, 23680, 4716915, 4061521, 3093955, 1568842, 655394, 2178116, 1838683, 339433, 2.5, 8.9, 5.7, 122500, 1281604, 762450, 519154, 705, 62178), (2, '0400000US01', 'Alabama', 4799277, 2328592, 2470685, 301925, 306456, 320031, 332287, 345240, 612596, 615375, 681953, 316960, 285880, 387589, 214771, 78214, 38.1, 3675910, 3463812, 680574, 4727132, 72145, 3388895, 1294437, 57376, 69176, 3345, 62114, 188294, 4610983, 2178116, 2014, 1842174.0, 585393.0, 497517.0, 2.55, 1863744.0, 603407.0, 950855.0, 39418.0, 56153.0, 213911.0, 2028847.0, 540860.0, 932449.0, 60148.0, 222066.0, 273324.0, 1215753.0, 3217902.0, 174324.0, 350044.0, 999761.0, 708087.0, 243873.0, 465268.0, 276545.0, 4651201.0, 166477.0, 235709.0, 3828799, 2253005, 2239169, 2010453, 228716, 13836, 1575794, 2010453, 661335, 339569, 489899, 203989, 315661, 54724, 71423, 23936, 4735953, 4095677, 3097222, 1607735, 640276, 2190638, 1842174, 348464, 2.6, 9.0, 5.7, 123800, 1274196, 751234, 522962, 715, 62842), (3, '0400000US01', 'Alabama', 4841164, 2346193, 2494971, 292771, 305707, 313980, 324809, 342489, 626564, 606216, 656639, 332234, 297361, 434510, 225663, 82221, 38.6, 3735975, 3530912, 742394, 4755752, 85412, 3400118, 1320276, 58977, 77731, 4858, 69651, 193503, 4647661, 2209335, 2015, 1848325.0, 581680.0, 511256.0, 2.55, 1872257.0, 613105.0, 950508.0, 38073.0, 57128.0, 213443.0, 2039158.0, 550811.0, 933161.0, 59843.0, 221378.0, 273965.0, 1206014.0, 3239351.0, 166885.0, 343006.0, 1005295.0, 711180.0, 251335.0, 478812.0, 282838.0, 4663396.0, 167224.0, 235540.0, 3846845, 2242401, 2229422, 2022325, 207097, 12979, 1604444, 2022325, 673400, 339082, 488066, 200200, 321577, 55341, 71994, 24091, 4749786, 4148627, 3122837, 1648163, 601159, 2199329, 1848325, 351004, 2.5, 9.0, 5.7, 125500, 1269145, 738618, 530527, 717, 63906), (4, '0400000US01', 'Alabama', 4830620, 2341093, 2489527, 295054, 305714, 318437, 324020, 348044, 621592, 609415, 665372, 326349, 297297, 416983, 220721, 81622, 38.4, 3718646, 3514202, 719326, 4748974, 81646, 3396662, 1312584, 58251, 75634, 5186, 69042, 193492, 4637128, 2199329, 2016, 1851061.0, 572325.0, 525341.0, 2.55, 1881213.0, 621892.0, 948574.0, 37310.0, 58482.0, 214955.0, 2047493.0, 559931.0, 932449.0, 58487.0, 222097.0, 274529.0, 1193757.0, 3261408.0, 162018.0, 334018.0, 1009593.0, 714201.0, 258502.0, 492382.0, 290694.0, 4675660.0, 165504.0, 233260.0, 3864302, 2238654, 2226504, 2042025, 184479, 12150, 1625648, 2042025, 685523, 339793, 489112, 199303, 328294, 56828, 74189, 24736, 4761291, 4208373, 3162223, 1687781, 552918, 2209335, 1851061, 358274, 2.4, 9.4, 5.7, 128500, 1267824, 730637, 537187, 728, 65161)]\""
      ]
     },
     "execution_count": 16,
     "metadata": {},
     "output_type": "execute_result"
    }
   ],
   "source": [
    "result = db.run(\"SELECT * FROM acs LIMIT 5\")\n",
    "result"
   ]
  },
  {
   "cell_type": "code",
   "execution_count": null,
   "metadata": {},
   "outputs": [],
   "source": []
  },
  {
   "cell_type": "code",
   "execution_count": 17,
   "metadata": {},
   "outputs": [
    {
     "name": "stdout",
     "output_type": "stream",
     "text": [
      "[(0, '0400000US01', 'Alabama', 4777326, 2317520, 2459806, 305091, 309360, 318484, 337159, 340808, 607797, 619112, 686672, 310336, 279202, 374441, 211411, 77453, 37.8, 3647097, 3433673, 663305, 4710487, 66839, 3379235, 1285740, 57219, 66512, 2901, 56469, 182268, 4595058, 2172647, 2012, 1837576.0, 597337.0, 475330.0, 2.54, 1841356.0, 584355.0, 957174.0, 39467.0, 52899.0, 207461.0, 2003035.0, 517693.0, 937087.0, 61290.0, 222434.0, 264531.0, 1220805.0, 3166424.0, 187882.0, 363148.0, 991406.0, 691686.0, 227301.0, 448117.0, 256884.0, 4610592.0, 166734.0, 230806.0, 3779457, 2265008, 2248665, 2017887, 230778, 16343, 1514449, 2017887, 643951, 332351, 507206, 218389, 315990, 54326, 70237, 23587, 4693822, 4039446, 3112613, 1524117, 654376, 2172647, 1837576, 335071, 2.5, 9.0, 5.7, 122300, 1289324, 776946, 512378, 691, 63064), (1, '0400000US01', 'Alabama', 4817678, 2336020, 2481658, 299571, 304412, 321104, 327579, 347110, 618482, 610792, 675347, 322017, 292003, 401417, 217634, 80210, 38.2, 3699760, 3491373, 699261, 4741250, 76428, 3393927, 1304167, 58134, 72528, 3737, 65898, 191838, 4625840, 2190638, 2013, 1838683.0, 592093.0, 486161.0, 2.55, 1854423.0, 596005.0, 952726.0, 40229.0, 54972.0, 210491.0, 2016442.0, 530755.0, 932261.0, 61058.0, 222995.0, 269373.0, 1222995.0, 3193338.0, 180671.0, 358529.0, 991730.0, 703243.0, 236473.0, 458393.0, 264299.0, 4631045.0, 168232.0, 235741.0, 3806434, 2259344, 2244093, 2002163, 241930, 15251, 1547090, 2002163, 652201, 335865, 494371, 209494, 310232, 54362, 70661, 23680, 4716915, 4061521, 3093955, 1568842, 655394, 2178116, 1838683, 339433, 2.5, 8.9, 5.7, 122500, 1281604, 762450, 519154, 705, 62178), (2, '0400000US01', 'Alabama', 4799277, 2328592, 2470685, 301925, 306456, 320031, 332287, 345240, 612596, 615375, 681953, 316960, 285880, 387589, 214771, 78214, 38.1, 3675910, 3463812, 680574, 4727132, 72145, 3388895, 1294437, 57376, 69176, 3345, 62114, 188294, 4610983, 2178116, 2014, 1842174.0, 585393.0, 497517.0, 2.55, 1863744.0, 603407.0, 950855.0, 39418.0, 56153.0, 213911.0, 2028847.0, 540860.0, 932449.0, 60148.0, 222066.0, 273324.0, 1215753.0, 3217902.0, 174324.0, 350044.0, 999761.0, 708087.0, 243873.0, 465268.0, 276545.0, 4651201.0, 166477.0, 235709.0, 3828799, 2253005, 2239169, 2010453, 228716, 13836, 1575794, 2010453, 661335, 339569, 489899, 203989, 315661, 54724, 71423, 23936, 4735953, 4095677, 3097222, 1607735, 640276, 2190638, 1842174, 348464, 2.6, 9.0, 5.7, 123800, 1274196, 751234, 522962, 715, 62842), (3, '0400000US01', 'Alabama', 4841164, 2346193, 2494971, 292771, 305707, 313980, 324809, 342489, 626564, 606216, 656639, 332234, 297361, 434510, 225663, 82221, 38.6, 3735975, 3530912, 742394, 4755752, 85412, 3400118, 1320276, 58977, 77731, 4858, 69651, 193503, 4647661, 2209335, 2015, 1848325.0, 581680.0, 511256.0, 2.55, 1872257.0, 613105.0, 950508.0, 38073.0, 57128.0, 213443.0, 2039158.0, 550811.0, 933161.0, 59843.0, 221378.0, 273965.0, 1206014.0, 3239351.0, 166885.0, 343006.0, 1005295.0, 711180.0, 251335.0, 478812.0, 282838.0, 4663396.0, 167224.0, 235540.0, 3846845, 2242401, 2229422, 2022325, 207097, 12979, 1604444, 2022325, 673400, 339082, 488066, 200200, 321577, 55341, 71994, 24091, 4749786, 4148627, 3122837, 1648163, 601159, 2199329, 1848325, 351004, 2.5, 9.0, 5.7, 125500, 1269145, 738618, 530527, 717, 63906), (4, '0400000US01', 'Alabama', 4830620, 2341093, 2489527, 295054, 305714, 318437, 324020, 348044, 621592, 609415, 665372, 326349, 297297, 416983, 220721, 81622, 38.4, 3718646, 3514202, 719326, 4748974, 81646, 3396662, 1312584, 58251, 75634, 5186, 69042, 193492, 4637128, 2199329, 2016, 1851061.0, 572325.0, 525341.0, 2.55, 1881213.0, 621892.0, 948574.0, 37310.0, 58482.0, 214955.0, 2047493.0, 559931.0, 932449.0, 58487.0, 222097.0, 274529.0, 1193757.0, 3261408.0, 162018.0, 334018.0, 1009593.0, 714201.0, 258502.0, 492382.0, 290694.0, 4675660.0, 165504.0, 233260.0, 3864302, 2238654, 2226504, 2042025, 184479, 12150, 1625648, 2042025, 685523, 339793, 489112, 199303, 328294, 56828, 74189, 24736, 4761291, 4208373, 3162223, 1687781, 552918, 2209335, 1851061, 358274, 2.4, 9.4, 5.7, 128500, 1267824, 730637, 537187, 728, 65161)]\n"
     ]
    }
   ],
   "source": [
    "result: list[tuple] = ast.literal_eval(db.run(\"SELECT * FROM acs LIMIT 5\"))\n",
    "print(result)"
   ]
  },
  {
   "cell_type": "code",
   "execution_count": null,
   "metadata": {},
   "outputs": [],
   "source": []
  },
  {
   "cell_type": "code",
   "execution_count": null,
   "metadata": {},
   "outputs": [],
   "source": []
  },
  {
   "cell_type": "code",
   "execution_count": null,
   "metadata": {},
   "outputs": [],
   "source": []
  },
  {
   "cell_type": "code",
   "execution_count": 18,
   "metadata": {},
   "outputs": [],
   "source": [
    "def get_schema(_):\n",
    "    return db.get_table_info()"
   ]
  },
  {
   "cell_type": "code",
   "execution_count": 19,
   "metadata": {},
   "outputs": [],
   "source": [
    "def run_query(query):\n",
    "    return db.run(query)"
   ]
  },
  {
   "cell_type": "code",
   "execution_count": null,
   "metadata": {},
   "outputs": [],
   "source": []
  },
  {
   "cell_type": "code",
   "execution_count": 20,
   "metadata": {},
   "outputs": [],
   "source": [
    "model = ChatOpenAI()\n",
    "\n",
    "sql_response = (\n",
    "    RunnablePassthrough.assign(schema=get_schema)\n",
    "    | prompt\n",
    "    | model.bind(stop=[\"\\nSQLResult:\"])\n",
    "    | StrOutputParser()\n",
    ")"
   ]
  },
  {
   "cell_type": "code",
   "execution_count": 21,
   "metadata": {},
   "outputs": [
    {
     "data": {
      "text/plain": [
       "'SELECT COUNT(DISTINCT \"Geographic Area Name\") FROM acs;'"
      ]
     },
     "execution_count": 21,
     "metadata": {},
     "output_type": "execute_result"
    }
   ],
   "source": [
    "sql_response.invoke({\"question\": \"How many geographic areas are in the acs table?\"})"
   ]
  },
  {
   "cell_type": "code",
   "execution_count": 22,
   "metadata": {},
   "outputs": [
    {
     "name": "stdout",
     "output_type": "stream",
     "text": [
      "\n",
      "CREATE TABLE acs (\n",
      "\t\"Unnamed: 0\" INTEGER, \n",
      "\t\"Geography\" TEXT, \n",
      "\t\"Geographic Area Name\" TEXT, \n",
      "\t\"Total population\" INTEGER, \n",
      "\t\"Male\" INTEGER, \n",
      "\t\"Female\" INTEGER, \n",
      "\t\"Under 5 years\" INTEGER, \n",
      "\t\"5 to 9 years\" INTEGER, \n",
      "\t\"10 to 14 years\" INTEGER, \n",
      "\t\"15 to 19 years\" INTEGER, \n",
      "\t\"20 to 24 years\" INTEGER, \n",
      "\t\"25 to 34 years\" INTEGER, \n",
      "\t\"35 to 44 years\" INTEGER, \n",
      "\t\"45 to 54 years\" INTEGER, \n",
      "\t\"55 to 59 years\" INTEGER, \n",
      "\t\"60 to 64 years\" INTEGER, \n",
      "\t\"65 to 74 years\" INTEGER, \n",
      "\t\"75 to 84 years\" INTEGER, \n",
      "\t\"85 years and over\" INTEGER, \n",
      "\t\"Median age (years)\" REAL, \n",
      "\t\"18 years and over\" INTEGER, \n",
      "\t\"21 years and over\" INTEGER, \n",
      "\t\"65 years and over\" INTEGER, \n",
      "\t\"One race\" INTEGER, \n",
      "\t\"Two or more races\" INTEGER, \n",
      "\t\"White\" INTEGER, \n",
      "\t\"Black or African American\" INTEGER, \n",
      "\t\"American Indian and Alaska Native\" INTEGER, \n",
      "\t\"Asian\" INTEGER, \n",
      "\t\"Native Hawaiian and Other Pacific Islander\" INTEGER, \n",
      "\t\"Some other race\" INTEGER, \n",
      "\t\"Hispanic or Latino (of any race)\" INTEGER, \n",
      "\t\"Not Hispanic or Latino\" INTEGER, \n",
      "\t\"Total housing units_x\" INTEGER, \n",
      "\t\"YEAR\" INTEGER, \n",
      "\t\"Total households\" REAL, \n",
      "\t\"Households with one or more people under 18 years\" REAL, \n",
      "\t\"Households with one or more people 65 years and over\" REAL, \n",
      "\t\"Average household size\" REAL, \n",
      "\t\"Males 15 years and over\" REAL, \n",
      "\t\"Never married, Males 15 years and over\" REAL, \n",
      "\t\"Now married, except separated, Males 15 years and over\" REAL, \n",
      "\t\"Separated, Males 15 years and over\" REAL, \n",
      "\t\"Widowed, Males 15 years and over\" REAL, \n",
      "\t\"Divorced, Males 15 years and over\" REAL, \n",
      "\t\"Females 15 years and over\" REAL, \n",
      "\t\"Never married, Females 15 years and over\" REAL, \n",
      "\t\"Now married, except separated, Females 15 years and over\" REAL, \n",
      "\t\"Separated, Females 15 years and over\" REAL, \n",
      "\t\"Widowed, Females 15 years and over\" REAL, \n",
      "\t\"Divorced, Females 15 years and over\" REAL, \n",
      "\t\"Population 3 years and over enrolled in school\" REAL, \n",
      "\t\"Population 25 years and over\" REAL, \n",
      "\t\"Less than 9th grade\" REAL, \n",
      "\t\"9th to 12th grade, no diploma\" REAL, \n",
      "\t\"High school graduate (includes equivalency)\" REAL, \n",
      "\t\"Some college, no degree\" REAL, \n",
      "\t\"Associate's degree\" REAL, \n",
      "\t\"Bachelor's degree\" REAL, \n",
      "\t\"Graduate or professional degree\" REAL, \n",
      "\t\"Native\" REAL, \n",
      "\t\"Foreign born\" REAL, \n",
      "\t\"Language other than English\" REAL, \n",
      "\t\"Population 16 years and over\" INTEGER, \n",
      "\t\"In labor force\" INTEGER, \n",
      "\t\"Civilian labor force\" INTEGER, \n",
      "\t\"Employed\" INTEGER, \n",
      "\t\"Unemployed\" INTEGER, \n",
      "\t\"Armed Forces\" INTEGER, \n",
      "\t\"Not in labor force\" INTEGER, \n",
      "\t\"Civilian employed population 16 years and over\" INTEGER, \n",
      "\t\"Management, business, science, and arts occupations\" INTEGER, \n",
      "\t\"Service occupations\" INTEGER, \n",
      "\t\"Sales and office occupations\" INTEGER, \n",
      "\t\"Natural resources, construction, and maintenance occupations\" INTEGER, \n",
      "\t\"Production, transportation, and material moving occupations\" INTEGER, \n",
      "\t\"Median family income (dollars)\" INTEGER, \n",
      "\t\"Mean family income (dollars)\" INTEGER, \n",
      "\t\"Per capita income (dollars)\" INTEGER, \n",
      "\t\"Civilian noninstitutionalized population\" INTEGER, \n",
      "\t\"With health insurance coverage\" INTEGER, \n",
      "\t\"With private health insurance\" INTEGER, \n",
      "\t\"With public coverage\" INTEGER, \n",
      "\t\"No health insurance coverage\" INTEGER, \n",
      "\t\"Total housing units_y\" INTEGER, \n",
      "\t\"Occupied housing units\" INTEGER, \n",
      "\t\"Vacant housing units\" INTEGER, \n",
      "\t\"Homeowner vacancy rate\" REAL, \n",
      "\t\"Rental vacancy rate\" REAL, \n",
      "\t\"Median rooms\" REAL, \n",
      "\t\"Median (dollars), Value\" INTEGER, \n",
      "\t\"Owner-occupied units\" INTEGER, \n",
      "\t\"Housing units with a mortgage\" INTEGER, \n",
      "\t\"Housing units without a mortgage\" INTEGER, \n",
      "\t\"Median (dollars), Rent\" INTEGER, \n",
      "\t\"No rent paid\" INTEGER\n",
      ")\n",
      "\n",
      "/*\n",
      "3 rows from acs table:\n",
      "Unnamed: 0\tGeography\tGeographic Area Name\tTotal population\tMale\tFemale\tUnder 5 years\t5 to 9 years\t10 to 14 years\t15 to 19 years\t20 to 24 years\t25 to 34 years\t35 to 44 years\t45 to 54 years\t55 to 59 years\t60 to 64 years\t65 to 74 years\t75 to 84 years\t85 years and over\tMedian age (years)\t18 years and over\t21 years and over\t65 years and over\tOne race\tTwo or more races\tWhite\tBlack or African American\tAmerican Indian and Alaska Native\tAsian\tNative Hawaiian and Other Pacific Islander\tSome other race\tHispanic or Latino (of any race)\tNot Hispanic or Latino\tTotal housing units_x\tYEAR\tTotal households\tHouseholds with one or more people under 18 years\tHouseholds with one or more people 65 years and over\tAverage household size\tMales 15 years and over\tNever married, Males 15 years and over\tNow married, except separated, Males 15 years and over\tSeparated, Males 15 years and over\tWidowed, Males 15 years and over\tDivorced, Males 15 years and over\tFemales 15 years and over\tNever married, Females 15 years and over\tNow married, except separated, Females 15 years and over\tSeparated, Females 15 years and over\tWidowed, Females 15 years and over\tDivorced, Females 15 years and over\tPopulation 3 years and over enrolled in school\tPopulation 25 years and over\tLess than 9th grade\t9th to 12th grade, no diploma\tHigh school graduate (includes equivalency)\tSome college, no degree\tAssociate's degree\tBachelor's degree\tGraduate or professional degree\tNative\tForeign born\tLanguage other than English\tPopulation 16 years and over\tIn labor force\tCivilian labor force\tEmployed\tUnemployed\tArmed Forces\tNot in labor force\tCivilian employed population 16 years and over\tManagement, business, science, and arts occupations\tService occupations\tSales and office occupations\tNatural resources, construction, and maintenance occupations\tProduction, transportation, and material moving occupations\tMedian family income (dollars)\tMean family income (dollars)\tPer capita income (dollars)\tCivilian noninstitutionalized population\tWith health insurance coverage\tWith private health insurance\tWith public coverage\tNo health insurance coverage\tTotal housing units_y\tOccupied housing units\tVacant housing units\tHomeowner vacancy rate\tRental vacancy rate\tMedian rooms\tMedian (dollars), Value\tOwner-occupied units\tHousing units with a mortgage\tHousing units without a mortgage\tMedian (dollars), Rent\tNo rent paid\n",
      "0\t0400000US01\tAlabama\t4777326\t2317520\t2459806\t305091\t309360\t318484\t337159\t340808\t607797\t619112\t686672\t310336\t279202\t374441\t211411\t77453\t37.8\t3647097\t3433673\t663305\t4710487\t66839\t3379235\t1285740\t57219\t66512\t2901\t56469\t182268\t4595058\t2172647\t2012\t1837576.0\t597337.0\t475330.0\t2.54\t1841356.0\t584355.0\t957174.0\t39467.0\t52899.0\t207461.0\t2003035.0\t517693.0\t937087.0\t61290.0\t222434.0\t264531.0\t1220805.0\t3166424.0\t187882.0\t363148.0\t991406.0\t691686.0\t227301.0\t448117.0\t256884.0\t4610592.0\t166734.0\t230806.0\t3779457\t2265008\t2248665\t2017887\t230778\t16343\t1514449\t2017887\t643951\t332351\t507206\t218389\t315990\t54326\t70237\t23587\t4693822\t4039446\t3112613\t1524117\t654376\t2172647\t1837576\t335071\t2.5\t9.0\t5.7\t122300\t1289324\t776946\t512378\t691\t63064\n",
      "1\t0400000US01\tAlabama\t4817678\t2336020\t2481658\t299571\t304412\t321104\t327579\t347110\t618482\t610792\t675347\t322017\t292003\t401417\t217634\t80210\t38.2\t3699760\t3491373\t699261\t4741250\t76428\t3393927\t1304167\t58134\t72528\t3737\t65898\t191838\t4625840\t2190638\t2013\t1838683.0\t592093.0\t486161.0\t2.55\t1854423.0\t596005.0\t952726.0\t40229.0\t54972.0\t210491.0\t2016442.0\t530755.0\t932261.0\t61058.0\t222995.0\t269373.0\t1222995.0\t3193338.0\t180671.0\t358529.0\t991730.0\t703243.0\t236473.0\t458393.0\t264299.0\t4631045.0\t168232.0\t235741.0\t3806434\t2259344\t2244093\t2002163\t241930\t15251\t1547090\t2002163\t652201\t335865\t494371\t209494\t310232\t54362\t70661\t23680\t4716915\t4061521\t3093955\t1568842\t655394\t2178116\t1838683\t339433\t2.5\t8.9\t5.7\t122500\t1281604\t762450\t519154\t705\t62178\n",
      "2\t0400000US01\tAlabama\t4799277\t2328592\t2470685\t301925\t306456\t320031\t332287\t345240\t612596\t615375\t681953\t316960\t285880\t387589\t214771\t78214\t38.1\t3675910\t3463812\t680574\t4727132\t72145\t3388895\t1294437\t57376\t69176\t3345\t62114\t188294\t4610983\t2178116\t2014\t1842174.0\t585393.0\t497517.0\t2.55\t1863744.0\t603407.0\t950855.0\t39418.0\t56153.0\t213911.0\t2028847.0\t540860.0\t932449.0\t60148.0\t222066.0\t273324.0\t1215753.0\t3217902.0\t174324.0\t350044.0\t999761.0\t708087.0\t243873.0\t465268.0\t276545.0\t4651201.0\t166477.0\t235709.0\t3828799\t2253005\t2239169\t2010453\t228716\t13836\t1575794\t2010453\t661335\t339569\t489899\t203989\t315661\t54724\t71423\t23936\t4735953\t4095677\t3097222\t1607735\t640276\t2190638\t1842174\t348464\t2.6\t9.0\t5.7\t123800\t1274196\t751234\t522962\t715\t62842\n",
      "*/\n"
     ]
    }
   ],
   "source": [
    "print(get_schema(_))"
   ]
  },
  {
   "cell_type": "code",
   "execution_count": null,
   "metadata": {},
   "outputs": [],
   "source": []
  },
  {
   "cell_type": "code",
   "execution_count": 23,
   "metadata": {},
   "outputs": [
    {
     "name": "stdout",
     "output_type": "stream",
     "text": [
      "7\n"
     ]
    }
   ],
   "source": [
    "openai.api_key = Parameters.openai_api_key\n",
    "\n",
    "def count_tokens(prompt):\n",
    "    response = openai.Completion.create(\n",
    "        engine=\"davinci\",\n",
    "        prompt=prompt,\n",
    "        max_tokens=0,\n",
    "        n=1,\n",
    "        stop=None,\n",
    "        temperature=0.0,\n",
    "        logprobs=0,\n",
    "        echo=True,\n",
    "    )\n",
    "    return len(response.choices[0].text.split())\n",
    "\n",
    "prompt = \"This is a prompt to count tokens.\"\n",
    "print(count_tokens(prompt)) # Output: 6"
   ]
  },
  {
   "cell_type": "code",
   "execution_count": 24,
   "metadata": {},
   "outputs": [
    {
     "ename": "InvalidRequestError",
     "evalue": "This model's maximum context length is 2049 tokens, however you requested 3083 tokens (3083 in your prompt; 0 for the completion). Please reduce your prompt; or completion length.",
     "output_type": "error",
     "traceback": [
      "\u001b[0;31m---------------------------------------------------------------------------\u001b[0m",
      "\u001b[0;31mInvalidRequestError\u001b[0m                       Traceback (most recent call last)",
      "Cell \u001b[0;32mIn[24], line 2\u001b[0m\n\u001b[1;32m      1\u001b[0m prompt \u001b[38;5;241m=\u001b[39m get_schema(_)\n\u001b[0;32m----> 2\u001b[0m \u001b[38;5;28mprint\u001b[39m(\u001b[43mcount_tokens\u001b[49m\u001b[43m(\u001b[49m\u001b[43mprompt\u001b[49m\u001b[43m)\u001b[49m)\n",
      "Cell \u001b[0;32mIn[23], line 4\u001b[0m, in \u001b[0;36mcount_tokens\u001b[0;34m(prompt)\u001b[0m\n\u001b[1;32m      3\u001b[0m \u001b[38;5;28;01mdef\u001b[39;00m \u001b[38;5;21mcount_tokens\u001b[39m(prompt):\n\u001b[0;32m----> 4\u001b[0m     response \u001b[38;5;241m=\u001b[39m \u001b[43mopenai\u001b[49m\u001b[38;5;241;43m.\u001b[39;49m\u001b[43mCompletion\u001b[49m\u001b[38;5;241;43m.\u001b[39;49m\u001b[43mcreate\u001b[49m\u001b[43m(\u001b[49m\n\u001b[1;32m      5\u001b[0m \u001b[43m        \u001b[49m\u001b[43mengine\u001b[49m\u001b[38;5;241;43m=\u001b[39;49m\u001b[38;5;124;43m\"\u001b[39;49m\u001b[38;5;124;43mdavinci\u001b[39;49m\u001b[38;5;124;43m\"\u001b[39;49m\u001b[43m,\u001b[49m\n\u001b[1;32m      6\u001b[0m \u001b[43m        \u001b[49m\u001b[43mprompt\u001b[49m\u001b[38;5;241;43m=\u001b[39;49m\u001b[43mprompt\u001b[49m\u001b[43m,\u001b[49m\n\u001b[1;32m      7\u001b[0m \u001b[43m        \u001b[49m\u001b[43mmax_tokens\u001b[49m\u001b[38;5;241;43m=\u001b[39;49m\u001b[38;5;241;43m0\u001b[39;49m\u001b[43m,\u001b[49m\n\u001b[1;32m      8\u001b[0m \u001b[43m        \u001b[49m\u001b[43mn\u001b[49m\u001b[38;5;241;43m=\u001b[39;49m\u001b[38;5;241;43m1\u001b[39;49m\u001b[43m,\u001b[49m\n\u001b[1;32m      9\u001b[0m \u001b[43m        \u001b[49m\u001b[43mstop\u001b[49m\u001b[38;5;241;43m=\u001b[39;49m\u001b[38;5;28;43;01mNone\u001b[39;49;00m\u001b[43m,\u001b[49m\n\u001b[1;32m     10\u001b[0m \u001b[43m        \u001b[49m\u001b[43mtemperature\u001b[49m\u001b[38;5;241;43m=\u001b[39;49m\u001b[38;5;241;43m0.0\u001b[39;49m\u001b[43m,\u001b[49m\n\u001b[1;32m     11\u001b[0m \u001b[43m        \u001b[49m\u001b[43mlogprobs\u001b[49m\u001b[38;5;241;43m=\u001b[39;49m\u001b[38;5;241;43m0\u001b[39;49m\u001b[43m,\u001b[49m\n\u001b[1;32m     12\u001b[0m \u001b[43m        \u001b[49m\u001b[43mecho\u001b[49m\u001b[38;5;241;43m=\u001b[39;49m\u001b[38;5;28;43;01mTrue\u001b[39;49;00m\u001b[43m,\u001b[49m\n\u001b[1;32m     13\u001b[0m \u001b[43m    \u001b[49m\u001b[43m)\u001b[49m\n\u001b[1;32m     14\u001b[0m     \u001b[38;5;28;01mreturn\u001b[39;00m \u001b[38;5;28mlen\u001b[39m(response\u001b[38;5;241m.\u001b[39mchoices[\u001b[38;5;241m0\u001b[39m]\u001b[38;5;241m.\u001b[39mtext\u001b[38;5;241m.\u001b[39msplit())\n",
      "File \u001b[0;32m~/python/GenAI_Insights/.venv/lib/python3.10/site-packages/openai/api_resources/completion.py:25\u001b[0m, in \u001b[0;36mCompletion.create\u001b[0;34m(cls, *args, **kwargs)\u001b[0m\n\u001b[1;32m     23\u001b[0m \u001b[38;5;28;01mwhile\u001b[39;00m \u001b[38;5;28;01mTrue\u001b[39;00m:\n\u001b[1;32m     24\u001b[0m     \u001b[38;5;28;01mtry\u001b[39;00m:\n\u001b[0;32m---> 25\u001b[0m         \u001b[38;5;28;01mreturn\u001b[39;00m \u001b[38;5;28;43msuper\u001b[39;49m\u001b[43m(\u001b[49m\u001b[43m)\u001b[49m\u001b[38;5;241;43m.\u001b[39;49m\u001b[43mcreate\u001b[49m\u001b[43m(\u001b[49m\u001b[38;5;241;43m*\u001b[39;49m\u001b[43margs\u001b[49m\u001b[43m,\u001b[49m\u001b[43m \u001b[49m\u001b[38;5;241;43m*\u001b[39;49m\u001b[38;5;241;43m*\u001b[39;49m\u001b[43mkwargs\u001b[49m\u001b[43m)\u001b[49m\n\u001b[1;32m     26\u001b[0m     \u001b[38;5;28;01mexcept\u001b[39;00m TryAgain \u001b[38;5;28;01mas\u001b[39;00m e:\n\u001b[1;32m     27\u001b[0m         \u001b[38;5;28;01mif\u001b[39;00m timeout \u001b[38;5;129;01mis\u001b[39;00m \u001b[38;5;129;01mnot\u001b[39;00m \u001b[38;5;28;01mNone\u001b[39;00m \u001b[38;5;129;01mand\u001b[39;00m time\u001b[38;5;241m.\u001b[39mtime() \u001b[38;5;241m>\u001b[39m start \u001b[38;5;241m+\u001b[39m timeout:\n",
      "File \u001b[0;32m~/python/GenAI_Insights/.venv/lib/python3.10/site-packages/openai/api_resources/abstract/engine_api_resource.py:153\u001b[0m, in \u001b[0;36mEngineAPIResource.create\u001b[0;34m(cls, api_key, api_base, api_type, request_id, api_version, organization, **params)\u001b[0m\n\u001b[1;32m    127\u001b[0m \u001b[38;5;129m@classmethod\u001b[39m\n\u001b[1;32m    128\u001b[0m \u001b[38;5;28;01mdef\u001b[39;00m \u001b[38;5;21mcreate\u001b[39m(\n\u001b[1;32m    129\u001b[0m     \u001b[38;5;28mcls\u001b[39m,\n\u001b[0;32m   (...)\u001b[0m\n\u001b[1;32m    136\u001b[0m     \u001b[38;5;241m*\u001b[39m\u001b[38;5;241m*\u001b[39mparams,\n\u001b[1;32m    137\u001b[0m ):\n\u001b[1;32m    138\u001b[0m     (\n\u001b[1;32m    139\u001b[0m         deployment_id,\n\u001b[1;32m    140\u001b[0m         engine,\n\u001b[0;32m   (...)\u001b[0m\n\u001b[1;32m    150\u001b[0m         api_key, api_base, api_type, api_version, organization, \u001b[38;5;241m*\u001b[39m\u001b[38;5;241m*\u001b[39mparams\n\u001b[1;32m    151\u001b[0m     )\n\u001b[0;32m--> 153\u001b[0m     response, _, api_key \u001b[38;5;241m=\u001b[39m \u001b[43mrequestor\u001b[49m\u001b[38;5;241;43m.\u001b[39;49m\u001b[43mrequest\u001b[49m\u001b[43m(\u001b[49m\n\u001b[1;32m    154\u001b[0m \u001b[43m        \u001b[49m\u001b[38;5;124;43m\"\u001b[39;49m\u001b[38;5;124;43mpost\u001b[39;49m\u001b[38;5;124;43m\"\u001b[39;49m\u001b[43m,\u001b[49m\n\u001b[1;32m    155\u001b[0m \u001b[43m        \u001b[49m\u001b[43murl\u001b[49m\u001b[43m,\u001b[49m\n\u001b[1;32m    156\u001b[0m \u001b[43m        \u001b[49m\u001b[43mparams\u001b[49m\u001b[38;5;241;43m=\u001b[39;49m\u001b[43mparams\u001b[49m\u001b[43m,\u001b[49m\n\u001b[1;32m    157\u001b[0m \u001b[43m        \u001b[49m\u001b[43mheaders\u001b[49m\u001b[38;5;241;43m=\u001b[39;49m\u001b[43mheaders\u001b[49m\u001b[43m,\u001b[49m\n\u001b[1;32m    158\u001b[0m \u001b[43m        \u001b[49m\u001b[43mstream\u001b[49m\u001b[38;5;241;43m=\u001b[39;49m\u001b[43mstream\u001b[49m\u001b[43m,\u001b[49m\n\u001b[1;32m    159\u001b[0m \u001b[43m        \u001b[49m\u001b[43mrequest_id\u001b[49m\u001b[38;5;241;43m=\u001b[39;49m\u001b[43mrequest_id\u001b[49m\u001b[43m,\u001b[49m\n\u001b[1;32m    160\u001b[0m \u001b[43m        \u001b[49m\u001b[43mrequest_timeout\u001b[49m\u001b[38;5;241;43m=\u001b[39;49m\u001b[43mrequest_timeout\u001b[49m\u001b[43m,\u001b[49m\n\u001b[1;32m    161\u001b[0m \u001b[43m    \u001b[49m\u001b[43m)\u001b[49m\n\u001b[1;32m    163\u001b[0m     \u001b[38;5;28;01mif\u001b[39;00m stream:\n\u001b[1;32m    164\u001b[0m         \u001b[38;5;66;03m# must be an iterator\u001b[39;00m\n\u001b[1;32m    165\u001b[0m         \u001b[38;5;28;01massert\u001b[39;00m \u001b[38;5;129;01mnot\u001b[39;00m \u001b[38;5;28misinstance\u001b[39m(response, OpenAIResponse)\n",
      "File \u001b[0;32m~/python/GenAI_Insights/.venv/lib/python3.10/site-packages/openai/api_requestor.py:298\u001b[0m, in \u001b[0;36mAPIRequestor.request\u001b[0;34m(self, method, url, params, headers, files, stream, request_id, request_timeout)\u001b[0m\n\u001b[1;32m    277\u001b[0m \u001b[38;5;28;01mdef\u001b[39;00m \u001b[38;5;21mrequest\u001b[39m(\n\u001b[1;32m    278\u001b[0m     \u001b[38;5;28mself\u001b[39m,\n\u001b[1;32m    279\u001b[0m     method,\n\u001b[0;32m   (...)\u001b[0m\n\u001b[1;32m    286\u001b[0m     request_timeout: Optional[Union[\u001b[38;5;28mfloat\u001b[39m, Tuple[\u001b[38;5;28mfloat\u001b[39m, \u001b[38;5;28mfloat\u001b[39m]]] \u001b[38;5;241m=\u001b[39m \u001b[38;5;28;01mNone\u001b[39;00m,\n\u001b[1;32m    287\u001b[0m ) \u001b[38;5;241m-\u001b[39m\u001b[38;5;241m>\u001b[39m Tuple[Union[OpenAIResponse, Iterator[OpenAIResponse]], \u001b[38;5;28mbool\u001b[39m, \u001b[38;5;28mstr\u001b[39m]:\n\u001b[1;32m    288\u001b[0m     result \u001b[38;5;241m=\u001b[39m \u001b[38;5;28mself\u001b[39m\u001b[38;5;241m.\u001b[39mrequest_raw(\n\u001b[1;32m    289\u001b[0m         method\u001b[38;5;241m.\u001b[39mlower(),\n\u001b[1;32m    290\u001b[0m         url,\n\u001b[0;32m   (...)\u001b[0m\n\u001b[1;32m    296\u001b[0m         request_timeout\u001b[38;5;241m=\u001b[39mrequest_timeout,\n\u001b[1;32m    297\u001b[0m     )\n\u001b[0;32m--> 298\u001b[0m     resp, got_stream \u001b[38;5;241m=\u001b[39m \u001b[38;5;28;43mself\u001b[39;49m\u001b[38;5;241;43m.\u001b[39;49m\u001b[43m_interpret_response\u001b[49m\u001b[43m(\u001b[49m\u001b[43mresult\u001b[49m\u001b[43m,\u001b[49m\u001b[43m \u001b[49m\u001b[43mstream\u001b[49m\u001b[43m)\u001b[49m\n\u001b[1;32m    299\u001b[0m     \u001b[38;5;28;01mreturn\u001b[39;00m resp, got_stream, \u001b[38;5;28mself\u001b[39m\u001b[38;5;241m.\u001b[39mapi_key\n",
      "File \u001b[0;32m~/python/GenAI_Insights/.venv/lib/python3.10/site-packages/openai/api_requestor.py:700\u001b[0m, in \u001b[0;36mAPIRequestor._interpret_response\u001b[0;34m(self, result, stream)\u001b[0m\n\u001b[1;32m    692\u001b[0m     \u001b[38;5;28;01mreturn\u001b[39;00m (\n\u001b[1;32m    693\u001b[0m         \u001b[38;5;28mself\u001b[39m\u001b[38;5;241m.\u001b[39m_interpret_response_line(\n\u001b[1;32m    694\u001b[0m             line, result\u001b[38;5;241m.\u001b[39mstatus_code, result\u001b[38;5;241m.\u001b[39mheaders, stream\u001b[38;5;241m=\u001b[39m\u001b[38;5;28;01mTrue\u001b[39;00m\n\u001b[1;32m    695\u001b[0m         )\n\u001b[1;32m    696\u001b[0m         \u001b[38;5;28;01mfor\u001b[39;00m line \u001b[38;5;129;01min\u001b[39;00m parse_stream(result\u001b[38;5;241m.\u001b[39miter_lines())\n\u001b[1;32m    697\u001b[0m     ), \u001b[38;5;28;01mTrue\u001b[39;00m\n\u001b[1;32m    698\u001b[0m \u001b[38;5;28;01melse\u001b[39;00m:\n\u001b[1;32m    699\u001b[0m     \u001b[38;5;28;01mreturn\u001b[39;00m (\n\u001b[0;32m--> 700\u001b[0m         \u001b[38;5;28;43mself\u001b[39;49m\u001b[38;5;241;43m.\u001b[39;49m\u001b[43m_interpret_response_line\u001b[49m\u001b[43m(\u001b[49m\n\u001b[1;32m    701\u001b[0m \u001b[43m            \u001b[49m\u001b[43mresult\u001b[49m\u001b[38;5;241;43m.\u001b[39;49m\u001b[43mcontent\u001b[49m\u001b[38;5;241;43m.\u001b[39;49m\u001b[43mdecode\u001b[49m\u001b[43m(\u001b[49m\u001b[38;5;124;43m\"\u001b[39;49m\u001b[38;5;124;43mutf-8\u001b[39;49m\u001b[38;5;124;43m\"\u001b[39;49m\u001b[43m)\u001b[49m\u001b[43m,\u001b[49m\n\u001b[1;32m    702\u001b[0m \u001b[43m            \u001b[49m\u001b[43mresult\u001b[49m\u001b[38;5;241;43m.\u001b[39;49m\u001b[43mstatus_code\u001b[49m\u001b[43m,\u001b[49m\n\u001b[1;32m    703\u001b[0m \u001b[43m            \u001b[49m\u001b[43mresult\u001b[49m\u001b[38;5;241;43m.\u001b[39;49m\u001b[43mheaders\u001b[49m\u001b[43m,\u001b[49m\n\u001b[1;32m    704\u001b[0m \u001b[43m            \u001b[49m\u001b[43mstream\u001b[49m\u001b[38;5;241;43m=\u001b[39;49m\u001b[38;5;28;43;01mFalse\u001b[39;49;00m\u001b[43m,\u001b[49m\n\u001b[1;32m    705\u001b[0m \u001b[43m        \u001b[49m\u001b[43m)\u001b[49m,\n\u001b[1;32m    706\u001b[0m         \u001b[38;5;28;01mFalse\u001b[39;00m,\n\u001b[1;32m    707\u001b[0m     )\n",
      "File \u001b[0;32m~/python/GenAI_Insights/.venv/lib/python3.10/site-packages/openai/api_requestor.py:765\u001b[0m, in \u001b[0;36mAPIRequestor._interpret_response_line\u001b[0;34m(self, rbody, rcode, rheaders, stream)\u001b[0m\n\u001b[1;32m    763\u001b[0m stream_error \u001b[38;5;241m=\u001b[39m stream \u001b[38;5;129;01mand\u001b[39;00m \u001b[38;5;124m\"\u001b[39m\u001b[38;5;124merror\u001b[39m\u001b[38;5;124m\"\u001b[39m \u001b[38;5;129;01min\u001b[39;00m resp\u001b[38;5;241m.\u001b[39mdata\n\u001b[1;32m    764\u001b[0m \u001b[38;5;28;01mif\u001b[39;00m stream_error \u001b[38;5;129;01mor\u001b[39;00m \u001b[38;5;129;01mnot\u001b[39;00m \u001b[38;5;241m200\u001b[39m \u001b[38;5;241m<\u001b[39m\u001b[38;5;241m=\u001b[39m rcode \u001b[38;5;241m<\u001b[39m \u001b[38;5;241m300\u001b[39m:\n\u001b[0;32m--> 765\u001b[0m     \u001b[38;5;28;01mraise\u001b[39;00m \u001b[38;5;28mself\u001b[39m\u001b[38;5;241m.\u001b[39mhandle_error_response(\n\u001b[1;32m    766\u001b[0m         rbody, rcode, resp\u001b[38;5;241m.\u001b[39mdata, rheaders, stream_error\u001b[38;5;241m=\u001b[39mstream_error\n\u001b[1;32m    767\u001b[0m     )\n\u001b[1;32m    768\u001b[0m \u001b[38;5;28;01mreturn\u001b[39;00m resp\n",
      "\u001b[0;31mInvalidRequestError\u001b[0m: This model's maximum context length is 2049 tokens, however you requested 3083 tokens (3083 in your prompt; 0 for the completion). Please reduce your prompt; or completion length."
     ]
    }
   ],
   "source": [
    "prompt = get_schema(_)\n",
    "print(count_tokens(prompt))"
   ]
  },
  {
   "cell_type": "code",
   "execution_count": null,
   "metadata": {},
   "outputs": [],
   "source": []
  },
  {
   "cell_type": "code",
   "execution_count": null,
   "metadata": {},
   "outputs": [],
   "source": []
  },
  {
   "cell_type": "code",
   "execution_count": 25,
   "metadata": {},
   "outputs": [
    {
     "name": "stdout",
     "output_type": "stream",
     "text": [
      "Type 'exit' to quit\n",
      "\n",
      "\n",
      "\u001b[1m> Entering new SQLDatabaseChain chain...\u001b[0m\n",
      "\n",
      "Given an input question, first create a syntactically correct SQLite query to run, then look at the results of the query and return the answer.\n",
      "Use the following format:\n",
      "\n",
      "Question: Question here\n",
      "SQLQuery: SQL Query to run\n",
      "SQLResult: Result of the SQLQuery\n",
      "Answer: Final answer here\n",
      "\n",
      "How many none year olds are in Kentucky in 2020\n",
      "\n",
      "SQLQuery:\u001b[32;1m\u001b[1;3mSELECT \"Geographic Area Name\", \"Under 5 years\"\n",
      "FROM acs\n",
      "WHERE \"Geographic Area Name\" = \"Kentucky\" AND YEAR = 2020\n",
      "LIMIT 1\u001b[0m\n",
      "SQLResult: \u001b[33;1m\u001b[1;3m[('Kentucky', 273575)]\u001b[0m\n",
      "Answer:\u001b[32;1m\u001b[1;3m273,575 none year olds are in Kentucky in 2020.\u001b[0m\n",
      "\u001b[1m> Finished chain.\u001b[0m\n",
      "273,575 none year olds are in Kentucky in 2020.\n",
      "Exiting...\n"
     ]
    }
   ],
   "source": [
    "\n",
    "# setup llm\n",
    "llm = ChatOpenAI()  # OpenAI(temperature=0, openai_api_key=Parameters.openai_api_key)\n",
    "\n",
    "dburi = \"sqlite:///Data/acs.sqlite3\"\n",
    "db = SQLDatabase.from_uri(dburi)\n",
    "\n",
    "# Create db chain\n",
    "QUERY = \"\"\"\n",
    "Given an input question, first create a syntactically correct SQLite query to run, then look at the results of the query and return the answer.\n",
    "Use the following format:\n",
    "\n",
    "Question: Question here\n",
    "SQLQuery: SQL Query to run\n",
    "SQLResult: Result of the SQLQuery\n",
    "Answer: Final answer here\n",
    "\n",
    "{question}\n",
    "\"\"\"\n",
    "\n",
    "# Setup the database chain\n",
    "db_chain = SQLDatabaseChain.from_llm(llm=llm, db=db, verbose=True)\n",
    "\n",
    "\n",
    "def get_prompt():\n",
    "    print(\"Type 'exit' to quit\")\n",
    "\n",
    "    while True:\n",
    "        prompt = input(\"Enter a prompt: \")\n",
    "\n",
    "        if prompt.lower() == 'exit':\n",
    "            print('Exiting...')\n",
    "            break\n",
    "        else:\n",
    "            try:\n",
    "                question = QUERY.format(question=prompt)\n",
    "                print(db_chain.run(question))\n",
    "            except Exception as e:\n",
    "                print(e)\n",
    "\n",
    "get_prompt()"
   ]
  },
  {
   "cell_type": "code",
   "execution_count": null,
   "metadata": {},
   "outputs": [],
   "source": [
    "input(\"Enter a prompt: \")"
   ]
  },
  {
   "cell_type": "code",
   "execution_count": null,
   "metadata": {},
   "outputs": [],
   "source": []
  },
  {
   "cell_type": "code",
   "execution_count": null,
   "metadata": {},
   "outputs": [],
   "source": []
  }
 ],
 "metadata": {
  "kernelspec": {
   "display_name": ".venv",
   "language": "python",
   "name": "python3"
  },
  "language_info": {
   "codemirror_mode": {
    "name": "ipython",
    "version": 3
   },
   "file_extension": ".py",
   "mimetype": "text/x-python",
   "name": "python",
   "nbconvert_exporter": "python",
   "pygments_lexer": "ipython3",
   "version": "3.10.12"
  },
  "orig_nbformat": 4
 },
 "nbformat": 4,
 "nbformat_minor": 2
}
