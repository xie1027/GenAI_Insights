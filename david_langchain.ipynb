{
 "cells": [
  {
   "cell_type": "raw",
   "metadata": {},
   "source": [
    ".env contains\n",
    "OPENAI_API_KEY=<your key without quotes>"
   ]
  },
  {
   "cell_type": "code",
   "execution_count": null,
   "metadata": {},
   "outputs": [],
   "source": [
    "import os\n",
    "import ast\n",
    "import sqlite3\n",
    "import openai\n",
    "import pandas as pd\n",
    "from pathlib import Path, PosixPath\n",
    "from typing import NamedTuple\n",
    "from langchain import OpenAI, SQLDatabase, PromptTemplate, LLMChain\n",
    "from langchain.chat_models import ChatOpenAI\n",
    "from langchain.llms import OpenAI\n",
    "from langchain.prompts import ChatPromptTemplate\n",
    "from langchain.schema.output_parser import StrOutputParser\n",
    "from langchain.schema.runnable import RunnablePassthrough  # Try without .passthrough\n",
    "from langchain_experimental.sql import SQLDatabaseChain\n",
    "# from langchain.utilities import SQLDatabase"
   ]
  },
  {
   "cell_type": "code",
   "execution_count": null,
   "metadata": {},
   "outputs": [],
   "source": [
    "# NamedTuple type hint\n",
    "class ParametersType(NamedTuple):\n",
    "    data_dir: PosixPath # Platform neutral pathlib PosixPath to data directory\n",
    "    acs_path: PosixPath # Platform neutral pathlib PosixPath to ACS data\n",
    "    db_path: PosixPath # Platform neutral pathlib PosixPath to SQLite3 database\n",
    "    db_connection: sqlite3.Connection # SQLite3 database connection\n",
    "    openai_api_key: str # OpenAI API key"
   ]
  },
  {
   "cell_type": "code",
   "execution_count": null,
   "metadata": {},
   "outputs": [],
   "source": [
    "Parameters: ParametersType = ParametersType(\n",
    "    data_dir = Path.cwd() / \"Data\",\n",
    "    acs_path = Path.cwd() / \"Data/ACS_2012_21.csv\",\n",
    "    db_path= Path.cwd() / \"Data/data.sqlite3\",\n",
    "    db_connection = sqlite3.connect(Path.cwd() / \"Data/data.sqlite3\"),  # \":memory:\", \"Data/data.sqlite3\", \"Data/acs.sqlite3\"\n",
    "    openai_api_key = os.environ[\"OPENAI_API_KEY\"],\n",
    ")"
   ]
  },
  {
   "cell_type": "markdown",
   "metadata": {},
   "source": [
    "# List all tables in SQLite database"
   ]
  },
  {
   "cell_type": "code",
   "execution_count": null,
   "metadata": {},
   "outputs": [],
   "source": [
    "cursor = Parameters.db_connection.cursor()\n",
    "cursor.execute(\"SELECT name FROM sqlite_master WHERE type='table';\")\n",
    "tables: list[tuple] = cursor.fetchall()\n",
    "tables"
   ]
  },
  {
   "cell_type": "markdown",
   "metadata": {},
   "source": [
    "# ACS Data"
   ]
  },
  {
   "cell_type": "code",
   "execution_count": null,
   "metadata": {},
   "outputs": [],
   "source": [
    "acs_df: pd.DataFrame = pd.read_csv(Parameters.acs_path)\n",
    "acs_df.drop(columns=[\"Unnamed: 0\"], inplace=True)\n",
    "display(acs_df.info())\n",
    "display(acs_df.head())"
   ]
  },
  {
   "cell_type": "markdown",
   "metadata": {},
   "source": [
    "# Test OpenAI API Key"
   ]
  },
  {
   "cell_type": "code",
   "execution_count": null,
   "metadata": {},
   "outputs": [],
   "source": [
    "\"\"\"\n",
    "Please provide python code to ask openai a question and retrieve the answer\n",
    "\n",
    "To ask OpenAI a question and retrieve the answer, you can use the OpenAI API.\n",
    "Here's an example Python code that demonstrates how to do this using the openai package:\n",
    "\n",
    "In this example, you need to replace \"YOUR_API_KEY\" with your actual API key,\n",
    "which you can obtain by signing up for OpenAI's API at https://beta.openai.com/signup/.\n",
    "\n",
    "The ask_openai function takes three parameters: the question you want to ask,\n",
    "the name of the OpenAI model you want to use (e.g., \"davinci\" or \"curie\"),\n",
    "and the max_length of the generated answer (in number of tokens).\n",
    "\n",
    "The function sends a request to the OpenAI API using the openai.Completion.create method,\n",
    "which takes the engine, prompt, and max_tokens as parameters. The response is a list of\n",
    "completions (i.e., possible answers), and we take the first one (which is usually the most likely answer)\n",
    "and return it as a string.\n",
    "\"\"\"\n",
    "\n",
    "openai.api_key = Parameters.openai_api_key # \"YOUR_API_KEY\" # replace with your API key\n",
    "\n",
    "def ask_openai(question, model, max_length):\n",
    "    prompt = f\"Q: {question}\\nA:\"\n",
    "    completions = openai.Completion.create(\n",
    "        engine=model,\n",
    "        prompt=prompt,\n",
    "        max_tokens=max_length\n",
    "    )\n",
    "    answer = completions.choices[0].text.strip()\n",
    "    return answer\n",
    "\n",
    "# Example usage\n",
    "question = \"What is the capital of France?\"\n",
    "model = \"davinci\"\n",
    "max_length = 100\n",
    "answer = ask_openai(question, model, max_length)\n",
    "print(answer)"
   ]
  },
  {
   "cell_type": "markdown",
   "metadata": {},
   "source": [
    "# [LangChain](https://pypi.org/project/langchain/)\n",
    "https://coinsbench.com/chat-with-your-databases-using-langchain-bb7d31ed2e76  \n",
    "https://medium.com/@hannanmentor/python-custom-chatgpt-with-your-own-data-f307635dd5bd  "
   ]
  },
  {
   "cell_type": "code",
   "execution_count": null,
   "metadata": {},
   "outputs": [],
   "source": []
  },
  {
   "cell_type": "markdown",
   "metadata": {},
   "source": [
    "## Check that LangChain works"
   ]
  },
  {
   "cell_type": "code",
   "execution_count": null,
   "metadata": {},
   "outputs": [],
   "source": [
    "# Simple LLM call Using LangChain\n",
    "llm = OpenAI(model_name=\"text-davinci-003\", openai_api_key=Parameters.openai_api_key)\n",
    "question = \"Which language is used to create chatgpt ?\"\n",
    "print(question, llm(question))"
   ]
  },
  {
   "cell_type": "markdown",
   "metadata": {},
   "source": [
    "## Prompt template"
   ]
  },
  {
   "cell_type": "code",
   "execution_count": null,
   "metadata": {},
   "outputs": [],
   "source": [
    "# Creating a prompt template and running the LLM chain\n",
    "template = \"What are the top {n} resources to learn {language} programming?\"\n",
    "prompt = PromptTemplate(template=template,input_variables=['n','language'])\n",
    "chain = LLMChain(llm=llm,prompt=prompt)\n",
    "input_ = {'n':3,'language':'Python'}\n",
    "print(chain.run(input_))"
   ]
  },
  {
   "cell_type": "code",
   "execution_count": null,
   "metadata": {},
   "outputs": [],
   "source": [
    "type(prompt)"
   ]
  },
  {
   "cell_type": "code",
   "execution_count": null,
   "metadata": {},
   "outputs": [],
   "source": [
    "# SQLDatabase.create_table_from_df(df=acs_df, table_name=\"acs\", db_connection=Parameters.db_connection)  # Create table from dataframe"
   ]
  },
  {
   "cell_type": "code",
   "execution_count": null,
   "metadata": {},
   "outputs": [],
   "source": [
    "# Use LangChain to answers quetions using a SQLite3 database\n",
    "llm = OpenAI(model_name=\"text-davinci-003\", openai_api_key=Parameters.openai_api_key)\n",
    "dburi = \"sqlite:///Data/acs.sqlite3\"\n",
    "db = SQLDatabase.from_uri(dburi)\n",
    "question = \"What is the population of Kentucky?\"\n",
    "print(question, llm(question,db))"
   ]
  },
  {
   "cell_type": "code",
   "execution_count": null,
   "metadata": {},
   "outputs": [],
   "source": []
  },
  {
   "cell_type": "raw",
   "metadata": {},
   "source": [
    "https://python.langchain.com/docs/expression_language/cookbook/sql_db"
   ]
  },
  {
   "cell_type": "code",
   "execution_count": null,
   "metadata": {},
   "outputs": [],
   "source": [
    "template = \"\"\"Based on the table schema below, write a SQL query that would answer the user's question:\n",
    "{schema}\n",
    "\n",
    "Question: {question}\n",
    "SQL Query:\"\"\"\n",
    "prompt = ChatPromptTemplate.from_template(template)"
   ]
  },
  {
   "cell_type": "code",
   "execution_count": null,
   "metadata": {},
   "outputs": [],
   "source": [
    "type(prompt)"
   ]
  },
  {
   "cell_type": "code",
   "execution_count": null,
   "metadata": {},
   "outputs": [],
   "source": [
    "print(prompt)"
   ]
  },
  {
   "cell_type": "code",
   "execution_count": null,
   "metadata": {},
   "outputs": [],
   "source": []
  },
  {
   "cell_type": "code",
   "execution_count": null,
   "metadata": {},
   "outputs": [],
   "source": [
    "# db = SQLDatabase.from_uri(\"sqlite:///Data/data.sqlite3\")\n",
    "db = SQLDatabase.from_uri(\"sqlite:///Data/acs.sqlite3\")"
   ]
  },
  {
   "cell_type": "code",
   "execution_count": null,
   "metadata": {},
   "outputs": [],
   "source": [
    "result = db.run(\"SELECT * FROM acs LIMIT 5\")\n",
    "result"
   ]
  },
  {
   "cell_type": "code",
   "execution_count": null,
   "metadata": {},
   "outputs": [],
   "source": []
  },
  {
   "cell_type": "code",
   "execution_count": null,
   "metadata": {},
   "outputs": [],
   "source": [
    "result: list[tuple] = ast.literal_eval(db.run(\"SELECT * FROM acs LIMIT 5\"))\n",
    "print(result)"
   ]
  },
  {
   "cell_type": "code",
   "execution_count": null,
   "metadata": {},
   "outputs": [],
   "source": []
  },
  {
   "cell_type": "code",
   "execution_count": null,
   "metadata": {},
   "outputs": [],
   "source": []
  },
  {
   "cell_type": "code",
   "execution_count": null,
   "metadata": {},
   "outputs": [],
   "source": []
  },
  {
   "cell_type": "code",
   "execution_count": null,
   "metadata": {},
   "outputs": [],
   "source": [
    "def get_schema(_):\n",
    "    return db.get_table_info()"
   ]
  },
  {
   "cell_type": "code",
   "execution_count": null,
   "metadata": {},
   "outputs": [],
   "source": [
    "def run_query(query):\n",
    "    return db.run(query)"
   ]
  },
  {
   "cell_type": "code",
   "execution_count": null,
   "metadata": {},
   "outputs": [],
   "source": []
  },
  {
   "cell_type": "code",
   "execution_count": null,
   "metadata": {},
   "outputs": [],
   "source": [
    "model = ChatOpenAI()\n",
    "\n",
    "sql_response = (\n",
    "    RunnablePassthrough.assign(schema=get_schema)\n",
    "    | prompt\n",
    "    | model.bind(stop=[\"\\nSQLResult:\"])\n",
    "    | StrOutputParser()\n",
    ")"
   ]
  },
  {
   "cell_type": "code",
   "execution_count": null,
   "metadata": {},
   "outputs": [],
   "source": [
    "sql_response.invoke({\"question\": \"How many geographic areas are in the acs table?\"})"
   ]
  },
  {
   "cell_type": "code",
   "execution_count": null,
   "metadata": {},
   "outputs": [],
   "source": [
    "print(get_schema(_))"
   ]
  },
  {
   "cell_type": "code",
   "execution_count": null,
   "metadata": {},
   "outputs": [],
   "source": [
    "type(sql_response)"
   ]
  },
  {
   "cell_type": "code",
   "execution_count": null,
   "metadata": {},
   "outputs": [],
   "source": [
    "sql_response"
   ]
  },
  {
   "cell_type": "code",
   "execution_count": null,
   "metadata": {},
   "outputs": [],
   "source": []
  },
  {
   "cell_type": "code",
   "execution_count": null,
   "metadata": {},
   "outputs": [],
   "source": []
  },
  {
   "cell_type": "code",
   "execution_count": null,
   "metadata": {},
   "outputs": [],
   "source": []
  },
  {
   "cell_type": "code",
   "execution_count": null,
   "metadata": {},
   "outputs": [],
   "source": []
  },
  {
   "cell_type": "code",
   "execution_count": null,
   "metadata": {},
   "outputs": [],
   "source": [
    "openai.api_key = Parameters.openai_api_key\n",
    "\n",
    "def count_tokens(prompt):\n",
    "    response = openai.Completion.create(\n",
    "        engine=\"davinci\",\n",
    "        prompt=prompt,\n",
    "        max_tokens=0,\n",
    "        n=1,\n",
    "        stop=None,\n",
    "        temperature=0.0,\n",
    "        logprobs=0,\n",
    "        echo=True,\n",
    "    )\n",
    "    return len(response.choices[0].text.split())\n",
    "\n",
    "prompt = \"This is a prompt to count tokens.\"\n",
    "print(count_tokens(prompt)) # Output: 6"
   ]
  },
  {
   "cell_type": "code",
   "execution_count": null,
   "metadata": {},
   "outputs": [],
   "source": [
    "prompt = get_schema(_)\n",
    "print(count_tokens(prompt))"
   ]
  },
  {
   "cell_type": "code",
   "execution_count": null,
   "metadata": {},
   "outputs": [],
   "source": []
  },
  {
   "cell_type": "code",
   "execution_count": null,
   "metadata": {},
   "outputs": [],
   "source": []
  },
  {
   "cell_type": "code",
   "execution_count": null,
   "metadata": {},
   "outputs": [],
   "source": [
    "\n",
    "# setup llm\n",
    "llm = ChatOpenAI()  # OpenAI(temperature=0, openai_api_key=Parameters.openai_api_key)\n",
    "\n",
    "dburi = \"sqlite:///Data/acs.sqlite3\"\n",
    "db = SQLDatabase.from_uri(dburi)\n",
    "\n",
    "# Create db chain\n",
    "QUERY = \"\"\"\n",
    "Given an input question: first create a syntactically correct SQLite query to run, then look at the results of the query and return the answer.\n",
    "\n",
    "Use the following format:\n",
    "Question: Question here\n",
    "SQLQuery: SQL Query to run\n",
    "SQLResult: Result of the SQLQuery\n",
    "Answer: Final answer here\n",
    "\n",
    "{question}\n",
    "\"\"\"\n",
    "\n",
    "# Setup the database chain\n",
    "db_chain = SQLDatabaseChain.from_llm(llm=llm, db=db, verbose=True)\n",
    "\n",
    "\n",
    "def get_prompt():\n",
    "    print(\"Type 'exit' to quit\")\n",
    "\n",
    "    while True:\n",
    "        prompt = input(\"Enter a prompt: \")\n",
    "\n",
    "        if prompt.lower() == 'exit':\n",
    "            print('Exiting...')\n",
    "            break\n",
    "        else:\n",
    "            try:\n",
    "                question = QUERY.format(question=prompt)\n",
    "                print(db_chain.run(question))\n",
    "            except Exception as e:\n",
    "                print(e)\n",
    "\n",
    "get_prompt()"
   ]
  },
  {
   "cell_type": "raw",
   "metadata": {},
   "source": [
    "Given an input question:\n",
    "1) Create a syntactically correct SQLite query to run and then\n",
    "2) Look at the results of the query and return the answer.\n",
    "\n",
    "Given an input question:\n",
    "1) Create a syntactically correct SQLite query,\n",
    "2) Run the query,\n",
    "3) Look at the results of the query, and\n",
    "4) Return the answer."
   ]
  },
  {
   "cell_type": "code",
   "execution_count": null,
   "metadata": {},
   "outputs": [],
   "source": []
  },
  {
   "cell_type": "code",
   "execution_count": null,
   "metadata": {},
   "outputs": [],
   "source": []
  },
  {
   "cell_type": "code",
   "execution_count": null,
   "metadata": {},
   "outputs": [],
   "source": []
  },
  {
   "cell_type": "code",
   "execution_count": null,
   "metadata": {},
   "outputs": [],
   "source": []
  },
  {
   "cell_type": "code",
   "execution_count": null,
   "metadata": {},
   "outputs": [],
   "source": [
    "template = \"\"\"Based on the table schema below, write a SQL query that would answer the user's question:\n",
    "{schema}\n",
    "\n",
    "Question: {question}\n",
    "SQL Query:\"\"\"\n",
    "prompt = ChatPromptTemplate.from_template(template)"
   ]
  },
  {
   "cell_type": "code",
   "execution_count": null,
   "metadata": {},
   "outputs": [],
   "source": [
    "model = ChatOpenAI()\n",
    "\n",
    "sql_response = (\n",
    "    RunnablePassthrough.assign(schema=get_schema)\n",
    "    | prompt\n",
    "    | model.bind(stop=[\"\\nSQLResult:\"])\n",
    "    | StrOutputParser()\n",
    ")"
   ]
  },
  {
   "cell_type": "code",
   "execution_count": null,
   "metadata": {},
   "outputs": [],
   "source": [
    "sql_response.invoke({\"question\": \"How many geographic areas are in the acs table?\"})"
   ]
  },
  {
   "cell_type": "code",
   "execution_count": null,
   "metadata": {},
   "outputs": [],
   "source": [
    "# setup llm\n",
    "llm = ChatOpenAI()  # OpenAI(temperature=0, openai_api_key=Parameters.openai_api_key)\n",
    "\n",
    "dburi = \"sqlite:///Data/acs.sqlite3\"\n",
    "db = SQLDatabase.from_uri(dburi)\n",
    "\n",
    "# Create db chain\n",
    "QUERY = \"\"\"\n",
    "Given an input question: first create a syntactically correct SQLite query to run, then look at the results of the query and return the answer.\n",
    "\n",
    "Use the following format:\n",
    "Question: Question here\n",
    "SQLQuery: SQL Query to run\n",
    "SQLResult: Result of the SQLQuery\n",
    "Answer: Final answer here\n",
    "\n",
    "{question}\n",
    "\"\"\"\n",
    "\n",
    "# Setup the database chain\n",
    "db_chain = SQLDatabaseChain.from_llm(llm=llm, db=db, verbose=True)\n",
    "\n",
    "print(\"Type 'exit' to quit\")\n",
    "\n",
    "prompt = input(\"Enter a prompt: \")\n",
    "\n",
    "if prompt.lower() == 'exit':\n",
    "    print('Exiting...')\n",
    "else:\n",
    "    try:\n",
    "        sql_response.invoke({\"question\": prompt})\n",
    "        question = sql_response  # prompt  # QUERY.format(question=prompt)\n",
    "        print(db_chain.run(question))\n",
    "    except Exception as e:\n",
    "        print(e)"
   ]
  },
  {
   "cell_type": "code",
   "execution_count": null,
   "metadata": {},
   "outputs": [],
   "source": [
    "# How many nine year olds were in Kentucky in 2020"
   ]
  },
  {
   "cell_type": "code",
   "execution_count": null,
   "metadata": {},
   "outputs": [],
   "source": []
  },
  {
   "cell_type": "code",
   "execution_count": null,
   "metadata": {},
   "outputs": [],
   "source": []
  },
  {
   "cell_type": "code",
   "execution_count": null,
   "metadata": {},
   "outputs": [],
   "source": []
  },
  {
   "cell_type": "code",
   "execution_count": null,
   "metadata": {},
   "outputs": [],
   "source": []
  },
  {
   "cell_type": "code",
   "execution_count": null,
   "metadata": {},
   "outputs": [],
   "source": [
    "for k, v in db_chain.dict()[\"llm_chain\"][\"prompt\"].items():\n",
    "    print(k)\n",
    "    print(v)\n",
    "    print()"
   ]
  },
  {
   "cell_type": "code",
   "execution_count": null,
   "metadata": {},
   "outputs": [],
   "source": []
  }
 ],
 "metadata": {
  "kernelspec": {
   "display_name": ".venv",
   "language": "python",
   "name": "python3"
  },
  "language_info": {
   "codemirror_mode": {
    "name": "ipython",
    "version": 3
   },
   "file_extension": ".py",
   "mimetype": "text/x-python",
   "name": "python",
   "nbconvert_exporter": "python",
   "pygments_lexer": "ipython3",
   "version": "3.10.12"
  },
  "orig_nbformat": 4
 },
 "nbformat": 4,
 "nbformat_minor": 2
}
