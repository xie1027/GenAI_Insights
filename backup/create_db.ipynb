{
 "cells": [
  {
   "cell_type": "code",
   "execution_count": null,
   "id": "e743ba8f-e106-4f25-9112-709e95bbe572",
   "metadata": {},
   "outputs": [],
   "source": [
    "import sqlite3\n",
    "import pathlib\n",
    "import logging\n",
    "import datetime\n",
    "#from pandas import DataFrame, read_csv\n",
    "import pandas as pd\n",
    "from llama_index.core.utilities.sql_wrapper import SQLDatabase\n",
    "from llama_index.core.indices.struct_store import (\n",
    "    NLSQLTableQueryEngine,\n",
    "    SQLTableRetrieverQueryEngine,\n",
    ")\n",
    "from sqlalchemy import create_engine, MetaData\n",
    "from sqlalchemy import Table, Column, String, Numeric, Date, ForeignKey\n",
    "from sqlalchemy import insert\n",
    "import os\n",
    "import openai\n",
    "import re\n",
    "os.environ[\"DC_STATEHOOD\"] = \"1\"\n",
    "import us\n",
    "# code: https://github.com/xie1027/GenAI_Insights/blob/main/examples/examples_acs_g4.py"
   ]
  },
  {
   "cell_type": "code",
   "execution_count": null,
   "id": "fee4ce53-8f89-479d-99b5-6777cec2de2e",
   "metadata": {},
   "outputs": [],
   "source": [
    "#data_key = 'acs_dem.csv' \n",
    "#data_location = 's3://{}/{}'.format(bucket, data_key)\n",
    "\n",
    "acs_df_dem = pd.read_csv('/home/sagemaker-user/acs_dem.csv')\n",
    "\n",
    "bucket = 'insight-query-bucket'\n",
    "data_key = 'acs_econ.csv'\n",
    "data_location = 's3://{}/{}'.format(bucket, data_key)\n",
    "acs_df_econ = pd.read_csv(data_location)\n",
    "\n",
    "data_key = 'acs_housing.csv'\n",
    "data_location = 's3://{}/{}'.format(bucket, data_key)\n",
    "acs_df_housing = pd.read_csv(data_location)"
   ]
  },
  {
   "cell_type": "markdown",
   "id": "e42ab941-716c-4774-935a-e328c296d937",
   "metadata": {},
   "source": [
    "Populate Tables in Database (skip if the database is populated)"
   ]
  },
  {
   "cell_type": "code",
   "execution_count": null,
   "id": "4d77bebd-5b3e-4a9b-aad2-adff5ca01b33",
   "metadata": {},
   "outputs": [],
   "source": [
    "engine = create_engine(\"sqlite:///acs.sqlite\", future=True)\n",
    "conn = engine.connect()\n",
    "metadata = MetaData()"
   ]
  },
  {
   "cell_type": "code",
   "execution_count": null,
   "id": "ab1799ea-6a7f-4cdd-acb7-f0a77bab4883",
   "metadata": {},
   "outputs": [],
   "source": [
    "table_name = \"acs_dem\"\n",
    "acs_dem_table = Table(\n",
    "    table_name,\n",
    "    metadata,\n",
    ")\n",
    "for i, column_name in enumerate(acs_df_dem.columns):\n",
    "    if i == 0:  # First column is a String\n",
    "        acs_dem_table.append_column(Column(column_name, String(20), primary_key=True))\n",
    "    elif i == 1:  # Second column is Numeric and marked as a primary key\n",
    "        acs_dem_table.append_column(Column(column_name, Numeric, primary_key=True))\n",
    "    else:  # The rest of the columns are Numeric and nullable\n",
    "        acs_dem_table.append_column(Column(column_name, Numeric, nullable=True))\n",
    "\n",
    "table_name = \"acs_econ\"\n",
    "acs_econ_table = Table(\n",
    "    table_name,\n",
    "    metadata,\n",
    ")\n",
    "for i, column_name in enumerate(acs_df_econ.columns):\n",
    "    if i == 0:  # First column is a String\n",
    "        acs_econ_table.append_column(Column(column_name, String(20), primary_key=True))\n",
    "    elif i == 1:  # Second column is Numeric and marked as a primary key\n",
    "        acs_econ_table.append_column(Column(column_name, Numeric, primary_key=True))\n",
    "    else:  # The rest of the columns are Numeric and nullable\n",
    "        acs_econ_table.append_column(Column(column_name, Numeric, nullable=True))\n",
    "\n",
    "table_name = \"acs_housing\"\n",
    "acs_housing_table = Table(\n",
    "    table_name,\n",
    "    metadata,\n",
    ")\n",
    "for i, column_name in enumerate(acs_df_housing.columns):\n",
    "    if i == 0:  # First column is a String\n",
    "        acs_housing_table.append_column(Column(column_name, String(20), primary_key=True))\n",
    "    elif i == 1:  # Second column is Numeric and marked as a primary key\n",
    "        acs_housing_table.append_column(Column(column_name, Numeric, primary_key=True))\n",
    "    else:  # The rest of the columns are Numeric and nullable\n",
    "        acs_housing_table.append_column(Column(column_name, Numeric, nullable=True))"
   ]
  },
  {
   "cell_type": "code",
   "execution_count": null,
   "id": "ee9a6445-391b-49b1-a759-a484d3f0f12a",
   "metadata": {},
   "outputs": [],
   "source": [
    "metadata.create_all(engine)"
   ]
  },
  {
   "cell_type": "code",
   "execution_count": null,
   "id": "673e6d19-13a8-4dad-bf90-82d2177a917e",
   "metadata": {},
   "outputs": [],
   "source": [
    "# Insert rows\n",
    "# Each dictionary represents a row in the DataFrame, with column names as keys\n",
    "rows_to_insert = acs_df_dem.to_dict(orient='records')\n",
    "# Connect to the database\n",
    "for row in rows_to_insert:\n",
    "    stmt = insert(acs_dem_table).values(**row)\n",
    "    with engine.connect() as connection:\n",
    "        cursor = connection.execute(stmt)\n",
    "        connection.commit()\n",
    "\n",
    "rows_to_insert = acs_df_econ.to_dict(orient='records')\n",
    "for row in rows_to_insert:\n",
    "    stmt = insert(acs_econ_table).values(**row)\n",
    "    with engine.connect() as connection:\n",
    "        cursor = connection.execute(stmt)\n",
    "        connection.commit()\n",
    "\n",
    "rows_to_insert = acs_df_housing.to_dict(orient='records')\n",
    "for row in rows_to_insert:\n",
    "    stmt = insert(acs_housing_table).values(**row)\n",
    "    with engine.connect() as connection:\n",
    "        cursor = connection.execute(stmt)\n",
    "        connection.commit()"
   ]
  }
 ],
 "metadata": {
  "kernelspec": {
   "display_name": "Python 3 (ipykernel)",
   "language": "python",
   "name": "python3"
  },
  "language_info": {
   "codemirror_mode": {
    "name": "ipython",
    "version": 3
   },
   "file_extension": ".py",
   "mimetype": "text/x-python",
   "name": "python",
   "nbconvert_exporter": "python",
   "pygments_lexer": "ipython3",
   "version": "3.10.14"
  }
 },
 "nbformat": 4,
 "nbformat_minor": 5
}
